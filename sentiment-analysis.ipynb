{
 "cells": [
  {
   "cell_type": "code",
   "execution_count": 86,
   "metadata": {},
   "outputs": [],
   "source": [
    "import numpy as np\n",
    "import pandas as pd\n",
    "import os\n",
    "import spacy\n",
    "import csv"
   ]
  },
  {
   "cell_type": "code",
   "execution_count": 87,
   "metadata": {},
   "outputs": [
    {
     "data": {
      "text/plain": [
       "['.git',\n",
       " '.ipynb_checkpoints',\n",
       " 'emean_emo_cat.csv',\n",
       " 'nawl-analysis.csv',\n",
       " 'przesłanki-autorytet.csv',\n",
       " 'przesłanki.csv',\n",
       " 'README.md',\n",
       " 'sentiment-analysis.ipynb']"
      ]
     },
     "execution_count": 87,
     "metadata": {},
     "output_type": "execute_result"
    }
   ],
   "source": [
    "os.listdir()  "
   ]
  },
  {
   "cell_type": "code",
   "execution_count": 88,
   "metadata": {},
   "outputs": [
    {
     "data": {
      "text/html": [
       "<div>\n",
       "<style scoped>\n",
       "    .dataframe tbody tr th:only-of-type {\n",
       "        vertical-align: middle;\n",
       "    }\n",
       "\n",
       "    .dataframe tbody tr th {\n",
       "        vertical-align: top;\n",
       "    }\n",
       "\n",
       "    .dataframe thead th {\n",
       "        text-align: right;\n",
       "    }\n",
       "</style>\n",
       "<table border=\"1\" class=\"dataframe\">\n",
       "  <thead>\n",
       "    <tr style=\"text-align: right;\">\n",
       "      <th></th>\n",
       "      <th>Typ argumentu (szeregowy lub równoległy)</th>\n",
       "      <th>Konkluzja</th>\n",
       "      <th>Przesłanka 1</th>\n",
       "      <th>Przesłanka 2</th>\n",
       "      <th>Przesłanka 3</th>\n",
       "      <th>Przesłanka 4</th>\n",
       "      <th>Przesłanka 5</th>\n",
       "      <th>Przesłanka 6</th>\n",
       "      <th>Przesłanka 7</th>\n",
       "      <th>Przesłanka 8</th>\n",
       "    </tr>\n",
       "  </thead>\n",
       "  <tbody>\n",
       "    <tr>\n",
       "      <th>0</th>\n",
       "      <td>NaN</td>\n",
       "      <td>Rzuć palenie</td>\n",
       "      <td>Każdy rok palenia skraca życie o prawie trzy m...</td>\n",
       "      <td>NaN</td>\n",
       "      <td>NaN</td>\n",
       "      <td>NaN</td>\n",
       "      <td>NaN</td>\n",
       "      <td>NaN</td>\n",
       "      <td>NaN</td>\n",
       "      <td>NaN</td>\n",
       "    </tr>\n",
       "    <tr>\n",
       "      <th>1</th>\n",
       "      <td>szeregowy</td>\n",
       "      <td>Szczepmy się</td>\n",
       "      <td>Mamy teraz do czynienia z koronawirusem typu d...</td>\n",
       "      <td>[koronawirus typu delta] to wyjątkowo zakaźna ...</td>\n",
       "      <td>Teraz mamy w Polsce już sześć tysięcy zakażeń ...</td>\n",
       "      <td>W województwie lubelskim szpitale są już na gr...</td>\n",
       "      <td>NaN</td>\n",
       "      <td>NaN</td>\n",
       "      <td>NaN</td>\n",
       "      <td>NaN</td>\n",
       "    </tr>\n",
       "    <tr>\n",
       "      <th>2</th>\n",
       "      <td>szeregowy</td>\n",
       "      <td>Unikaj dotykania oczu, nosa i ust</td>\n",
       "      <td>Dłonie dotykają wielu powierzchni, które mogą ...</td>\n",
       "      <td>Jeśli dotkniesz oczu, nosa lub ust zanieczyszc...</td>\n",
       "      <td>NaN</td>\n",
       "      <td>NaN</td>\n",
       "      <td>NaN</td>\n",
       "      <td>NaN</td>\n",
       "      <td>NaN</td>\n",
       "      <td>NaN</td>\n",
       "    </tr>\n",
       "    <tr>\n",
       "      <th>3</th>\n",
       "      <td>równoległy</td>\n",
       "      <td>Bądż aktywny fizycznie i zdrowo się odżywiaj</td>\n",
       "      <td>Regularna aktywność fizyczna jest kluczem do u...</td>\n",
       "      <td>Nawet 3-godzinny spacer raz w tygodniu, zmniej...</td>\n",
       "      <td>Wysiłek fizyczny odgrywa istotną rolę w zapobi...</td>\n",
       "      <td>Brak aktywności fizycznej wiąże się z gorszą j...</td>\n",
       "      <td>Nieodpowiednia dieta oraz brak aktywności fizy...</td>\n",
       "      <td>NaN</td>\n",
       "      <td>NaN</td>\n",
       "      <td>NaN</td>\n",
       "    </tr>\n",
       "    <tr>\n",
       "      <th>4</th>\n",
       "      <td>równoległy</td>\n",
       "      <td>Noś maskę.</td>\n",
       "      <td>Osłanianie twarzy chroni Ciebie i innych.</td>\n",
       "      <td>Maska zatrzymuje rozprzestrzenianie się wirusa</td>\n",
       "      <td>Maska zmniejsza ryzyko infekcji o 75%</td>\n",
       "      <td>NaN</td>\n",
       "      <td>NaN</td>\n",
       "      <td>NaN</td>\n",
       "      <td>NaN</td>\n",
       "      <td>NaN</td>\n",
       "    </tr>\n",
       "  </tbody>\n",
       "</table>\n",
       "</div>"
      ],
      "text/plain": [
       "  Typ argumentu (szeregowy lub równoległy)  \\\n",
       "0                                      NaN   \n",
       "1                                szeregowy   \n",
       "2                                szeregowy   \n",
       "3                               równoległy   \n",
       "4                               równoległy   \n",
       "\n",
       "                                      Konkluzja  \\\n",
       "0                                  Rzuć palenie   \n",
       "1                                  Szczepmy się   \n",
       "2             Unikaj dotykania oczu, nosa i ust   \n",
       "3  Bądż aktywny fizycznie i zdrowo się odżywiaj   \n",
       "4                                    Noś maskę.   \n",
       "\n",
       "                                        Przesłanka 1  \\\n",
       "0  Każdy rok palenia skraca życie o prawie trzy m...   \n",
       "1  Mamy teraz do czynienia z koronawirusem typu d...   \n",
       "2  Dłonie dotykają wielu powierzchni, które mogą ...   \n",
       "3  Regularna aktywność fizyczna jest kluczem do u...   \n",
       "4          Osłanianie twarzy chroni Ciebie i innych.   \n",
       "\n",
       "                                        Przesłanka 2  \\\n",
       "0                                                NaN   \n",
       "1  [koronawirus typu delta] to wyjątkowo zakaźna ...   \n",
       "2  Jeśli dotkniesz oczu, nosa lub ust zanieczyszc...   \n",
       "3  Nawet 3-godzinny spacer raz w tygodniu, zmniej...   \n",
       "4     Maska zatrzymuje rozprzestrzenianie się wirusa   \n",
       "\n",
       "                                        Przesłanka 3  \\\n",
       "0                                                NaN   \n",
       "1  Teraz mamy w Polsce już sześć tysięcy zakażeń ...   \n",
       "2                                                NaN   \n",
       "3  Wysiłek fizyczny odgrywa istotną rolę w zapobi...   \n",
       "4              Maska zmniejsza ryzyko infekcji o 75%   \n",
       "\n",
       "                                        Przesłanka 4  \\\n",
       "0                                                NaN   \n",
       "1  W województwie lubelskim szpitale są już na gr...   \n",
       "2                                                NaN   \n",
       "3  Brak aktywności fizycznej wiąże się z gorszą j...   \n",
       "4                                                NaN   \n",
       "\n",
       "                                        Przesłanka 5 Przesłanka 6  \\\n",
       "0                                                NaN          NaN   \n",
       "1                                                NaN          NaN   \n",
       "2                                                NaN          NaN   \n",
       "3  Nieodpowiednia dieta oraz brak aktywności fizy...          NaN   \n",
       "4                                                NaN          NaN   \n",
       "\n",
       "  Przesłanka 7 Przesłanka 8  \n",
       "0          NaN          NaN  \n",
       "1          NaN          NaN  \n",
       "2          NaN          NaN  \n",
       "3          NaN          NaN  \n",
       "4          NaN          NaN  "
      ]
     },
     "execution_count": 88,
     "metadata": {},
     "output_type": "execute_result"
    }
   ],
   "source": [
    "plik = 'przesłanki.csv'\n",
    "data = pd.read_csv(plik, encoding='windows-1250', header=[0])\n",
    "data.head()"
   ]
  },
  {
   "cell_type": "code",
   "execution_count": 89,
   "metadata": {},
   "outputs": [
    {
     "data": {
      "text/plain": [
       "(258, 10)"
      ]
     },
     "execution_count": 89,
     "metadata": {},
     "output_type": "execute_result"
    }
   ],
   "source": [
    "data.shape"
   ]
  },
  {
   "cell_type": "code",
   "execution_count": 90,
   "metadata": {},
   "outputs": [],
   "source": [
    "data = data.drop(labels=38, axis=0)"
   ]
  },
  {
   "cell_type": "markdown",
   "metadata": {},
   "source": [
    "### Braki danych"
   ]
  },
  {
   "cell_type": "code",
   "execution_count": 91,
   "metadata": {},
   "outputs": [
    {
     "name": "stdout",
     "output_type": "stream",
     "text": [
      "                                          Brakujące dane:\n",
      "Typ argumentu (szeregowy lub równoległy)                3\n",
      "Konkluzja                                               0\n",
      "Przesłanka 1                                            1\n",
      "Przesłanka 2                                           10\n",
      "Przesłanka 3                                          102\n",
      "Przesłanka 4                                          178\n",
      "Przesłanka 5                                          224\n",
      "Przesłanka 6                                          249\n",
      "Przesłanka 7                                          253\n",
      "Przesłanka 8                                          253\n"
     ]
    }
   ],
   "source": [
    "braki_danych = pd.concat([data.isnull().sum()], axis = 1, keys = [\"Brakujące dane:\"])\n",
    "print(braki_danych)"
   ]
  },
  {
   "cell_type": "code",
   "execution_count": 92,
   "metadata": {},
   "outputs": [
    {
     "data": {
      "text/plain": [
       "'Dym tytoniowy ma negatywny wpływ na stan układu oddechowego'"
      ]
     },
     "execution_count": 92,
     "metadata": {},
     "output_type": "execute_result"
    }
   ],
   "source": [
    "data[\"Przesłanka 3\"][5]"
   ]
  },
  {
   "cell_type": "code",
   "execution_count": 93,
   "metadata": {},
   "outputs": [
    {
     "data": {
      "text/plain": [
       "równoległy    146\n",
       "szeregowy     107\n",
       "mieszany        1\n",
       "Name: Typ argumentu (szeregowy lub równoległy), dtype: int64"
      ]
     },
     "execution_count": 93,
     "metadata": {},
     "output_type": "execute_result"
    }
   ],
   "source": [
    "data[\"Typ argumentu (szeregowy lub równoległy)\"].value_counts()"
   ]
  },
  {
   "cell_type": "markdown",
   "metadata": {},
   "source": [
    "## Spacy - pobranie pakietów"
   ]
  },
  {
   "cell_type": "code",
   "execution_count": 94,
   "metadata": {},
   "outputs": [],
   "source": [
    "nlp = spacy.load(\"pl_core_news_lg\")"
   ]
  },
  {
   "cell_type": "code",
   "execution_count": 95,
   "metadata": {},
   "outputs": [
    {
     "name": "stdout",
     "output_type": "stream",
     "text": [
      "3.2.1\n"
     ]
    }
   ],
   "source": [
    "print(spacy.__version__)  "
   ]
  },
  {
   "cell_type": "markdown",
   "metadata": {},
   "source": [
    "### Przykład"
   ]
  },
  {
   "cell_type": "code",
   "execution_count": 96,
   "metadata": {},
   "outputs": [],
   "source": [
    "s = str(data[\"Konkluzja\"][5])\n",
    "doc = nlp(s)"
   ]
  },
  {
   "cell_type": "code",
   "execution_count": 97,
   "metadata": {
    "scrolled": true
   },
   "outputs": [
    {
     "name": "stdout",
     "output_type": "stream",
     "text": [
      "Zrezygnuj,zrezygnować\n",
      "z,z\n",
      "używek,używka\n",
      ".,.\n"
     ]
    }
   ],
   "source": [
    "for token in doc:\n",
    "    print(f\"{token},{token.lemma_}\")"
   ]
  },
  {
   "cell_type": "markdown",
   "metadata": {},
   "source": [
    "## Tokenizacja, lematyzacja"
   ]
  },
  {
   "cell_type": "code",
   "execution_count": 101,
   "metadata": {},
   "outputs": [],
   "source": [
    "with open('przesłanki.csv') as csv_file:\n",
    "    csv_reader = csv.reader(csv_file, delimiter=',')\n",
    "    next(csv_reader)\n",
    "    new_list = []\n",
    "    for row in csv_reader: \n",
    "        argument = []\n",
    "        for column in range(1, 8):\n",
    "            argument += [(x.lemma_) for x in nlp(row[column])]\n",
    "        new_list.append(argument)"
   ]
  },
  {
   "cell_type": "code",
   "execution_count": 102,
   "metadata": {},
   "outputs": [],
   "source": [
    "my_list = []\n",
    "for i in new_list:\n",
    "    argument = []\n",
    "    for word in i:\n",
    "        word_replaced = word.replace(\"żyto\", \"życie\").replace('\\xa0', '')\n",
    "        argument.append(word_replaced)\n",
    "    my_list.append(argument)"
   ]
  },
  {
   "cell_type": "markdown",
   "metadata": {},
   "source": [
    "## Przesłanki - autorytet"
   ]
  },
  {
   "cell_type": "code",
   "execution_count": 103,
   "metadata": {},
   "outputs": [
    {
     "data": {
      "text/html": [
       "<div>\n",
       "<style scoped>\n",
       "    .dataframe tbody tr th:only-of-type {\n",
       "        vertical-align: middle;\n",
       "    }\n",
       "\n",
       "    .dataframe tbody tr th {\n",
       "        vertical-align: top;\n",
       "    }\n",
       "\n",
       "    .dataframe thead th {\n",
       "        text-align: right;\n",
       "    }\n",
       "</style>\n",
       "<table border=\"1\" class=\"dataframe\">\n",
       "  <thead>\n",
       "    <tr style=\"text-align: right;\">\n",
       "      <th></th>\n",
       "      <th>Typ argumentu (szeregowy lub równoległy)</th>\n",
       "      <th>Konkluzja</th>\n",
       "      <th>Przesłanka 1</th>\n",
       "      <th>Przesłanka 2</th>\n",
       "      <th>Przesłanka 3</th>\n",
       "      <th>Przesłanka 4</th>\n",
       "      <th>Przesłanka 5</th>\n",
       "      <th>Przesłanka 6</th>\n",
       "      <th>Przesłanka 7</th>\n",
       "      <th>Przesłanka 8</th>\n",
       "    </tr>\n",
       "  </thead>\n",
       "  <tbody>\n",
       "    <tr>\n",
       "      <th>0</th>\n",
       "      <td>szeregowy</td>\n",
       "      <td>Zrezygnuj z używek.</td>\n",
       "      <td>Światowa Organizacja Zdrowia (WHO) alarmuje, ż...</td>\n",
       "      <td>Koronawirus atakuje drogi oddechowe i powoduj...</td>\n",
       "      <td>Dym tytoniowy ma negatywny wpływ na stan układ...</td>\n",
       "      <td>U palaczy mogą wystąpić cięższe dolegliwości ...</td>\n",
       "      <td>NaN</td>\n",
       "      <td>NaN</td>\n",
       "      <td>NaN</td>\n",
       "      <td>NaN</td>\n",
       "    </tr>\n",
       "    <tr>\n",
       "      <th>1</th>\n",
       "      <td>szeregowy</td>\n",
       "      <td>Zwiększ ilość ruchu</td>\n",
       "      <td>W redukcji wagi ważny jest także ruch.</td>\n",
       "      <td>Według szacunków organizacji World Cancer Rese...</td>\n",
       "      <td>NaN</td>\n",
       "      <td>NaN</td>\n",
       "      <td>NaN</td>\n",
       "      <td>NaN</td>\n",
       "      <td>NaN</td>\n",
       "      <td>NaN</td>\n",
       "    </tr>\n",
       "    <tr>\n",
       "      <th>2</th>\n",
       "      <td>szeregowy</td>\n",
       "      <td>Nie bój się szczepionki</td>\n",
       "      <td>Naukowcy przekonują, że szczepionki są dużo ko...</td>\n",
       "      <td>Dzięki nim układ odpornościowy zwalcza infekcj...</td>\n",
       "      <td>NaN</td>\n",
       "      <td>NaN</td>\n",
       "      <td>NaN</td>\n",
       "      <td>NaN</td>\n",
       "      <td>NaN</td>\n",
       "      <td>NaN</td>\n",
       "    </tr>\n",
       "    <tr>\n",
       "      <th>3</th>\n",
       "      <td>równoległy</td>\n",
       "      <td>Polaku, myj ręce!</td>\n",
       "      <td>Każde dotknięcie klamki, banknotu czy poręczy ...</td>\n",
       "      <td>Badania naukowców z Uniwersytetu Michigan udow...</td>\n",
       "      <td>Światowa Organizacja Zdrowia szacuje, że 69 pr...</td>\n",
       "      <td>NaN</td>\n",
       "      <td>NaN</td>\n",
       "      <td>NaN</td>\n",
       "      <td>NaN</td>\n",
       "      <td>NaN</td>\n",
       "    </tr>\n",
       "    <tr>\n",
       "      <th>4</th>\n",
       "      <td>szeregowy</td>\n",
       "      <td>Szczepienia są bezpieczne</td>\n",
       "      <td>Wśród Polaków szczepienie przeciwko koronawiru...</td>\n",
       "      <td>Wątpliwości budzi przede wszystkim bezpieczeńs...</td>\n",
       "      <td>Przedstawiciele rządu przypominają jednak, że ...</td>\n",
       "      <td></td>\n",
       "      <td>NaN</td>\n",
       "      <td>NaN</td>\n",
       "      <td>NaN</td>\n",
       "      <td>NaN</td>\n",
       "    </tr>\n",
       "  </tbody>\n",
       "</table>\n",
       "</div>"
      ],
      "text/plain": [
       "  Typ argumentu (szeregowy lub równoległy)                  Konkluzja  \\\n",
       "0                                szeregowy        Zrezygnuj z używek.   \n",
       "1                                szeregowy        Zwiększ ilość ruchu   \n",
       "2                                szeregowy    Nie bój się szczepionki   \n",
       "3                               równoległy          Polaku, myj ręce!   \n",
       "4                                szeregowy  Szczepienia są bezpieczne   \n",
       "\n",
       "                                        Przesłanka 1  \\\n",
       "0  Światowa Organizacja Zdrowia (WHO) alarmuje, ż...   \n",
       "1             W redukcji wagi ważny jest także ruch.   \n",
       "2  Naukowcy przekonują, że szczepionki są dużo ko...   \n",
       "3  Każde dotknięcie klamki, banknotu czy poręczy ...   \n",
       "4  Wśród Polaków szczepienie przeciwko koronawiru...   \n",
       "\n",
       "                                        Przesłanka 2  \\\n",
       "0   Koronawirus atakuje drogi oddechowe i powoduj...   \n",
       "1  Według szacunków organizacji World Cancer Rese...   \n",
       "2  Dzięki nim układ odpornościowy zwalcza infekcj...   \n",
       "3  Badania naukowców z Uniwersytetu Michigan udow...   \n",
       "4  Wątpliwości budzi przede wszystkim bezpieczeńs...   \n",
       "\n",
       "                                        Przesłanka 3  \\\n",
       "0  Dym tytoniowy ma negatywny wpływ na stan układ...   \n",
       "1                                                NaN   \n",
       "2                                                NaN   \n",
       "3  Światowa Organizacja Zdrowia szacuje, że 69 pr...   \n",
       "4  Przedstawiciele rządu przypominają jednak, że ...   \n",
       "\n",
       "                                        Przesłanka 4 Przesłanka 5  \\\n",
       "0   U palaczy mogą wystąpić cięższe dolegliwości ...          NaN   \n",
       "1                                                NaN          NaN   \n",
       "2                                                NaN          NaN   \n",
       "3                                                NaN          NaN   \n",
       "4                                                             NaN   \n",
       "\n",
       "   Przesłanka 6  Przesłanka 7  Przesłanka 8  \n",
       "0           NaN           NaN           NaN  \n",
       "1           NaN           NaN           NaN  \n",
       "2           NaN           NaN           NaN  \n",
       "3           NaN           NaN           NaN  \n",
       "4           NaN           NaN           NaN  "
      ]
     },
     "execution_count": 103,
     "metadata": {},
     "output_type": "execute_result"
    }
   ],
   "source": [
    "plik = 'przesłanki-autorytet.csv'\n",
    "data_autorytet = pd.read_csv(plik, encoding='windows-1250', header=[0])\n",
    "data_autorytet.head()"
   ]
  },
  {
   "cell_type": "code",
   "execution_count": 104,
   "metadata": {},
   "outputs": [
    {
     "name": "stdout",
     "output_type": "stream",
     "text": [
      "                                          Brakujące dane:\n",
      "Typ argumentu (szeregowy lub równoległy)                0\n",
      "Konkluzja                                               0\n",
      "Przesłanka 1                                            0\n",
      "Przesłanka 2                                            0\n",
      "Przesłanka 3                                            6\n",
      "Przesłanka 4                                           10\n",
      "Przesłanka 5                                           16\n",
      "Przesłanka 6                                           18\n",
      "Przesłanka 7                                           18\n",
      "Przesłanka 8                                           18\n"
     ]
    }
   ],
   "source": [
    "braki_danych = pd.concat([data_autorytet.isnull().sum()], axis = 1, keys = [\"Brakujące dane:\"])\n",
    "print(braki_danych)"
   ]
  },
  {
   "cell_type": "code",
   "execution_count": 129,
   "metadata": {},
   "outputs": [],
   "source": [
    "with open('przesłanki-autorytet.csv') as csv_file:\n",
    "    csv_reader = csv.reader(csv_file, delimiter=',')\n",
    "    next(csv_reader)\n",
    "    list_auto = []\n",
    "    for row in csv_reader: \n",
    "        argument = []\n",
    "        for column in range(1, 8):\n",
    "            argument += [(x.lemma_) for x in nlp(row[column])]\n",
    "        list_auto.append(argument)"
   ]
  },
  {
   "cell_type": "code",
   "execution_count": 132,
   "metadata": {},
   "outputs": [],
   "source": [
    "my_list_auto = []\n",
    "for i in list_auto:\n",
    "    argument = []\n",
    "    for word in i:\n",
    "        word_replaced = word.replace(\"żyto\", \"życie\").replace('\\xa0', '')\n",
    "        argument.append(word_replaced)\n",
    "    my_list_auto.append(argument)"
   ]
  },
  {
   "cell_type": "markdown",
   "metadata": {},
   "source": [
    "## Emean_emo_cat"
   ]
  },
  {
   "cell_type": "code",
   "execution_count": 133,
   "metadata": {},
   "outputs": [
    {
     "data": {
      "text/html": [
       "<div>\n",
       "<style scoped>\n",
       "    .dataframe tbody tr th:only-of-type {\n",
       "        vertical-align: middle;\n",
       "    }\n",
       "\n",
       "    .dataframe tbody tr th {\n",
       "        vertical-align: top;\n",
       "    }\n",
       "\n",
       "    .dataframe thead th {\n",
       "        text-align: right;\n",
       "    }\n",
       "</style>\n",
       "<table border=\"1\" class=\"dataframe\">\n",
       "  <thead>\n",
       "    <tr style=\"text-align: right;\">\n",
       "      <th></th>\n",
       "      <th>Unnamed: 0</th>\n",
       "      <th>plWordNet ID</th>\n",
       "      <th>lemma</th>\n",
       "      <th>phrase</th>\n",
       "      <th>N</th>\n",
       "      <th>VAL M</th>\n",
       "      <th>ARO M</th>\n",
       "      <th>ANG M</th>\n",
       "      <th>DIS M</th>\n",
       "      <th>FEA M</th>\n",
       "      <th>...</th>\n",
       "      <th>ANG D</th>\n",
       "      <th>DIS D</th>\n",
       "      <th>FEA D</th>\n",
       "      <th>SAD D</th>\n",
       "      <th>ANT D</th>\n",
       "      <th>HAP D</th>\n",
       "      <th>SUR D</th>\n",
       "      <th>TRU D</th>\n",
       "      <th>NEU D</th>\n",
       "      <th>classification</th>\n",
       "    </tr>\n",
       "  </thead>\n",
       "  <tbody>\n",
       "    <tr>\n",
       "      <th>0</th>\n",
       "      <td>0</td>\n",
       "      <td>100097</td>\n",
       "      <td>zajawka</td>\n",
       "      <td>zajawka filmu</td>\n",
       "      <td>52</td>\n",
       "      <td>0,923076923076923</td>\n",
       "      <td>1,51923076923077</td>\n",
       "      <td>0,423076923076923</td>\n",
       "      <td>0,346153846153846</td>\n",
       "      <td>0,442307692307692</td>\n",
       "      <td>...</td>\n",
       "      <td>5,18062088685894</td>\n",
       "      <td>5,23424953260128</td>\n",
       "      <td>5,16792928207377</td>\n",
       "      <td>5,19447972290816</td>\n",
       "      <td>3,87381376704755</td>\n",
       "      <td>4,35618354559508</td>\n",
       "      <td>4,71480632473062</td>\n",
       "      <td>4,91246631980535</td>\n",
       "      <td>3,35029246343814</td>\n",
       "      <td>ANT</td>\n",
       "    </tr>\n",
       "    <tr>\n",
       "      <th>1</th>\n",
       "      <td>1</td>\n",
       "      <td>10010</td>\n",
       "      <td>wonny</td>\n",
       "      <td>wonny olejek</td>\n",
       "      <td>52</td>\n",
       "      <td>1,15384615384615</td>\n",
       "      <td>1,51923076923077</td>\n",
       "      <td>0,326923076923077</td>\n",
       "      <td>0,288461538461538</td>\n",
       "      <td>0,269230769230769</td>\n",
       "      <td>...</td>\n",
       "      <td>5,16027836550318</td>\n",
       "      <td>5,18080508369055</td>\n",
       "      <td>5,1978231958997</td>\n",
       "      <td>5,18966036636857</td>\n",
       "      <td>4,32597340564473</td>\n",
       "      <td>3,9597100017469</td>\n",
       "      <td>4,63737256975455</td>\n",
       "      <td>4,56260902798746</td>\n",
       "      <td>3,10497520730022</td>\n",
       "      <td>HAP</td>\n",
       "    </tr>\n",
       "    <tr>\n",
       "      <th>2</th>\n",
       "      <td>2</td>\n",
       "      <td>10027</td>\n",
       "      <td>wprawny</td>\n",
       "      <td>wprawny ruch</td>\n",
       "      <td>56</td>\n",
       "      <td>1,08928571428571</td>\n",
       "      <td>1,30357142857143</td>\n",
       "      <td>0,267857142857143</td>\n",
       "      <td>0,267857142857143</td>\n",
       "      <td>0,303571428571429</td>\n",
       "      <td>...</td>\n",
       "      <td>4,97998250130335</td>\n",
       "      <td>4,97422378232077</td>\n",
       "      <td>4,94950472605383</td>\n",
       "      <td>4,99042414080326</td>\n",
       "      <td>4,14667180332257</td>\n",
       "      <td>4,18741346525989</td>\n",
       "      <td>4,58990338516643</td>\n",
       "      <td>4,20747262725181</td>\n",
       "      <td>2,73188113221548</td>\n",
       "      <td>TRU</td>\n",
       "    </tr>\n",
       "    <tr>\n",
       "      <th>3</th>\n",
       "      <td>3</td>\n",
       "      <td>100288</td>\n",
       "      <td>kopia</td>\n",
       "      <td>kopia zapasowa</td>\n",
       "      <td>48</td>\n",
       "      <td>0,916666666666667</td>\n",
       "      <td>1,02083333333333</td>\n",
       "      <td>0,291666666666667</td>\n",
       "      <td>0,3125</td>\n",
       "      <td>0,416666666666667</td>\n",
       "      <td>...</td>\n",
       "      <td>5,01651814639793</td>\n",
       "      <td>4,99984145680847</td>\n",
       "      <td>4,92998924720183</td>\n",
       "      <td>4,97342018159838</td>\n",
       "      <td>4,19659015903944</td>\n",
       "      <td>4,55603816763537</td>\n",
       "      <td>4,96609556515371</td>\n",
       "      <td>4,12506825767858</td>\n",
       "      <td>2,69677085956943</td>\n",
       "      <td>TRU</td>\n",
       "    </tr>\n",
       "    <tr>\n",
       "      <th>4</th>\n",
       "      <td>4</td>\n",
       "      <td>100381</td>\n",
       "      <td>wombat</td>\n",
       "      <td>wombat wombata</td>\n",
       "      <td>47</td>\n",
       "      <td>0,340425531914894</td>\n",
       "      <td>0,787234042553192</td>\n",
       "      <td>0,425531914893617</td>\n",
       "      <td>0,468085106382979</td>\n",
       "      <td>0,531914893617021</td>\n",
       "      <td>...</td>\n",
       "      <td>4,61035885742292</td>\n",
       "      <td>4,57995827809717</td>\n",
       "      <td>4,52522536716789</td>\n",
       "      <td>4,62461314530665</td>\n",
       "      <td>4,45369893924012</td>\n",
       "      <td>4,29751829402049</td>\n",
       "      <td>4,26713782450451</td>\n",
       "      <td>4,53147114301294</td>\n",
       "      <td>1,87573890903964</td>\n",
       "      <td>NEU</td>\n",
       "    </tr>\n",
       "  </tbody>\n",
       "</table>\n",
       "<p>5 rows × 35 columns</p>\n",
       "</div>"
      ],
      "text/plain": [
       "   Unnamed: 0  plWordNet ID    lemma          phrase   N              VAL M  \\\n",
       "0           0        100097  zajawka   zajawka filmu  52  0,923076923076923   \n",
       "1           1         10010    wonny    wonny olejek  52   1,15384615384615   \n",
       "2           2         10027  wprawny    wprawny ruch  56   1,08928571428571   \n",
       "3           3        100288    kopia  kopia zapasowa  48  0,916666666666667   \n",
       "4           4        100381   wombat  wombat wombata  47  0,340425531914894   \n",
       "\n",
       "               ARO M              ANG M              DIS M              FEA M  \\\n",
       "0   1,51923076923077  0,423076923076923  0,346153846153846  0,442307692307692   \n",
       "1   1,51923076923077  0,326923076923077  0,288461538461538  0,269230769230769   \n",
       "2   1,30357142857143  0,267857142857143  0,267857142857143  0,303571428571429   \n",
       "3   1,02083333333333  0,291666666666667             0,3125  0,416666666666667   \n",
       "4  0,787234042553192  0,425531914893617  0,468085106382979  0,531914893617021   \n",
       "\n",
       "   ...             ANG D             DIS D             FEA D  \\\n",
       "0  ...  5,18062088685894  5,23424953260128  5,16792928207377   \n",
       "1  ...  5,16027836550318  5,18080508369055   5,1978231958997   \n",
       "2  ...  4,97998250130335  4,97422378232077  4,94950472605383   \n",
       "3  ...  5,01651814639793  4,99984145680847  4,92998924720183   \n",
       "4  ...  4,61035885742292  4,57995827809717  4,52522536716789   \n",
       "\n",
       "              SAD D             ANT D             HAP D             SUR D  \\\n",
       "0  5,19447972290816  3,87381376704755  4,35618354559508  4,71480632473062   \n",
       "1  5,18966036636857  4,32597340564473   3,9597100017469  4,63737256975455   \n",
       "2  4,99042414080326  4,14667180332257  4,18741346525989  4,58990338516643   \n",
       "3  4,97342018159838  4,19659015903944  4,55603816763537  4,96609556515371   \n",
       "4  4,62461314530665  4,45369893924012  4,29751829402049  4,26713782450451   \n",
       "\n",
       "              TRU D             NEU D classification  \n",
       "0  4,91246631980535  3,35029246343814            ANT  \n",
       "1  4,56260902798746  3,10497520730022            HAP  \n",
       "2  4,20747262725181  2,73188113221548            TRU  \n",
       "3  4,12506825767858  2,69677085956943            TRU  \n",
       "4  4,53147114301294  1,87573890903964            NEU  \n",
       "\n",
       "[5 rows x 35 columns]"
      ]
     },
     "execution_count": 133,
     "metadata": {},
     "output_type": "execute_result"
    }
   ],
   "source": [
    "emo_data = pd.read_csv('emean_emo_cat.csv', encoding= 'windows-1250')\n",
    "emo_data.head()"
   ]
  },
  {
   "cell_type": "code",
   "execution_count": 134,
   "metadata": {},
   "outputs": [],
   "source": [
    "emo_data.drop('Unnamed: 0', axis=1, inplace=True)"
   ]
  },
  {
   "cell_type": "code",
   "execution_count": 135,
   "metadata": {},
   "outputs": [],
   "source": [
    "import locale\n",
    "from locale import atof"
   ]
  },
  {
   "cell_type": "code",
   "execution_count": 136,
   "metadata": {},
   "outputs": [],
   "source": [
    "locale.setlocale(locale.LC_NUMERIC, '')\n",
    "emo_data[\"VAL M\"] = emo_data[\"VAL M\"].map(atof)"
   ]
  },
  {
   "cell_type": "code",
   "execution_count": 137,
   "metadata": {},
   "outputs": [],
   "source": [
    "locale.setlocale(locale.LC_NUMERIC, '')\n",
    "emo_data[\"ARO M\"] = emo_data[\"ARO M\"].map(atof)"
   ]
  },
  {
   "cell_type": "code",
   "execution_count": 138,
   "metadata": {},
   "outputs": [],
   "source": [
    "locale.setlocale(locale.LC_NUMERIC, '')\n",
    "emo_data[\"TRU M\"] = emo_data[\"TRU M\"].map(atof)"
   ]
  },
  {
   "cell_type": "code",
   "execution_count": 139,
   "metadata": {},
   "outputs": [],
   "source": [
    "locale.setlocale(locale.LC_NUMERIC, '')\n",
    "emo_data[\"TRU D\"] = emo_data[\"TRU D\"].map(atof)"
   ]
  },
  {
   "cell_type": "code",
   "execution_count": 140,
   "metadata": {},
   "outputs": [],
   "source": [
    "emean_emo_cat = emo_data.drop(['plWordNet ID', 'phrase', 'N', 'ANG M', 'DIS M', 'FEA M', 'SAD M', 'ANT M','HAP M','SUR M',\n",
    "               'ANG SD', 'DIS SD', 'FEA SD', 'SAD SD', 'ANT SD','HAP SD','SUR SD', 'VAL SD', 'ARO SD', 'TRU SD',\n",
    "               'ANG D', 'DIS D', 'FEA D', 'SAD D', 'ANT D','HAP D','SUR D', 'NEU D'], axis = 1)"
   ]
  },
  {
   "cell_type": "markdown",
   "metadata": {},
   "source": [
    "### Trust - średnie wartości"
   ]
  },
  {
   "cell_type": "code",
   "execution_count": 141,
   "metadata": {},
   "outputs": [
    {
     "data": {
      "text/plain": [
       "count    6000.000000\n",
       "mean        0.648133\n",
       "std         0.357791\n",
       "min         0.039216\n",
       "25%         0.407407\n",
       "50%         0.551020\n",
       "75%         0.781818\n",
       "max         2.690909\n",
       "Name: TRU M, dtype: float64"
      ]
     },
     "execution_count": 141,
     "metadata": {},
     "output_type": "execute_result"
    }
   ],
   "source": [
    "emean_emo_cat[\"TRU M\"].describe()"
   ]
  },
  {
   "cell_type": "code",
   "execution_count": 142,
   "metadata": {},
   "outputs": [],
   "source": [
    "trust_data = emean_emo_cat.copy()"
   ]
  },
  {
   "cell_type": "code",
   "execution_count": 143,
   "metadata": {},
   "outputs": [],
   "source": [
    "index_names = trust_data[trust_data['TRU M'] <= trust_data[\"TRU M\"].mean()].index\n",
    "trust_data.drop(index_names, inplace = True)"
   ]
  },
  {
   "cell_type": "code",
   "execution_count": 144,
   "metadata": {},
   "outputs": [
    {
     "data": {
      "text/plain": [
       "TRU    625\n",
       "HAP    567\n",
       "ANT    488\n",
       "NEU    213\n",
       "SUR    133\n",
       "FEA     48\n",
       "SAD     42\n",
       "DIS     32\n",
       "ANG      9\n",
       "Name: classification, dtype: int64"
      ]
     },
     "execution_count": 144,
     "metadata": {},
     "output_type": "execute_result"
    }
   ],
   "source": [
    "trust_data[\"classification\"].value_counts()"
   ]
  },
  {
   "cell_type": "code",
   "execution_count": 145,
   "metadata": {},
   "outputs": [
    {
     "data": {
      "text/plain": [
       "count    2157.000000\n",
       "mean        0.865079\n",
       "std         0.478204\n",
       "min        -1.000000\n",
       "25%         0.560000\n",
       "50%         0.830189\n",
       "75%         1.176471\n",
       "max         2.444444\n",
       "Name: VAL M, dtype: float64"
      ]
     },
     "execution_count": 145,
     "metadata": {},
     "output_type": "execute_result"
    }
   ],
   "source": [
    "trust_data[\"VAL M\"].describe()"
   ]
  },
  {
   "cell_type": "code",
   "execution_count": 146,
   "metadata": {},
   "outputs": [
    {
     "data": {
      "text/plain": [
       "count    2157.000000\n",
       "mean        1.367427\n",
       "std         0.374761\n",
       "min         0.577778\n",
       "25%         1.085106\n",
       "50%         1.313725\n",
       "75%         1.596154\n",
       "max         2.660377\n",
       "Name: ARO M, dtype: float64"
      ]
     },
     "execution_count": 146,
     "metadata": {},
     "output_type": "execute_result"
    }
   ],
   "source": [
    "trust_data[\"ARO M\"].describe()"
   ]
  },
  {
   "cell_type": "markdown",
   "metadata": {},
   "source": [
    "### Trust - według klasyfikacja"
   ]
  },
  {
   "cell_type": "code",
   "execution_count": 147,
   "metadata": {},
   "outputs": [],
   "source": [
    "trust_data_category = emean_emo_cat.copy()"
   ]
  },
  {
   "cell_type": "code",
   "execution_count": 148,
   "metadata": {},
   "outputs": [],
   "source": [
    "index_names = trust_data_category[trust_data_category[\"classification\"] != \"TRU\"].index\n",
    "trust_data_category.drop(index_names, inplace = True)"
   ]
  },
  {
   "cell_type": "code",
   "execution_count": 149,
   "metadata": {},
   "outputs": [
    {
     "data": {
      "text/plain": [
       "TRU    625\n",
       "Name: classification, dtype: int64"
      ]
     },
     "execution_count": 149,
     "metadata": {},
     "output_type": "execute_result"
    }
   ],
   "source": [
    "trust_data_category[\"classification\"].value_counts()"
   ]
  },
  {
   "cell_type": "code",
   "execution_count": 150,
   "metadata": {},
   "outputs": [
    {
     "data": {
      "text/plain": [
       "count    625.000000\n",
       "mean       0.856628\n",
       "std        0.325395\n",
       "min       -0.140000\n",
       "25%        0.627451\n",
       "50%        0.826923\n",
       "75%        1.078431\n",
       "max        1.884615\n",
       "Name: VAL M, dtype: float64"
      ]
     },
     "execution_count": 150,
     "metadata": {},
     "output_type": "execute_result"
    }
   ],
   "source": [
    "trust_data_category[\"VAL M\"].describe()"
   ]
  },
  {
   "cell_type": "code",
   "execution_count": 151,
   "metadata": {},
   "outputs": [
    {
     "data": {
      "text/plain": [
       "count    625.000000\n",
       "mean       1.270278\n",
       "std        0.282682\n",
       "min        0.711538\n",
       "25%        1.061224\n",
       "50%        1.229167\n",
       "75%        1.469388\n",
       "max        2.384615\n",
       "Name: ARO M, dtype: float64"
      ]
     },
     "execution_count": 151,
     "metadata": {},
     "output_type": "execute_result"
    }
   ],
   "source": [
    "trust_data_category[\"ARO M\"].describe()"
   ]
  },
  {
   "cell_type": "code",
   "execution_count": 152,
   "metadata": {},
   "outputs": [
    {
     "data": {
      "text/html": [
       "<div>\n",
       "<style scoped>\n",
       "    .dataframe tbody tr th:only-of-type {\n",
       "        vertical-align: middle;\n",
       "    }\n",
       "\n",
       "    .dataframe tbody tr th {\n",
       "        vertical-align: top;\n",
       "    }\n",
       "\n",
       "    .dataframe thead th {\n",
       "        text-align: right;\n",
       "    }\n",
       "</style>\n",
       "<table border=\"1\" class=\"dataframe\">\n",
       "  <thead>\n",
       "    <tr style=\"text-align: right;\">\n",
       "      <th></th>\n",
       "      <th>lemma</th>\n",
       "      <th>VAL M</th>\n",
       "      <th>ARO M</th>\n",
       "      <th>TRU M</th>\n",
       "      <th>TRU D</th>\n",
       "      <th>classification</th>\n",
       "    </tr>\n",
       "  </thead>\n",
       "  <tbody>\n",
       "    <tr>\n",
       "      <th>2</th>\n",
       "      <td>wprawny</td>\n",
       "      <td>1.089286</td>\n",
       "      <td>1.303571</td>\n",
       "      <td>1.160714</td>\n",
       "      <td>4.207473</td>\n",
       "      <td>TRU</td>\n",
       "    </tr>\n",
       "    <tr>\n",
       "      <th>3</th>\n",
       "      <td>kopia</td>\n",
       "      <td>0.916667</td>\n",
       "      <td>1.020833</td>\n",
       "      <td>1.270833</td>\n",
       "      <td>4.125068</td>\n",
       "      <td>TRU</td>\n",
       "    </tr>\n",
       "    <tr>\n",
       "      <th>5</th>\n",
       "      <td>pułkownik</td>\n",
       "      <td>0.630435</td>\n",
       "      <td>1.130435</td>\n",
       "      <td>1.065217</td>\n",
       "      <td>3.915806</td>\n",
       "      <td>TRU</td>\n",
       "    </tr>\n",
       "    <tr>\n",
       "      <th>10</th>\n",
       "      <td>wskazówka</td>\n",
       "      <td>0.800000</td>\n",
       "      <td>1.000000</td>\n",
       "      <td>1.288889</td>\n",
       "      <td>4.145632</td>\n",
       "      <td>TRU</td>\n",
       "    </tr>\n",
       "    <tr>\n",
       "      <th>13</th>\n",
       "      <td>ogumienie</td>\n",
       "      <td>0.888889</td>\n",
       "      <td>0.962963</td>\n",
       "      <td>1.333333</td>\n",
       "      <td>4.038419</td>\n",
       "      <td>TRU</td>\n",
       "    </tr>\n",
       "    <tr>\n",
       "      <th>...</th>\n",
       "      <td>...</td>\n",
       "      <td>...</td>\n",
       "      <td>...</td>\n",
       "      <td>...</td>\n",
       "      <td>...</td>\n",
       "      <td>...</td>\n",
       "    </tr>\n",
       "    <tr>\n",
       "      <th>5945</th>\n",
       "      <td>część</td>\n",
       "      <td>0.836364</td>\n",
       "      <td>1.236364</td>\n",
       "      <td>1.090909</td>\n",
       "      <td>4.146671</td>\n",
       "      <td>TRU</td>\n",
       "    </tr>\n",
       "    <tr>\n",
       "      <th>5957</th>\n",
       "      <td>uprawniony</td>\n",
       "      <td>0.673469</td>\n",
       "      <td>1.102041</td>\n",
       "      <td>1.040816</td>\n",
       "      <td>3.993114</td>\n",
       "      <td>TRU</td>\n",
       "    </tr>\n",
       "    <tr>\n",
       "      <th>5981</th>\n",
       "      <td>wieczysty</td>\n",
       "      <td>0.976744</td>\n",
       "      <td>1.139535</td>\n",
       "      <td>1.093023</td>\n",
       "      <td>4.159403</td>\n",
       "      <td>TRU</td>\n",
       "    </tr>\n",
       "    <tr>\n",
       "      <th>5993</th>\n",
       "      <td>historyk</td>\n",
       "      <td>0.541667</td>\n",
       "      <td>1.125000</td>\n",
       "      <td>1.062500</td>\n",
       "      <td>4.181876</td>\n",
       "      <td>TRU</td>\n",
       "    </tr>\n",
       "    <tr>\n",
       "      <th>5994</th>\n",
       "      <td>historyk</td>\n",
       "      <td>0.860000</td>\n",
       "      <td>1.160000</td>\n",
       "      <td>1.120000</td>\n",
       "      <td>4.201094</td>\n",
       "      <td>TRU</td>\n",
       "    </tr>\n",
       "  </tbody>\n",
       "</table>\n",
       "<p>625 rows × 6 columns</p>\n",
       "</div>"
      ],
      "text/plain": [
       "           lemma     VAL M     ARO M     TRU M     TRU D classification\n",
       "2        wprawny  1.089286  1.303571  1.160714  4.207473            TRU\n",
       "3          kopia  0.916667  1.020833  1.270833  4.125068            TRU\n",
       "5      pułkownik  0.630435  1.130435  1.065217  3.915806            TRU\n",
       "10     wskazówka  0.800000  1.000000  1.288889  4.145632            TRU\n",
       "13     ogumienie  0.888889  0.962963  1.333333  4.038419            TRU\n",
       "...          ...       ...       ...       ...       ...            ...\n",
       "5945       część  0.836364  1.236364  1.090909  4.146671            TRU\n",
       "5957  uprawniony  0.673469  1.102041  1.040816  3.993114            TRU\n",
       "5981   wieczysty  0.976744  1.139535  1.093023  4.159403            TRU\n",
       "5993    historyk  0.541667  1.125000  1.062500  4.181876            TRU\n",
       "5994    historyk  0.860000  1.160000  1.120000  4.201094            TRU\n",
       "\n",
       "[625 rows x 6 columns]"
      ]
     },
     "execution_count": 152,
     "metadata": {},
     "output_type": "execute_result"
    }
   ],
   "source": [
    "trust_data_category"
   ]
  },
  {
   "cell_type": "markdown",
   "metadata": {},
   "source": [
    "## Matcher"
   ]
  },
  {
   "cell_type": "code",
   "execution_count": 153,
   "metadata": {
    "scrolled": true
   },
   "outputs": [
    {
     "name": "stdout",
     "output_type": "stream",
     "text": [
      "[           lemma\n",
      "834  organizacja]\n",
      "[           lemma\n",
      "834  organizacja,           lemma\n",
      "5959  alarmować]\n",
      "[           lemma\n",
      "834  organizacja,           lemma\n",
      "5959  alarmować,        lemma\n",
      "4498  ciężki]\n",
      "[           lemma\n",
      "834  organizacja]\n",
      "[           lemma\n",
      "834  organizacja,        lemma\n",
      "4186  wysoki]\n",
      "[           lemma\n",
      "834  organizacja,        lemma\n",
      "4186  wysoki,      lemma\n",
      "5603  masa]\n",
      "[           lemma\n",
      "834  organizacja,        lemma\n",
      "4186  wysoki,      lemma\n",
      "5603  masa,       lemma\n",
      "4083  stylo]\n",
      "[         lemma\n",
      "4953  sprawnie]\n",
      "[       lemma\n",
      "1078  klamka]\n",
      "[       lemma\n",
      "1078  klamka,        lemma\n",
      "791  autobus]\n",
      "[       lemma\n",
      "1078  klamka,        lemma\n",
      "791  autobus,         lemma\n",
      "2979  komórka]\n",
      "[       lemma\n",
      "1078  klamka,        lemma\n",
      "791  autobus,         lemma\n",
      "2979  komórka,            lemma\n",
      "834  organizacja]\n",
      "[         lemma\n",
      "961  kalendarz]\n",
      "[         lemma\n",
      "961  kalendarz,                lemma\n",
      "1350  przedstawiciel]\n",
      "[      lemma\n",
      "1193  wieko]\n",
      "[      lemma\n",
      "1193  wieko,        lemma\n",
      "854   prosty\n",
      "5495  prosty]\n",
      "[      lemma\n",
      "1193  wieko,        lemma\n",
      "854   prosty\n",
      "5495  prosty,      lemma\n",
      "5599   dom]\n",
      "[       lemma\n",
      "1132  usługa]\n",
      "[       lemma\n",
      "1132  usługa,        lemma\n",
      "5728  chwila]\n",
      "[       lemma\n",
      "4498  ciężki]\n",
      "[               lemma\n",
      "5489  długoterminowy]\n",
      "[               lemma\n",
      "5489  długoterminowy,        lemma\n",
      "5682  raport]\n",
      "[               lemma\n",
      "5489  długoterminowy,        lemma\n",
      "5682  raport,      lemma\n",
      "5780   sen]\n",
      "[       lemma\n",
      "4498  ciężki]\n",
      "[       lemma\n",
      "4498  ciężki]\n",
      "[       lemma\n",
      "4498  ciężki,       lemma\n",
      "4384  ostry]\n",
      "[       lemma\n",
      "4498  ciężki,       lemma\n",
      "4384  ostry,      lemma\n",
      "1365  płyn]\n",
      "[       lemma\n",
      "4498  ciężki,       lemma\n",
      "4384  ostry,      lemma\n",
      "1365  płyn,          lemma\n",
      "2381  przyszły]\n",
      "[       lemma\n",
      "4498  ciężki,       lemma\n",
      "4384  ostry,      lemma\n",
      "1365  płyn,          lemma\n",
      "2381  przyszły,       lemma\n",
      "1482  matka]\n",
      "[       lemma\n",
      "4498  ciężki,       lemma\n",
      "4384  ostry,      lemma\n",
      "1365  płyn,          lemma\n",
      "2381  przyszły,       lemma\n",
      "1482  matka,          lemma\n",
      "2381  przyszły]\n",
      "[       lemma\n",
      "4498  ciężki,       lemma\n",
      "4384  ostry,      lemma\n",
      "1365  płyn,          lemma\n",
      "2381  przyszły,       lemma\n",
      "1482  matka,          lemma\n",
      "2381  przyszły,       lemma\n",
      "1482  matka]\n",
      "[         lemma\n",
      "5684  poprawić]\n",
      "[           lemma\n",
      "2723  transmisja]\n"
     ]
    }
   ],
   "source": [
    "def my_matcher(my_list, trust_data):\n",
    "    for i in my_list:\n",
    "        trust_list = []\n",
    "        for word in i:\n",
    "            emo_word = trust_data.loc[trust_data[\"lemma\"] == word, ['lemma']]\n",
    "            if not emo_word.empty:\n",
    "                trust_list.append(emo_word)\n",
    "                print(trust_list)\n",
    "                \n",
    "            #trust_data_category.iloc[:,0])\n",
    "            #emo_word = trust_data.loc[trust_data[\"lemma\"] == word,\n",
    "\n",
    "\n",
    "#if #słowo znajduje się na emo_liście\n",
    "#argument += \n",
    "my_matcher(my_list_auto, trust_data)"
   ]
  },
  {
   "cell_type": "code",
   "execution_count": null,
   "metadata": {},
   "outputs": [],
   "source": []
  },
  {
   "cell_type": "code",
   "execution_count": null,
   "metadata": {},
   "outputs": [],
   "source": []
  }
 ],
 "metadata": {
  "kernelspec": {
   "display_name": "Python 3 (ipykernel)",
   "language": "python",
   "name": "python3"
  },
  "language_info": {
   "codemirror_mode": {
    "name": "ipython",
    "version": 3
   },
   "file_extension": ".py",
   "mimetype": "text/x-python",
   "name": "python",
   "nbconvert_exporter": "python",
   "pygments_lexer": "ipython3",
   "version": "3.10.1"
  }
 },
 "nbformat": 4,
 "nbformat_minor": 2
}
