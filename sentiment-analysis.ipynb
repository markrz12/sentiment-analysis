{
 "cells": [
  {
   "cell_type": "code",
   "execution_count": 1,
   "metadata": {},
   "outputs": [],
   "source": [
    "import numpy as np\n",
    "import pandas as pd\n",
    "import os\n",
    "import spacy\n",
    "import csv"
   ]
  },
  {
   "cell_type": "code",
   "execution_count": 2,
   "metadata": {},
   "outputs": [
    {
     "data": {
      "text/plain": [
       "['.git',\n",
       " '.ipynb_checkpoints',\n",
       " 'emean_emo_cat.csv',\n",
       " 'nawl-analysis.csv',\n",
       " 'przesłanki-autorytet.csv',\n",
       " 'przesłanki.csv',\n",
       " 'README.md',\n",
       " 'sentiment-analysis.ipynb']"
      ]
     },
     "execution_count": 2,
     "metadata": {},
     "output_type": "execute_result"
    }
   ],
   "source": [
    "os.listdir()  "
   ]
  },
  {
   "cell_type": "markdown",
   "metadata": {},
   "source": [
    "# Przesłanki"
   ]
  },
  {
   "cell_type": "code",
   "execution_count": 3,
   "metadata": {},
   "outputs": [
    {
     "data": {
      "text/html": [
       "<div>\n",
       "<style scoped>\n",
       "    .dataframe tbody tr th:only-of-type {\n",
       "        vertical-align: middle;\n",
       "    }\n",
       "\n",
       "    .dataframe tbody tr th {\n",
       "        vertical-align: top;\n",
       "    }\n",
       "\n",
       "    .dataframe thead th {\n",
       "        text-align: right;\n",
       "    }\n",
       "</style>\n",
       "<table border=\"1\" class=\"dataframe\">\n",
       "  <thead>\n",
       "    <tr style=\"text-align: right;\">\n",
       "      <th></th>\n",
       "      <th>Typ argumentu (szeregowy lub równoległy)</th>\n",
       "      <th>Konkluzja</th>\n",
       "      <th>Przesłanka 1</th>\n",
       "      <th>Przesłanka 2</th>\n",
       "      <th>Przesłanka 3</th>\n",
       "      <th>Przesłanka 4</th>\n",
       "      <th>Przesłanka 5</th>\n",
       "      <th>Przesłanka 6</th>\n",
       "      <th>Przesłanka 7</th>\n",
       "      <th>Przesłanka 8</th>\n",
       "    </tr>\n",
       "  </thead>\n",
       "  <tbody>\n",
       "    <tr>\n",
       "      <th>0</th>\n",
       "      <td>NaN</td>\n",
       "      <td>Rzuć palenie</td>\n",
       "      <td>Każdy rok palenia skraca życie o prawie trzy m...</td>\n",
       "      <td>NaN</td>\n",
       "      <td>NaN</td>\n",
       "      <td>NaN</td>\n",
       "      <td>NaN</td>\n",
       "      <td>NaN</td>\n",
       "      <td>NaN</td>\n",
       "      <td>NaN</td>\n",
       "    </tr>\n",
       "    <tr>\n",
       "      <th>1</th>\n",
       "      <td>szeregowy</td>\n",
       "      <td>Szczepmy się</td>\n",
       "      <td>Mamy teraz do czynienia z koronawirusem typu d...</td>\n",
       "      <td>[koronawirus typu delta] to wyjątkowo zakaźna ...</td>\n",
       "      <td>Teraz mamy w Polsce już sześć tysięcy zakażeń ...</td>\n",
       "      <td>W województwie lubelskim szpitale są już na gr...</td>\n",
       "      <td>NaN</td>\n",
       "      <td>NaN</td>\n",
       "      <td>NaN</td>\n",
       "      <td>NaN</td>\n",
       "    </tr>\n",
       "    <tr>\n",
       "      <th>2</th>\n",
       "      <td>szeregowy</td>\n",
       "      <td>Unikaj dotykania oczu, nosa i ust</td>\n",
       "      <td>Dłonie dotykają wielu powierzchni, które mogą ...</td>\n",
       "      <td>Jeśli dotkniesz oczu, nosa lub ust zanieczyszc...</td>\n",
       "      <td>NaN</td>\n",
       "      <td>NaN</td>\n",
       "      <td>NaN</td>\n",
       "      <td>NaN</td>\n",
       "      <td>NaN</td>\n",
       "      <td>NaN</td>\n",
       "    </tr>\n",
       "    <tr>\n",
       "      <th>3</th>\n",
       "      <td>równoległy</td>\n",
       "      <td>Bądż aktywny fizycznie i zdrowo się odżywiaj</td>\n",
       "      <td>Regularna aktywność fizyczna jest kluczem do u...</td>\n",
       "      <td>Nawet 3-godzinny spacer raz w tygodniu, zmniej...</td>\n",
       "      <td>Wysiłek fizyczny odgrywa istotną rolę w zapobi...</td>\n",
       "      <td>Brak aktywności fizycznej wiąże się z gorszą j...</td>\n",
       "      <td>Nieodpowiednia dieta oraz brak aktywności fizy...</td>\n",
       "      <td>NaN</td>\n",
       "      <td>NaN</td>\n",
       "      <td>NaN</td>\n",
       "    </tr>\n",
       "    <tr>\n",
       "      <th>4</th>\n",
       "      <td>równoległy</td>\n",
       "      <td>Noś maskę.</td>\n",
       "      <td>Osłanianie twarzy chroni Ciebie i innych.</td>\n",
       "      <td>Maska zatrzymuje rozprzestrzenianie się wirusa</td>\n",
       "      <td>Maska zmniejsza ryzyko infekcji o 75%</td>\n",
       "      <td>NaN</td>\n",
       "      <td>NaN</td>\n",
       "      <td>NaN</td>\n",
       "      <td>NaN</td>\n",
       "      <td>NaN</td>\n",
       "    </tr>\n",
       "  </tbody>\n",
       "</table>\n",
       "</div>"
      ],
      "text/plain": [
       "  Typ argumentu (szeregowy lub równoległy)  \\\n",
       "0                                      NaN   \n",
       "1                                szeregowy   \n",
       "2                                szeregowy   \n",
       "3                               równoległy   \n",
       "4                               równoległy   \n",
       "\n",
       "                                      Konkluzja  \\\n",
       "0                                  Rzuć palenie   \n",
       "1                                  Szczepmy się   \n",
       "2             Unikaj dotykania oczu, nosa i ust   \n",
       "3  Bądż aktywny fizycznie i zdrowo się odżywiaj   \n",
       "4                                    Noś maskę.   \n",
       "\n",
       "                                        Przesłanka 1  \\\n",
       "0  Każdy rok palenia skraca życie o prawie trzy m...   \n",
       "1  Mamy teraz do czynienia z koronawirusem typu d...   \n",
       "2  Dłonie dotykają wielu powierzchni, które mogą ...   \n",
       "3  Regularna aktywność fizyczna jest kluczem do u...   \n",
       "4          Osłanianie twarzy chroni Ciebie i innych.   \n",
       "\n",
       "                                        Przesłanka 2  \\\n",
       "0                                                NaN   \n",
       "1  [koronawirus typu delta] to wyjątkowo zakaźna ...   \n",
       "2  Jeśli dotkniesz oczu, nosa lub ust zanieczyszc...   \n",
       "3  Nawet 3-godzinny spacer raz w tygodniu, zmniej...   \n",
       "4     Maska zatrzymuje rozprzestrzenianie się wirusa   \n",
       "\n",
       "                                        Przesłanka 3  \\\n",
       "0                                                NaN   \n",
       "1  Teraz mamy w Polsce już sześć tysięcy zakażeń ...   \n",
       "2                                                NaN   \n",
       "3  Wysiłek fizyczny odgrywa istotną rolę w zapobi...   \n",
       "4              Maska zmniejsza ryzyko infekcji o 75%   \n",
       "\n",
       "                                        Przesłanka 4  \\\n",
       "0                                                NaN   \n",
       "1  W województwie lubelskim szpitale są już na gr...   \n",
       "2                                                NaN   \n",
       "3  Brak aktywności fizycznej wiąże się z gorszą j...   \n",
       "4                                                NaN   \n",
       "\n",
       "                                        Przesłanka 5 Przesłanka 6  \\\n",
       "0                                                NaN          NaN   \n",
       "1                                                NaN          NaN   \n",
       "2                                                NaN          NaN   \n",
       "3  Nieodpowiednia dieta oraz brak aktywności fizy...          NaN   \n",
       "4                                                NaN          NaN   \n",
       "\n",
       "  Przesłanka 7 Przesłanka 8  \n",
       "0          NaN          NaN  \n",
       "1          NaN          NaN  \n",
       "2          NaN          NaN  \n",
       "3          NaN          NaN  \n",
       "4          NaN          NaN  "
      ]
     },
     "execution_count": 3,
     "metadata": {},
     "output_type": "execute_result"
    }
   ],
   "source": [
    "plik = 'przesłanki.csv'\n",
    "data = pd.read_csv(plik, encoding='windows-1250', header=[0])\n",
    "data.head()"
   ]
  },
  {
   "cell_type": "code",
   "execution_count": 4,
   "metadata": {},
   "outputs": [
    {
     "data": {
      "text/plain": [
       "(258, 10)"
      ]
     },
     "execution_count": 4,
     "metadata": {},
     "output_type": "execute_result"
    }
   ],
   "source": [
    "data.shape"
   ]
  },
  {
   "cell_type": "code",
   "execution_count": 5,
   "metadata": {},
   "outputs": [],
   "source": [
    "data = data.drop(labels=38, axis=0)"
   ]
  },
  {
   "cell_type": "markdown",
   "metadata": {},
   "source": [
    "### Braki danych"
   ]
  },
  {
   "cell_type": "code",
   "execution_count": 6,
   "metadata": {},
   "outputs": [
    {
     "name": "stdout",
     "output_type": "stream",
     "text": [
      "                                          Brakujące dane:\n",
      "Typ argumentu (szeregowy lub równoległy)                3\n",
      "Konkluzja                                               0\n",
      "Przesłanka 1                                            1\n",
      "Przesłanka 2                                           10\n",
      "Przesłanka 3                                          102\n",
      "Przesłanka 4                                          178\n",
      "Przesłanka 5                                          224\n",
      "Przesłanka 6                                          249\n",
      "Przesłanka 7                                          253\n",
      "Przesłanka 8                                          253\n"
     ]
    }
   ],
   "source": [
    "braki_danych = pd.concat([data.isnull().sum()], axis = 1, keys = [\"Brakujące dane:\"])\n",
    "print(braki_danych)"
   ]
  },
  {
   "cell_type": "code",
   "execution_count": 7,
   "metadata": {},
   "outputs": [
    {
     "data": {
      "text/plain": [
       "'Dym tytoniowy ma negatywny wpływ na stan układu oddechowego'"
      ]
     },
     "execution_count": 7,
     "metadata": {},
     "output_type": "execute_result"
    }
   ],
   "source": [
    "data[\"Przesłanka 3\"][5]"
   ]
  },
  {
   "cell_type": "code",
   "execution_count": 8,
   "metadata": {},
   "outputs": [
    {
     "data": {
      "text/plain": [
       "równoległy    146\n",
       "szeregowy     107\n",
       "mieszany        1\n",
       "Name: Typ argumentu (szeregowy lub równoległy), dtype: int64"
      ]
     },
     "execution_count": 8,
     "metadata": {},
     "output_type": "execute_result"
    }
   ],
   "source": [
    "data[\"Typ argumentu (szeregowy lub równoległy)\"].value_counts()"
   ]
  },
  {
   "cell_type": "markdown",
   "metadata": {},
   "source": [
    "### Spacy - pobranie pakietów"
   ]
  },
  {
   "cell_type": "code",
   "execution_count": 9,
   "metadata": {},
   "outputs": [],
   "source": [
    "nlp = spacy.load(\"pl_core_news_lg\")"
   ]
  },
  {
   "cell_type": "code",
   "execution_count": 10,
   "metadata": {},
   "outputs": [
    {
     "name": "stdout",
     "output_type": "stream",
     "text": [
      "3.2.1\n"
     ]
    }
   ],
   "source": [
    "print(spacy.__version__)  "
   ]
  },
  {
   "cell_type": "markdown",
   "metadata": {},
   "source": [
    "### Przykład"
   ]
  },
  {
   "cell_type": "code",
   "execution_count": 11,
   "metadata": {},
   "outputs": [],
   "source": [
    "s = str(data[\"Konkluzja\"][5])\n",
    "doc = nlp(s)"
   ]
  },
  {
   "cell_type": "code",
   "execution_count": 12,
   "metadata": {
    "scrolled": true
   },
   "outputs": [
    {
     "name": "stdout",
     "output_type": "stream",
     "text": [
      "Zrezygnuj,zrezygnować\n",
      "z,z\n",
      "używek,używka\n",
      ".,.\n"
     ]
    }
   ],
   "source": [
    "for token in doc:\n",
    "    print(f\"{token},{token.lemma_}\")"
   ]
  },
  {
   "cell_type": "markdown",
   "metadata": {},
   "source": [
    "### Tokenizacja, lematyzacja"
   ]
  },
  {
   "cell_type": "code",
   "execution_count": 13,
   "metadata": {},
   "outputs": [],
   "source": [
    "with open('przesłanki.csv') as csv_file:\n",
    "    csv_reader = csv.reader(csv_file, delimiter=',')\n",
    "    next(csv_reader)\n",
    "    new_list = []\n",
    "    for row in csv_reader: \n",
    "        argument = []\n",
    "        for column in range(1, 8):\n",
    "            argument += [(x.lemma_) for x in nlp(row[column])]\n",
    "        new_list.append(argument)"
   ]
  },
  {
   "cell_type": "code",
   "execution_count": 14,
   "metadata": {},
   "outputs": [],
   "source": [
    "my_list = []\n",
    "for i in new_list:\n",
    "    argument = []\n",
    "    for word in i:\n",
    "        word_replaced = word.replace(\"żyto\", \"życie\").replace('\\xa0', '')\n",
    "        argument.append(word_replaced)\n",
    "    my_list.append(argument)"
   ]
  },
  {
   "cell_type": "markdown",
   "metadata": {},
   "source": [
    "# Przesłanki - autorytet"
   ]
  },
  {
   "cell_type": "code",
   "execution_count": 15,
   "metadata": {},
   "outputs": [],
   "source": [
    "plik = 'przesłanki-autorytet.csv'\n",
    "data_autorytet = pd.read_csv(plik, encoding='windows-1250', header=[0])"
   ]
  },
  {
   "cell_type": "code",
   "execution_count": 16,
   "metadata": {},
   "outputs": [
    {
     "name": "stdout",
     "output_type": "stream",
     "text": [
      "                                          Brakujące dane:\n",
      "Typ argumentu (szeregowy lub równoległy)                0\n",
      "Konkluzja                                               0\n",
      "Przesłanka 1                                            0\n",
      "Przesłanka 2                                            0\n",
      "Przesłanka 3                                            6\n",
      "Przesłanka 4                                           10\n",
      "Przesłanka 5                                           16\n",
      "Przesłanka 6                                           18\n",
      "Przesłanka 7                                           18\n",
      "Przesłanka 8                                           18\n"
     ]
    }
   ],
   "source": [
    "braki_danych = pd.concat([data_autorytet.isnull().sum()], axis = 1, keys = [\"Brakujące dane:\"])\n",
    "print(braki_danych)"
   ]
  },
  {
   "cell_type": "code",
   "execution_count": 17,
   "metadata": {},
   "outputs": [],
   "source": [
    "with open('przesłanki-autorytet.csv') as csv_file:\n",
    "    csv_reader = csv.reader(csv_file, delimiter=',')\n",
    "    next(csv_reader)\n",
    "    list_auto = []\n",
    "    for row in csv_reader: \n",
    "        argument = []\n",
    "        for column in range(1, 8):\n",
    "            argument += [(x.lemma_) for x in nlp(row[column])]\n",
    "        list_auto.append(argument)"
   ]
  },
  {
   "cell_type": "code",
   "execution_count": 18,
   "metadata": {},
   "outputs": [],
   "source": [
    "my_list_auto = []\n",
    "for i in list_auto:\n",
    "    argument = []\n",
    "    for word in i:\n",
    "        word_replaced = word.replace(\"żyto\", \"życie\").replace('\\xa0', '')\n",
    "        argument.append(word_replaced)\n",
    "    my_list_auto.append(argument)"
   ]
  },
  {
   "cell_type": "markdown",
   "metadata": {},
   "source": [
    "# Emean_emo_cat"
   ]
  },
  {
   "cell_type": "code",
   "execution_count": 19,
   "metadata": {},
   "outputs": [
    {
     "data": {
      "text/html": [
       "<div>\n",
       "<style scoped>\n",
       "    .dataframe tbody tr th:only-of-type {\n",
       "        vertical-align: middle;\n",
       "    }\n",
       "\n",
       "    .dataframe tbody tr th {\n",
       "        vertical-align: top;\n",
       "    }\n",
       "\n",
       "    .dataframe thead th {\n",
       "        text-align: right;\n",
       "    }\n",
       "</style>\n",
       "<table border=\"1\" class=\"dataframe\">\n",
       "  <thead>\n",
       "    <tr style=\"text-align: right;\">\n",
       "      <th></th>\n",
       "      <th>Unnamed: 0</th>\n",
       "      <th>plWordNet ID</th>\n",
       "      <th>lemma</th>\n",
       "      <th>phrase</th>\n",
       "      <th>N</th>\n",
       "      <th>VAL M</th>\n",
       "      <th>ARO M</th>\n",
       "      <th>ANG M</th>\n",
       "      <th>DIS M</th>\n",
       "      <th>FEA M</th>\n",
       "      <th>...</th>\n",
       "      <th>ANG D</th>\n",
       "      <th>DIS D</th>\n",
       "      <th>FEA D</th>\n",
       "      <th>SAD D</th>\n",
       "      <th>ANT D</th>\n",
       "      <th>HAP D</th>\n",
       "      <th>SUR D</th>\n",
       "      <th>TRU D</th>\n",
       "      <th>NEU D</th>\n",
       "      <th>classification</th>\n",
       "    </tr>\n",
       "  </thead>\n",
       "  <tbody>\n",
       "    <tr>\n",
       "      <th>0</th>\n",
       "      <td>0</td>\n",
       "      <td>100097</td>\n",
       "      <td>zajawka</td>\n",
       "      <td>zajawka filmu</td>\n",
       "      <td>52</td>\n",
       "      <td>0,923076923076923</td>\n",
       "      <td>1,51923076923077</td>\n",
       "      <td>0,423076923076923</td>\n",
       "      <td>0,346153846153846</td>\n",
       "      <td>0,442307692307692</td>\n",
       "      <td>...</td>\n",
       "      <td>5,18062088685894</td>\n",
       "      <td>5,23424953260128</td>\n",
       "      <td>5,16792928207377</td>\n",
       "      <td>5,19447972290816</td>\n",
       "      <td>3,87381376704755</td>\n",
       "      <td>4,35618354559508</td>\n",
       "      <td>4,71480632473062</td>\n",
       "      <td>4,91246631980535</td>\n",
       "      <td>3,35029246343814</td>\n",
       "      <td>ANT</td>\n",
       "    </tr>\n",
       "    <tr>\n",
       "      <th>1</th>\n",
       "      <td>1</td>\n",
       "      <td>10010</td>\n",
       "      <td>wonny</td>\n",
       "      <td>wonny olejek</td>\n",
       "      <td>52</td>\n",
       "      <td>1,15384615384615</td>\n",
       "      <td>1,51923076923077</td>\n",
       "      <td>0,326923076923077</td>\n",
       "      <td>0,288461538461538</td>\n",
       "      <td>0,269230769230769</td>\n",
       "      <td>...</td>\n",
       "      <td>5,16027836550318</td>\n",
       "      <td>5,18080508369055</td>\n",
       "      <td>5,1978231958997</td>\n",
       "      <td>5,18966036636857</td>\n",
       "      <td>4,32597340564473</td>\n",
       "      <td>3,9597100017469</td>\n",
       "      <td>4,63737256975455</td>\n",
       "      <td>4,56260902798746</td>\n",
       "      <td>3,10497520730022</td>\n",
       "      <td>HAP</td>\n",
       "    </tr>\n",
       "    <tr>\n",
       "      <th>2</th>\n",
       "      <td>2</td>\n",
       "      <td>10027</td>\n",
       "      <td>wprawny</td>\n",
       "      <td>wprawny ruch</td>\n",
       "      <td>56</td>\n",
       "      <td>1,08928571428571</td>\n",
       "      <td>1,30357142857143</td>\n",
       "      <td>0,267857142857143</td>\n",
       "      <td>0,267857142857143</td>\n",
       "      <td>0,303571428571429</td>\n",
       "      <td>...</td>\n",
       "      <td>4,97998250130335</td>\n",
       "      <td>4,97422378232077</td>\n",
       "      <td>4,94950472605383</td>\n",
       "      <td>4,99042414080326</td>\n",
       "      <td>4,14667180332257</td>\n",
       "      <td>4,18741346525989</td>\n",
       "      <td>4,58990338516643</td>\n",
       "      <td>4,20747262725181</td>\n",
       "      <td>2,73188113221548</td>\n",
       "      <td>TRU</td>\n",
       "    </tr>\n",
       "    <tr>\n",
       "      <th>3</th>\n",
       "      <td>3</td>\n",
       "      <td>100288</td>\n",
       "      <td>kopia</td>\n",
       "      <td>kopia zapasowa</td>\n",
       "      <td>48</td>\n",
       "      <td>0,916666666666667</td>\n",
       "      <td>1,02083333333333</td>\n",
       "      <td>0,291666666666667</td>\n",
       "      <td>0,3125</td>\n",
       "      <td>0,416666666666667</td>\n",
       "      <td>...</td>\n",
       "      <td>5,01651814639793</td>\n",
       "      <td>4,99984145680847</td>\n",
       "      <td>4,92998924720183</td>\n",
       "      <td>4,97342018159838</td>\n",
       "      <td>4,19659015903944</td>\n",
       "      <td>4,55603816763537</td>\n",
       "      <td>4,96609556515371</td>\n",
       "      <td>4,12506825767858</td>\n",
       "      <td>2,69677085956943</td>\n",
       "      <td>TRU</td>\n",
       "    </tr>\n",
       "    <tr>\n",
       "      <th>4</th>\n",
       "      <td>4</td>\n",
       "      <td>100381</td>\n",
       "      <td>wombat</td>\n",
       "      <td>wombat wombata</td>\n",
       "      <td>47</td>\n",
       "      <td>0,340425531914894</td>\n",
       "      <td>0,787234042553192</td>\n",
       "      <td>0,425531914893617</td>\n",
       "      <td>0,468085106382979</td>\n",
       "      <td>0,531914893617021</td>\n",
       "      <td>...</td>\n",
       "      <td>4,61035885742292</td>\n",
       "      <td>4,57995827809717</td>\n",
       "      <td>4,52522536716789</td>\n",
       "      <td>4,62461314530665</td>\n",
       "      <td>4,45369893924012</td>\n",
       "      <td>4,29751829402049</td>\n",
       "      <td>4,26713782450451</td>\n",
       "      <td>4,53147114301294</td>\n",
       "      <td>1,87573890903964</td>\n",
       "      <td>NEU</td>\n",
       "    </tr>\n",
       "  </tbody>\n",
       "</table>\n",
       "<p>5 rows × 35 columns</p>\n",
       "</div>"
      ],
      "text/plain": [
       "   Unnamed: 0  plWordNet ID    lemma          phrase   N              VAL M  \\\n",
       "0           0        100097  zajawka   zajawka filmu  52  0,923076923076923   \n",
       "1           1         10010    wonny    wonny olejek  52   1,15384615384615   \n",
       "2           2         10027  wprawny    wprawny ruch  56   1,08928571428571   \n",
       "3           3        100288    kopia  kopia zapasowa  48  0,916666666666667   \n",
       "4           4        100381   wombat  wombat wombata  47  0,340425531914894   \n",
       "\n",
       "               ARO M              ANG M              DIS M              FEA M  \\\n",
       "0   1,51923076923077  0,423076923076923  0,346153846153846  0,442307692307692   \n",
       "1   1,51923076923077  0,326923076923077  0,288461538461538  0,269230769230769   \n",
       "2   1,30357142857143  0,267857142857143  0,267857142857143  0,303571428571429   \n",
       "3   1,02083333333333  0,291666666666667             0,3125  0,416666666666667   \n",
       "4  0,787234042553192  0,425531914893617  0,468085106382979  0,531914893617021   \n",
       "\n",
       "   ...             ANG D             DIS D             FEA D  \\\n",
       "0  ...  5,18062088685894  5,23424953260128  5,16792928207377   \n",
       "1  ...  5,16027836550318  5,18080508369055   5,1978231958997   \n",
       "2  ...  4,97998250130335  4,97422378232077  4,94950472605383   \n",
       "3  ...  5,01651814639793  4,99984145680847  4,92998924720183   \n",
       "4  ...  4,61035885742292  4,57995827809717  4,52522536716789   \n",
       "\n",
       "              SAD D             ANT D             HAP D             SUR D  \\\n",
       "0  5,19447972290816  3,87381376704755  4,35618354559508  4,71480632473062   \n",
       "1  5,18966036636857  4,32597340564473   3,9597100017469  4,63737256975455   \n",
       "2  4,99042414080326  4,14667180332257  4,18741346525989  4,58990338516643   \n",
       "3  4,97342018159838  4,19659015903944  4,55603816763537  4,96609556515371   \n",
       "4  4,62461314530665  4,45369893924012  4,29751829402049  4,26713782450451   \n",
       "\n",
       "              TRU D             NEU D classification  \n",
       "0  4,91246631980535  3,35029246343814            ANT  \n",
       "1  4,56260902798746  3,10497520730022            HAP  \n",
       "2  4,20747262725181  2,73188113221548            TRU  \n",
       "3  4,12506825767858  2,69677085956943            TRU  \n",
       "4  4,53147114301294  1,87573890903964            NEU  \n",
       "\n",
       "[5 rows x 35 columns]"
      ]
     },
     "execution_count": 19,
     "metadata": {},
     "output_type": "execute_result"
    }
   ],
   "source": [
    "emo_data = pd.read_csv('emean_emo_cat.csv', encoding= 'windows-1250')\n",
    "emo_data.head()"
   ]
  },
  {
   "cell_type": "code",
   "execution_count": 20,
   "metadata": {},
   "outputs": [],
   "source": [
    "emo_data.drop('Unnamed: 0', axis=1, inplace=True)"
   ]
  },
  {
   "cell_type": "code",
   "execution_count": 21,
   "metadata": {},
   "outputs": [],
   "source": [
    "import locale\n",
    "from locale import atof"
   ]
  },
  {
   "cell_type": "code",
   "execution_count": 22,
   "metadata": {},
   "outputs": [],
   "source": [
    "locale.setlocale(locale.LC_NUMERIC, '')\n",
    "emo_data[\"VAL M\"] = emo_data[\"VAL M\"].map(atof)"
   ]
  },
  {
   "cell_type": "code",
   "execution_count": 23,
   "metadata": {},
   "outputs": [],
   "source": [
    "locale.setlocale(locale.LC_NUMERIC, '')\n",
    "emo_data[\"ARO M\"] = emo_data[\"ARO M\"].map(atof)"
   ]
  },
  {
   "cell_type": "code",
   "execution_count": 24,
   "metadata": {},
   "outputs": [],
   "source": [
    "locale.setlocale(locale.LC_NUMERIC, '')\n",
    "emo_data[\"TRU M\"] = emo_data[\"TRU M\"].map(atof)"
   ]
  },
  {
   "cell_type": "code",
   "execution_count": 25,
   "metadata": {},
   "outputs": [],
   "source": [
    "locale.setlocale(locale.LC_NUMERIC, '')\n",
    "emo_data[\"TRU D\"] = emo_data[\"TRU D\"].map(atof)"
   ]
  },
  {
   "cell_type": "code",
   "execution_count": 26,
   "metadata": {},
   "outputs": [],
   "source": [
    "emean_emo_cat = emo_data.drop(['plWordNet ID', 'phrase', 'N', 'ANG M', 'DIS M', 'FEA M', 'SAD M', 'ANT M','HAP M','SUR M',\n",
    "               'ANG SD', 'DIS SD', 'FEA SD', 'SAD SD', 'ANT SD','HAP SD','SUR SD', 'VAL SD', 'ARO SD', 'TRU SD',\n",
    "               'ANG D', 'DIS D', 'FEA D', 'SAD D', 'ANT D','HAP D','SUR D', 'NEU D'], axis = 1)"
   ]
  },
  {
   "cell_type": "markdown",
   "metadata": {},
   "source": [
    "## Trust - średnie wartości"
   ]
  },
  {
   "cell_type": "code",
   "execution_count": 27,
   "metadata": {},
   "outputs": [
    {
     "data": {
      "text/plain": [
       "count    6000.000000\n",
       "mean        0.648133\n",
       "std         0.357791\n",
       "min         0.039216\n",
       "25%         0.407407\n",
       "50%         0.551020\n",
       "75%         0.781818\n",
       "max         2.690909\n",
       "Name: TRU M, dtype: float64"
      ]
     },
     "execution_count": 27,
     "metadata": {},
     "output_type": "execute_result"
    }
   ],
   "source": [
    "emean_emo_cat[\"TRU M\"].describe()"
   ]
  },
  {
   "cell_type": "code",
   "execution_count": 28,
   "metadata": {},
   "outputs": [],
   "source": [
    "trust_data = emean_emo_cat.copy()"
   ]
  },
  {
   "cell_type": "code",
   "execution_count": 29,
   "metadata": {},
   "outputs": [],
   "source": [
    "index_names = trust_data[trust_data['TRU M'] <= trust_data[\"TRU M\"].mean()].index\n",
    "trust_data.drop(index_names, inplace = True)"
   ]
  },
  {
   "cell_type": "code",
   "execution_count": 30,
   "metadata": {},
   "outputs": [
    {
     "data": {
      "text/plain": [
       "TRU    625\n",
       "HAP    567\n",
       "ANT    488\n",
       "NEU    213\n",
       "SUR    133\n",
       "FEA     48\n",
       "SAD     42\n",
       "DIS     32\n",
       "ANG      9\n",
       "Name: classification, dtype: int64"
      ]
     },
     "execution_count": 30,
     "metadata": {},
     "output_type": "execute_result"
    }
   ],
   "source": [
    "trust_data[\"classification\"].value_counts()"
   ]
  },
  {
   "cell_type": "code",
   "execution_count": 31,
   "metadata": {},
   "outputs": [
    {
     "data": {
      "text/plain": [
       "count    2157.000000\n",
       "mean        0.865079\n",
       "std         0.478204\n",
       "min        -1.000000\n",
       "25%         0.560000\n",
       "50%         0.830189\n",
       "75%         1.176471\n",
       "max         2.444444\n",
       "Name: VAL M, dtype: float64"
      ]
     },
     "execution_count": 31,
     "metadata": {},
     "output_type": "execute_result"
    }
   ],
   "source": [
    "trust_data[\"VAL M\"].describe()"
   ]
  },
  {
   "cell_type": "code",
   "execution_count": 32,
   "metadata": {},
   "outputs": [
    {
     "data": {
      "text/plain": [
       "count    2157.000000\n",
       "mean        1.367427\n",
       "std         0.374761\n",
       "min         0.577778\n",
       "25%         1.085106\n",
       "50%         1.313725\n",
       "75%         1.596154\n",
       "max         2.660377\n",
       "Name: ARO M, dtype: float64"
      ]
     },
     "execution_count": 32,
     "metadata": {},
     "output_type": "execute_result"
    }
   ],
   "source": [
    "trust_data[\"ARO M\"].describe()"
   ]
  },
  {
   "cell_type": "code",
   "execution_count": 33,
   "metadata": {},
   "outputs": [
    {
     "data": {
      "text/html": [
       "<div>\n",
       "<style scoped>\n",
       "    .dataframe tbody tr th:only-of-type {\n",
       "        vertical-align: middle;\n",
       "    }\n",
       "\n",
       "    .dataframe tbody tr th {\n",
       "        vertical-align: top;\n",
       "    }\n",
       "\n",
       "    .dataframe thead th {\n",
       "        text-align: right;\n",
       "    }\n",
       "</style>\n",
       "<table border=\"1\" class=\"dataframe\">\n",
       "  <thead>\n",
       "    <tr style=\"text-align: right;\">\n",
       "      <th></th>\n",
       "      <th>lemma</th>\n",
       "      <th>VAL M</th>\n",
       "      <th>ARO M</th>\n",
       "      <th>TRU M</th>\n",
       "      <th>TRU D</th>\n",
       "      <th>classification</th>\n",
       "    </tr>\n",
       "  </thead>\n",
       "  <tbody>\n",
       "    <tr>\n",
       "      <th>0</th>\n",
       "      <td>zajawka</td>\n",
       "      <td>0.923077</td>\n",
       "      <td>1.519231</td>\n",
       "      <td>0.788462</td>\n",
       "      <td>4.912466</td>\n",
       "      <td>ANT</td>\n",
       "    </tr>\n",
       "    <tr>\n",
       "      <th>1</th>\n",
       "      <td>wonny</td>\n",
       "      <td>1.153846</td>\n",
       "      <td>1.519231</td>\n",
       "      <td>1.076923</td>\n",
       "      <td>4.562609</td>\n",
       "      <td>HAP</td>\n",
       "    </tr>\n",
       "    <tr>\n",
       "      <th>2</th>\n",
       "      <td>wprawny</td>\n",
       "      <td>1.089286</td>\n",
       "      <td>1.303571</td>\n",
       "      <td>1.160714</td>\n",
       "      <td>4.207473</td>\n",
       "      <td>TRU</td>\n",
       "    </tr>\n",
       "    <tr>\n",
       "      <th>3</th>\n",
       "      <td>kopia</td>\n",
       "      <td>0.916667</td>\n",
       "      <td>1.020833</td>\n",
       "      <td>1.270833</td>\n",
       "      <td>4.125068</td>\n",
       "      <td>TRU</td>\n",
       "    </tr>\n",
       "    <tr>\n",
       "      <th>5</th>\n",
       "      <td>pułkownik</td>\n",
       "      <td>0.630435</td>\n",
       "      <td>1.130435</td>\n",
       "      <td>1.065217</td>\n",
       "      <td>3.915806</td>\n",
       "      <td>TRU</td>\n",
       "    </tr>\n",
       "    <tr>\n",
       "      <th>...</th>\n",
       "      <td>...</td>\n",
       "      <td>...</td>\n",
       "      <td>...</td>\n",
       "      <td>...</td>\n",
       "      <td>...</td>\n",
       "      <td>...</td>\n",
       "    </tr>\n",
       "    <tr>\n",
       "      <th>5992</th>\n",
       "      <td>wizyta</td>\n",
       "      <td>0.555556</td>\n",
       "      <td>2.222222</td>\n",
       "      <td>0.933333</td>\n",
       "      <td>5.485870</td>\n",
       "      <td>SUR</td>\n",
       "    </tr>\n",
       "    <tr>\n",
       "      <th>5993</th>\n",
       "      <td>historyk</td>\n",
       "      <td>0.541667</td>\n",
       "      <td>1.125000</td>\n",
       "      <td>1.062500</td>\n",
       "      <td>4.181876</td>\n",
       "      <td>TRU</td>\n",
       "    </tr>\n",
       "    <tr>\n",
       "      <th>5994</th>\n",
       "      <td>historyk</td>\n",
       "      <td>0.860000</td>\n",
       "      <td>1.160000</td>\n",
       "      <td>1.120000</td>\n",
       "      <td>4.201094</td>\n",
       "      <td>TRU</td>\n",
       "    </tr>\n",
       "    <tr>\n",
       "      <th>5997</th>\n",
       "      <td>politolog</td>\n",
       "      <td>-0.142857</td>\n",
       "      <td>0.836735</td>\n",
       "      <td>0.693878</td>\n",
       "      <td>4.459103</td>\n",
       "      <td>DIS</td>\n",
       "    </tr>\n",
       "    <tr>\n",
       "      <th>5998</th>\n",
       "      <td>wójt</td>\n",
       "      <td>0.521739</td>\n",
       "      <td>1.369565</td>\n",
       "      <td>0.869565</td>\n",
       "      <td>4.720533</td>\n",
       "      <td>ANT</td>\n",
       "    </tr>\n",
       "  </tbody>\n",
       "</table>\n",
       "<p>2157 rows × 6 columns</p>\n",
       "</div>"
      ],
      "text/plain": [
       "          lemma     VAL M     ARO M     TRU M     TRU D classification\n",
       "0       zajawka  0.923077  1.519231  0.788462  4.912466            ANT\n",
       "1         wonny  1.153846  1.519231  1.076923  4.562609            HAP\n",
       "2       wprawny  1.089286  1.303571  1.160714  4.207473            TRU\n",
       "3         kopia  0.916667  1.020833  1.270833  4.125068            TRU\n",
       "5     pułkownik  0.630435  1.130435  1.065217  3.915806            TRU\n",
       "...         ...       ...       ...       ...       ...            ...\n",
       "5992     wizyta  0.555556  2.222222  0.933333  5.485870            SUR\n",
       "5993   historyk  0.541667  1.125000  1.062500  4.181876            TRU\n",
       "5994   historyk  0.860000  1.160000  1.120000  4.201094            TRU\n",
       "5997  politolog -0.142857  0.836735  0.693878  4.459103            DIS\n",
       "5998       wójt  0.521739  1.369565  0.869565  4.720533            ANT\n",
       "\n",
       "[2157 rows x 6 columns]"
      ]
     },
     "execution_count": 33,
     "metadata": {},
     "output_type": "execute_result"
    }
   ],
   "source": [
    "trust_data"
   ]
  },
  {
   "cell_type": "markdown",
   "metadata": {},
   "source": [
    "## Trust - według klasyfikacja"
   ]
  },
  {
   "cell_type": "code",
   "execution_count": 34,
   "metadata": {},
   "outputs": [],
   "source": [
    "trust_data_category = emean_emo_cat.copy()"
   ]
  },
  {
   "cell_type": "code",
   "execution_count": 35,
   "metadata": {},
   "outputs": [],
   "source": [
    "index_names = trust_data_category[trust_data_category[\"classification\"] != \"TRU\"].index\n",
    "trust_data_category.drop(index_names, inplace = True)"
   ]
  },
  {
   "cell_type": "code",
   "execution_count": 36,
   "metadata": {},
   "outputs": [
    {
     "data": {
      "text/plain": [
       "TRU    625\n",
       "Name: classification, dtype: int64"
      ]
     },
     "execution_count": 36,
     "metadata": {},
     "output_type": "execute_result"
    }
   ],
   "source": [
    "trust_data_category[\"classification\"].value_counts()"
   ]
  },
  {
   "cell_type": "code",
   "execution_count": 37,
   "metadata": {},
   "outputs": [
    {
     "data": {
      "text/plain": [
       "count    625.000000\n",
       "mean       0.856628\n",
       "std        0.325395\n",
       "min       -0.140000\n",
       "25%        0.627451\n",
       "50%        0.826923\n",
       "75%        1.078431\n",
       "max        1.884615\n",
       "Name: VAL M, dtype: float64"
      ]
     },
     "execution_count": 37,
     "metadata": {},
     "output_type": "execute_result"
    }
   ],
   "source": [
    "trust_data_category[\"VAL M\"].describe()"
   ]
  },
  {
   "cell_type": "code",
   "execution_count": 38,
   "metadata": {},
   "outputs": [
    {
     "data": {
      "text/plain": [
       "count    625.000000\n",
       "mean       1.270278\n",
       "std        0.282682\n",
       "min        0.711538\n",
       "25%        1.061224\n",
       "50%        1.229167\n",
       "75%        1.469388\n",
       "max        2.384615\n",
       "Name: ARO M, dtype: float64"
      ]
     },
     "execution_count": 38,
     "metadata": {},
     "output_type": "execute_result"
    }
   ],
   "source": [
    "trust_data_category[\"ARO M\"].describe()"
   ]
  },
  {
   "cell_type": "code",
   "execution_count": 39,
   "metadata": {},
   "outputs": [
    {
     "data": {
      "text/html": [
       "<div>\n",
       "<style scoped>\n",
       "    .dataframe tbody tr th:only-of-type {\n",
       "        vertical-align: middle;\n",
       "    }\n",
       "\n",
       "    .dataframe tbody tr th {\n",
       "        vertical-align: top;\n",
       "    }\n",
       "\n",
       "    .dataframe thead th {\n",
       "        text-align: right;\n",
       "    }\n",
       "</style>\n",
       "<table border=\"1\" class=\"dataframe\">\n",
       "  <thead>\n",
       "    <tr style=\"text-align: right;\">\n",
       "      <th></th>\n",
       "      <th>lemma</th>\n",
       "      <th>VAL M</th>\n",
       "      <th>ARO M</th>\n",
       "      <th>TRU M</th>\n",
       "      <th>TRU D</th>\n",
       "      <th>classification</th>\n",
       "    </tr>\n",
       "  </thead>\n",
       "  <tbody>\n",
       "    <tr>\n",
       "      <th>2</th>\n",
       "      <td>wprawny</td>\n",
       "      <td>1.089286</td>\n",
       "      <td>1.303571</td>\n",
       "      <td>1.160714</td>\n",
       "      <td>4.207473</td>\n",
       "      <td>TRU</td>\n",
       "    </tr>\n",
       "    <tr>\n",
       "      <th>3</th>\n",
       "      <td>kopia</td>\n",
       "      <td>0.916667</td>\n",
       "      <td>1.020833</td>\n",
       "      <td>1.270833</td>\n",
       "      <td>4.125068</td>\n",
       "      <td>TRU</td>\n",
       "    </tr>\n",
       "    <tr>\n",
       "      <th>5</th>\n",
       "      <td>pułkownik</td>\n",
       "      <td>0.630435</td>\n",
       "      <td>1.130435</td>\n",
       "      <td>1.065217</td>\n",
       "      <td>3.915806</td>\n",
       "      <td>TRU</td>\n",
       "    </tr>\n",
       "    <tr>\n",
       "      <th>10</th>\n",
       "      <td>wskazówka</td>\n",
       "      <td>0.800000</td>\n",
       "      <td>1.000000</td>\n",
       "      <td>1.288889</td>\n",
       "      <td>4.145632</td>\n",
       "      <td>TRU</td>\n",
       "    </tr>\n",
       "    <tr>\n",
       "      <th>13</th>\n",
       "      <td>ogumienie</td>\n",
       "      <td>0.888889</td>\n",
       "      <td>0.962963</td>\n",
       "      <td>1.333333</td>\n",
       "      <td>4.038419</td>\n",
       "      <td>TRU</td>\n",
       "    </tr>\n",
       "    <tr>\n",
       "      <th>...</th>\n",
       "      <td>...</td>\n",
       "      <td>...</td>\n",
       "      <td>...</td>\n",
       "      <td>...</td>\n",
       "      <td>...</td>\n",
       "      <td>...</td>\n",
       "    </tr>\n",
       "    <tr>\n",
       "      <th>5945</th>\n",
       "      <td>część</td>\n",
       "      <td>0.836364</td>\n",
       "      <td>1.236364</td>\n",
       "      <td>1.090909</td>\n",
       "      <td>4.146671</td>\n",
       "      <td>TRU</td>\n",
       "    </tr>\n",
       "    <tr>\n",
       "      <th>5957</th>\n",
       "      <td>uprawniony</td>\n",
       "      <td>0.673469</td>\n",
       "      <td>1.102041</td>\n",
       "      <td>1.040816</td>\n",
       "      <td>3.993114</td>\n",
       "      <td>TRU</td>\n",
       "    </tr>\n",
       "    <tr>\n",
       "      <th>5981</th>\n",
       "      <td>wieczysty</td>\n",
       "      <td>0.976744</td>\n",
       "      <td>1.139535</td>\n",
       "      <td>1.093023</td>\n",
       "      <td>4.159403</td>\n",
       "      <td>TRU</td>\n",
       "    </tr>\n",
       "    <tr>\n",
       "      <th>5993</th>\n",
       "      <td>historyk</td>\n",
       "      <td>0.541667</td>\n",
       "      <td>1.125000</td>\n",
       "      <td>1.062500</td>\n",
       "      <td>4.181876</td>\n",
       "      <td>TRU</td>\n",
       "    </tr>\n",
       "    <tr>\n",
       "      <th>5994</th>\n",
       "      <td>historyk</td>\n",
       "      <td>0.860000</td>\n",
       "      <td>1.160000</td>\n",
       "      <td>1.120000</td>\n",
       "      <td>4.201094</td>\n",
       "      <td>TRU</td>\n",
       "    </tr>\n",
       "  </tbody>\n",
       "</table>\n",
       "<p>625 rows × 6 columns</p>\n",
       "</div>"
      ],
      "text/plain": [
       "           lemma     VAL M     ARO M     TRU M     TRU D classification\n",
       "2        wprawny  1.089286  1.303571  1.160714  4.207473            TRU\n",
       "3          kopia  0.916667  1.020833  1.270833  4.125068            TRU\n",
       "5      pułkownik  0.630435  1.130435  1.065217  3.915806            TRU\n",
       "10     wskazówka  0.800000  1.000000  1.288889  4.145632            TRU\n",
       "13     ogumienie  0.888889  0.962963  1.333333  4.038419            TRU\n",
       "...          ...       ...       ...       ...       ...            ...\n",
       "5945       część  0.836364  1.236364  1.090909  4.146671            TRU\n",
       "5957  uprawniony  0.673469  1.102041  1.040816  3.993114            TRU\n",
       "5981   wieczysty  0.976744  1.139535  1.093023  4.159403            TRU\n",
       "5993    historyk  0.541667  1.125000  1.062500  4.181876            TRU\n",
       "5994    historyk  0.860000  1.160000  1.120000  4.201094            TRU\n",
       "\n",
       "[625 rows x 6 columns]"
      ]
     },
     "execution_count": 39,
     "metadata": {},
     "output_type": "execute_result"
    }
   ],
   "source": [
    "trust_data_category"
   ]
  },
  {
   "cell_type": "code",
   "execution_count": 40,
   "metadata": {},
   "outputs": [
    {
     "data": {
      "text/html": [
       "<div>\n",
       "<style scoped>\n",
       "    .dataframe tbody tr th:only-of-type {\n",
       "        vertical-align: middle;\n",
       "    }\n",
       "\n",
       "    .dataframe tbody tr th {\n",
       "        vertical-align: top;\n",
       "    }\n",
       "\n",
       "    .dataframe thead th {\n",
       "        text-align: right;\n",
       "    }\n",
       "</style>\n",
       "<table border=\"1\" class=\"dataframe\">\n",
       "  <thead>\n",
       "    <tr style=\"text-align: right;\">\n",
       "      <th></th>\n",
       "      <th>lemma</th>\n",
       "      <th>VAL M</th>\n",
       "      <th>ARO M</th>\n",
       "      <th>TRU M</th>\n",
       "      <th>TRU D</th>\n",
       "      <th>classification</th>\n",
       "    </tr>\n",
       "  </thead>\n",
       "  <tbody>\n",
       "    <tr>\n",
       "      <th>0</th>\n",
       "      <td>zajawka</td>\n",
       "      <td>0.923077</td>\n",
       "      <td>1.519231</td>\n",
       "      <td>0.788462</td>\n",
       "      <td>4.912466</td>\n",
       "      <td>ANT</td>\n",
       "    </tr>\n",
       "    <tr>\n",
       "      <th>1</th>\n",
       "      <td>wonny</td>\n",
       "      <td>1.153846</td>\n",
       "      <td>1.519231</td>\n",
       "      <td>1.076923</td>\n",
       "      <td>4.562609</td>\n",
       "      <td>HAP</td>\n",
       "    </tr>\n",
       "    <tr>\n",
       "      <th>2</th>\n",
       "      <td>wprawny</td>\n",
       "      <td>1.089286</td>\n",
       "      <td>1.303571</td>\n",
       "      <td>1.160714</td>\n",
       "      <td>4.207473</td>\n",
       "      <td>TRU</td>\n",
       "    </tr>\n",
       "    <tr>\n",
       "      <th>3</th>\n",
       "      <td>kopia</td>\n",
       "      <td>0.916667</td>\n",
       "      <td>1.020833</td>\n",
       "      <td>1.270833</td>\n",
       "      <td>4.125068</td>\n",
       "      <td>TRU</td>\n",
       "    </tr>\n",
       "    <tr>\n",
       "      <th>4</th>\n",
       "      <td>wombat</td>\n",
       "      <td>0.340426</td>\n",
       "      <td>0.787234</td>\n",
       "      <td>0.510638</td>\n",
       "      <td>4.531471</td>\n",
       "      <td>NEU</td>\n",
       "    </tr>\n",
       "    <tr>\n",
       "      <th>...</th>\n",
       "      <td>...</td>\n",
       "      <td>...</td>\n",
       "      <td>...</td>\n",
       "      <td>...</td>\n",
       "      <td>...</td>\n",
       "      <td>...</td>\n",
       "    </tr>\n",
       "    <tr>\n",
       "      <th>5995</th>\n",
       "      <td>biegacz</td>\n",
       "      <td>0.448980</td>\n",
       "      <td>1.244898</td>\n",
       "      <td>0.612245</td>\n",
       "      <td>4.534985</td>\n",
       "      <td>SUR</td>\n",
       "    </tr>\n",
       "    <tr>\n",
       "      <th>5996</th>\n",
       "      <td>zapierać</td>\n",
       "      <td>0.041667</td>\n",
       "      <td>1.020833</td>\n",
       "      <td>0.437500</td>\n",
       "      <td>4.664719</td>\n",
       "      <td>DIS</td>\n",
       "    </tr>\n",
       "    <tr>\n",
       "      <th>5997</th>\n",
       "      <td>politolog</td>\n",
       "      <td>-0.142857</td>\n",
       "      <td>0.836735</td>\n",
       "      <td>0.693878</td>\n",
       "      <td>4.459103</td>\n",
       "      <td>DIS</td>\n",
       "    </tr>\n",
       "    <tr>\n",
       "      <th>5998</th>\n",
       "      <td>wójt</td>\n",
       "      <td>0.521739</td>\n",
       "      <td>1.369565</td>\n",
       "      <td>0.869565</td>\n",
       "      <td>4.720533</td>\n",
       "      <td>ANT</td>\n",
       "    </tr>\n",
       "    <tr>\n",
       "      <th>5999</th>\n",
       "      <td>profetyzm</td>\n",
       "      <td>0.716981</td>\n",
       "      <td>1.150943</td>\n",
       "      <td>0.566038</td>\n",
       "      <td>4.465742</td>\n",
       "      <td>SUR</td>\n",
       "    </tr>\n",
       "  </tbody>\n",
       "</table>\n",
       "<p>6000 rows × 6 columns</p>\n",
       "</div>"
      ],
      "text/plain": [
       "          lemma     VAL M     ARO M     TRU M     TRU D classification\n",
       "0       zajawka  0.923077  1.519231  0.788462  4.912466            ANT\n",
       "1         wonny  1.153846  1.519231  1.076923  4.562609            HAP\n",
       "2       wprawny  1.089286  1.303571  1.160714  4.207473            TRU\n",
       "3         kopia  0.916667  1.020833  1.270833  4.125068            TRU\n",
       "4        wombat  0.340426  0.787234  0.510638  4.531471            NEU\n",
       "...         ...       ...       ...       ...       ...            ...\n",
       "5995    biegacz  0.448980  1.244898  0.612245  4.534985            SUR\n",
       "5996   zapierać  0.041667  1.020833  0.437500  4.664719            DIS\n",
       "5997  politolog -0.142857  0.836735  0.693878  4.459103            DIS\n",
       "5998       wójt  0.521739  1.369565  0.869565  4.720533            ANT\n",
       "5999  profetyzm  0.716981  1.150943  0.566038  4.465742            SUR\n",
       "\n",
       "[6000 rows x 6 columns]"
      ]
     },
     "execution_count": 40,
     "metadata": {},
     "output_type": "execute_result"
    }
   ],
   "source": [
    "emean_emo_cat"
   ]
  },
  {
   "cell_type": "markdown",
   "metadata": {},
   "source": [
    "# Matcher"
   ]
  },
  {
   "cell_type": "code",
   "execution_count": 63,
   "metadata": {
    "scrolled": true
   },
   "outputs": [
    {
     "data": {
      "text/html": [
       "<div>\n",
       "<style scoped>\n",
       "    .dataframe tbody tr th:only-of-type {\n",
       "        vertical-align: middle;\n",
       "    }\n",
       "\n",
       "    .dataframe tbody tr th {\n",
       "        vertical-align: top;\n",
       "    }\n",
       "\n",
       "    .dataframe thead th {\n",
       "        text-align: right;\n",
       "    }\n",
       "</style>\n",
       "<table border=\"1\" class=\"dataframe\">\n",
       "  <thead>\n",
       "    <tr style=\"text-align: right;\">\n",
       "      <th></th>\n",
       "      <th>argument</th>\n",
       "      <th>autorytet</th>\n",
       "      <th>emo lista</th>\n",
       "      <th>zaufanie lista</th>\n",
       "      <th>kategoria zaufanie</th>\n",
       "      <th>Val mean</th>\n",
       "      <th>Aro mean</th>\n",
       "      <th>Trust Mean</th>\n",
       "    </tr>\n",
       "  </thead>\n",
       "  <tbody>\n",
       "    <tr>\n",
       "      <th>0</th>\n",
       "      <td>[rzucić, palenie, każdy, rok, palenie, skracać...</td>\n",
       "      <td>nie</td>\n",
       "      <td>[rok]</td>\n",
       "      <td>[rok]</td>\n",
       "      <td>[]</td>\n",
       "      <td>0.551020</td>\n",
       "      <td>0.897959</td>\n",
       "      <td>0.693878</td>\n",
       "    </tr>\n",
       "    <tr>\n",
       "      <th>1</th>\n",
       "      <td>[szczepić, się, mieć, teraz, do, czynienie, z,...</td>\n",
       "      <td>nie</td>\n",
       "      <td>[typ, początek, typ, odmiana, ciężki, tysiąc]</td>\n",
       "      <td>[początek, ciężki]</td>\n",
       "      <td>[]</td>\n",
       "      <td>0.448286</td>\n",
       "      <td>1.208600</td>\n",
       "      <td>0.607328</td>\n",
       "    </tr>\n",
       "    <tr>\n",
       "      <th>2</th>\n",
       "      <td>[unikać, dotykania, oko, ,, nos, i, usta, dłoń...</td>\n",
       "      <td>nie</td>\n",
       "      <td>[unikać, oko, powierzchnia, wirus, oko, wirus,...</td>\n",
       "      <td>[oko, oko]</td>\n",
       "      <td>[]</td>\n",
       "      <td>0.232777</td>\n",
       "      <td>1.600140</td>\n",
       "      <td>0.619520</td>\n",
       "    </tr>\n",
       "    <tr>\n",
       "      <th>3</th>\n",
       "      <td>[bądż, aktywny, fizycznie, i, zdrowo, się, odż...</td>\n",
       "      <td>nie</td>\n",
       "      <td>[zdrowo, istotny, zły, jakość, negatywnie, dieta]</td>\n",
       "      <td>[zdrowo, istotny, jakość]</td>\n",
       "      <td>[]</td>\n",
       "      <td>0.228068</td>\n",
       "      <td>1.572626</td>\n",
       "      <td>0.818477</td>\n",
       "    </tr>\n",
       "    <tr>\n",
       "      <th>4</th>\n",
       "      <td>[nosić, maska, ., osłanianie, twarz, chronić, ...</td>\n",
       "      <td>nie</td>\n",
       "      <td>[maska, inny, wirus]</td>\n",
       "      <td>[]</td>\n",
       "      <td>[]</td>\n",
       "      <td>-0.405863</td>\n",
       "      <td>1.216262</td>\n",
       "      <td>0.372661</td>\n",
       "    </tr>\n",
       "    <tr>\n",
       "      <th>...</th>\n",
       "      <td>...</td>\n",
       "      <td>...</td>\n",
       "      <td>...</td>\n",
       "      <td>...</td>\n",
       "      <td>...</td>\n",
       "      <td>...</td>\n",
       "      <td>...</td>\n",
       "      <td>...</td>\n",
       "    </tr>\n",
       "    <tr>\n",
       "      <th>253</th>\n",
       "      <td>[zaszczep, się, przeciw, covid, -, 19, szczepi...</td>\n",
       "      <td>nie</td>\n",
       "      <td>[ciężki]</td>\n",
       "      <td>[ciężki]</td>\n",
       "      <td>[]</td>\n",
       "      <td>0.215686</td>\n",
       "      <td>1.313725</td>\n",
       "      <td>0.764706</td>\n",
       "    </tr>\n",
       "    <tr>\n",
       "      <th>254</th>\n",
       "      <td>[wybrać, mądrze, ,, zaszczepić, się, ., , bada...</td>\n",
       "      <td>nie</td>\n",
       "      <td>[wieko, rok, ciężki]</td>\n",
       "      <td>[wieko, rok, ciężki]</td>\n",
       "      <td>[]</td>\n",
       "      <td>0.354860</td>\n",
       "      <td>1.056377</td>\n",
       "      <td>0.713145</td>\n",
       "    </tr>\n",
       "    <tr>\n",
       "      <th>255</th>\n",
       "      <td>[zaszczep, się, ,, nosić, maseczka, i, uważać,...</td>\n",
       "      <td>nie</td>\n",
       "      <td>[bolesny]</td>\n",
       "      <td>[]</td>\n",
       "      <td>[]</td>\n",
       "      <td>-1.075472</td>\n",
       "      <td>1.698113</td>\n",
       "      <td>0.320755</td>\n",
       "    </tr>\n",
       "    <tr>\n",
       "      <th>256</th>\n",
       "      <td>[zachęcać, raz, jeszcze, bardzo, gorąco, wszys...</td>\n",
       "      <td>nie</td>\n",
       "      <td>[jednostka, organizacja, znajomy]</td>\n",
       "      <td>[organizacja, znajomy]</td>\n",
       "      <td>[znajomy]</td>\n",
       "      <td>0.804033</td>\n",
       "      <td>1.266953</td>\n",
       "      <td>1.305565</td>\n",
       "    </tr>\n",
       "    <tr>\n",
       "      <th>257</th>\n",
       "      <td>[osoba, młody, powinny, się, szczepić, wiedzie...</td>\n",
       "      <td>nie</td>\n",
       "      <td>[młody, wirus, młody, młody, wirus, wirus, zja...</td>\n",
       "      <td>[młody, młody, młody, ciężki, młody]</td>\n",
       "      <td>[]</td>\n",
       "      <td>0.250905</td>\n",
       "      <td>1.712168</td>\n",
       "      <td>0.741857</td>\n",
       "    </tr>\n",
       "  </tbody>\n",
       "</table>\n",
       "<p>258 rows × 8 columns</p>\n",
       "</div>"
      ],
      "text/plain": [
       "                                              argument autorytet  \\\n",
       "0    [rzucić, palenie, każdy, rok, palenie, skracać...       nie   \n",
       "1    [szczepić, się, mieć, teraz, do, czynienie, z,...       nie   \n",
       "2    [unikać, dotykania, oko, ,, nos, i, usta, dłoń...       nie   \n",
       "3    [bądż, aktywny, fizycznie, i, zdrowo, się, odż...       nie   \n",
       "4    [nosić, maska, ., osłanianie, twarz, chronić, ...       nie   \n",
       "..                                                 ...       ...   \n",
       "253  [zaszczep, się, przeciw, covid, -, 19, szczepi...       nie   \n",
       "254  [wybrać, mądrze, ,, zaszczepić, się, ., , bada...       nie   \n",
       "255  [zaszczep, się, ,, nosić, maseczka, i, uważać,...       nie   \n",
       "256  [zachęcać, raz, jeszcze, bardzo, gorąco, wszys...       nie   \n",
       "257  [osoba, młody, powinny, się, szczepić, wiedzie...       nie   \n",
       "\n",
       "                                             emo lista  \\\n",
       "0                                                [rok]   \n",
       "1        [typ, początek, typ, odmiana, ciężki, tysiąc]   \n",
       "2    [unikać, oko, powierzchnia, wirus, oko, wirus,...   \n",
       "3    [zdrowo, istotny, zły, jakość, negatywnie, dieta]   \n",
       "4                                 [maska, inny, wirus]   \n",
       "..                                                 ...   \n",
       "253                                           [ciężki]   \n",
       "254                               [wieko, rok, ciężki]   \n",
       "255                                          [bolesny]   \n",
       "256                  [jednostka, organizacja, znajomy]   \n",
       "257  [młody, wirus, młody, młody, wirus, wirus, zja...   \n",
       "\n",
       "                           zaufanie lista kategoria zaufanie  Val mean  \\\n",
       "0                                   [rok]                 []  0.551020   \n",
       "1                      [początek, ciężki]                 []  0.448286   \n",
       "2                              [oko, oko]                 []  0.232777   \n",
       "3               [zdrowo, istotny, jakość]                 []  0.228068   \n",
       "4                                      []                 [] -0.405863   \n",
       "..                                    ...                ...       ...   \n",
       "253                              [ciężki]                 []  0.215686   \n",
       "254                  [wieko, rok, ciężki]                 []  0.354860   \n",
       "255                                    []                 [] -1.075472   \n",
       "256                [organizacja, znajomy]          [znajomy]  0.804033   \n",
       "257  [młody, młody, młody, ciężki, młody]                 []  0.250905   \n",
       "\n",
       "     Aro mean  Trust Mean  \n",
       "0    0.897959    0.693878  \n",
       "1    1.208600    0.607328  \n",
       "2    1.600140    0.619520  \n",
       "3    1.572626    0.818477  \n",
       "4    1.216262    0.372661  \n",
       "..        ...         ...  \n",
       "253  1.313725    0.764706  \n",
       "254  1.056377    0.713145  \n",
       "255  1.698113    0.320755  \n",
       "256  1.266953    1.305565  \n",
       "257  1.712168    0.741857  \n",
       "\n",
       "[258 rows x 8 columns]"
      ]
     },
     "execution_count": 63,
     "metadata": {},
     "output_type": "execute_result"
    }
   ],
   "source": [
    "def mean(my_list):\n",
    "    if len(my_list) == 0:\n",
    "        return np.nan\n",
    "    return sum(my_list)/len(my_list)\n",
    "\n",
    "def my_matcher(my_list, auto_list):\n",
    "    df = []\n",
    "    authority_list = []\n",
    "\n",
    "    for i in my_list:\n",
    "        trust_list = []\n",
    "        trust_list_category = []\n",
    "        emo_list = []\n",
    "        val_mean_list = []\n",
    "        aro_mean_list = []\n",
    "        trust_mean_list = []\n",
    "        authority_list = []\n",
    "        \n",
    "        if i in auto_list:\n",
    "            string = \"tak\"\n",
    "        else:\n",
    "            string = \"nie\"\n",
    "        authority_list.append(string)\n",
    "        \n",
    "        for word in i:\n",
    "            \n",
    "            trust_word_serie = trust_data.loc[trust_data[\"lemma\"] == word][\"lemma\"]\n",
    "            if not trust_word_serie.empty:\n",
    "                trust_word = trust_word_serie.iat[0]\n",
    "                trust_list.append(trust_word)\n",
    "        \n",
    "            trust_word_cat_serie = trust_data_category.loc[trust_data_category[\"lemma\"] == word][\"lemma\"]\n",
    "            if not trust_word_cat_serie.empty:\n",
    "                trust_word_cat = trust_word_cat_serie.iat[0]\n",
    "                trust_list_category.append(trust_word_cat)\n",
    "                \n",
    "            emo_word_serie = emean_emo_cat.loc[emean_emo_cat[\"lemma\"] == word][\"lemma\"]\n",
    "            if not emo_word_serie.empty:\n",
    "                emo_word = emo_word_serie.iat[0]\n",
    "                emo_list.append(emo_word) \n",
    "                \n",
    "            val_mean_serie = emean_emo_cat.loc[emean_emo_cat[\"lemma\"] == word][\"VAL M\"]\n",
    "            if not val_mean_serie.empty:\n",
    "                val_mean = val_mean_serie.iat[0]\n",
    "                val_mean_list.append(val_mean)\n",
    "                mean(val_mean_list)\n",
    "            \n",
    "            aro_mean_serie = emean_emo_cat.loc[emean_emo_cat[\"lemma\"] == word][\"ARO M\"]\n",
    "            if not aro_mean_serie.empty:\n",
    "                aro_mean = aro_mean_serie.iat[0]\n",
    "                aro_mean_list.append(aro_mean)\n",
    "                mean(aro_mean_list)\n",
    "            \n",
    "            trust_mean_serie = emean_emo_cat.loc[emean_emo_cat[\"lemma\"] == word][\"TRU M\"]\n",
    "            if not trust_mean_serie.empty:\n",
    "                trust_mean = trust_mean_serie.iat[0]\n",
    "                trust_mean_list.append(trust_mean)\n",
    "                mean(trust_mean_list)\n",
    "\n",
    "        \n",
    "        #dominanta kategorii?\n",
    "        #print(\"Ilość słów emotywnych:\",len(emo_list), \"Zaufania:\", len(trust_list), \"Poza zaufaniem:\", len(emo_list) - len(trust_list))\n",
    "\n",
    "        df.append([i, authority_list[0], emo_list, trust_list, trust_list_category, mean(val_mean_list), mean(aro_mean_list), mean(trust_mean_list)])\n",
    "    \n",
    "    return pd.DataFrame(df, columns = [\"argument\", \"autorytet\", \"emo lista\", \"zaufanie lista\", \"kategoria zaufanie\", \n",
    "                                             \"Val mean\", \"Aro mean\", \"Trust Mean\"])\n",
    "\n",
    "\n",
    "my_matcher(my_list, my_list_auto)"
   ]
  },
  {
   "cell_type": "code",
   "execution_count": 64,
   "metadata": {},
   "outputs": [],
   "source": [
    "matched_data = my_matcher(my_list, my_list_auto)"
   ]
  },
  {
   "cell_type": "code",
   "execution_count": 65,
   "metadata": {},
   "outputs": [
    {
     "data": {
      "text/plain": [
       "nie    240\n",
       "tak     18\n",
       "Name: autorytet, dtype: int64"
      ]
     },
     "execution_count": 65,
     "metadata": {},
     "output_type": "execute_result"
    }
   ],
   "source": [
    "matched_data[\"autorytet\"].value_counts()"
   ]
  },
  {
   "cell_type": "code",
   "execution_count": 66,
   "metadata": {},
   "outputs": [
    {
     "data": {
      "text/plain": [
       "argument               object\n",
       "autorytet              object\n",
       "emo lista              object\n",
       "zaufanie lista         object\n",
       "kategoria zaufanie     object\n",
       "Val mean              float64\n",
       "Aro mean              float64\n",
       "Trust Mean            float64\n",
       "dtype: object"
      ]
     },
     "execution_count": 66,
     "metadata": {},
     "output_type": "execute_result"
    }
   ],
   "source": [
    "matched_data.dtypes"
   ]
  },
  {
   "cell_type": "code",
   "execution_count": 68,
   "metadata": {},
   "outputs": [
    {
     "data": {
      "text/html": [
       "<div>\n",
       "<style scoped>\n",
       "    .dataframe tbody tr th:only-of-type {\n",
       "        vertical-align: middle;\n",
       "    }\n",
       "\n",
       "    .dataframe tbody tr th {\n",
       "        vertical-align: top;\n",
       "    }\n",
       "\n",
       "    .dataframe thead th {\n",
       "        text-align: right;\n",
       "    }\n",
       "</style>\n",
       "<table border=\"1\" class=\"dataframe\">\n",
       "  <thead>\n",
       "    <tr style=\"text-align: right;\">\n",
       "      <th></th>\n",
       "      <th>Val mean</th>\n",
       "      <th>Aro mean</th>\n",
       "      <th>Trust Mean</th>\n",
       "    </tr>\n",
       "  </thead>\n",
       "  <tbody>\n",
       "    <tr>\n",
       "      <th>count</th>\n",
       "      <td>225.000000</td>\n",
       "      <td>225.000000</td>\n",
       "      <td>225.000000</td>\n",
       "    </tr>\n",
       "    <tr>\n",
       "      <th>mean</th>\n",
       "      <td>0.185758</td>\n",
       "      <td>1.343847</td>\n",
       "      <td>0.666119</td>\n",
       "    </tr>\n",
       "    <tr>\n",
       "      <th>std</th>\n",
       "      <td>0.606580</td>\n",
       "      <td>0.290118</td>\n",
       "      <td>0.259644</td>\n",
       "    </tr>\n",
       "    <tr>\n",
       "      <th>min</th>\n",
       "      <td>-1.462963</td>\n",
       "      <td>0.788462</td>\n",
       "      <td>0.181022</td>\n",
       "    </tr>\n",
       "    <tr>\n",
       "      <th>25%</th>\n",
       "      <td>-0.115385</td>\n",
       "      <td>1.186884</td>\n",
       "      <td>0.499883</td>\n",
       "    </tr>\n",
       "    <tr>\n",
       "      <th>50%</th>\n",
       "      <td>0.215686</td>\n",
       "      <td>1.303420</td>\n",
       "      <td>0.632922</td>\n",
       "    </tr>\n",
       "    <tr>\n",
       "      <th>75%</th>\n",
       "      <td>0.551020</td>\n",
       "      <td>1.476968</td>\n",
       "      <td>0.771523</td>\n",
       "    </tr>\n",
       "    <tr>\n",
       "      <th>max</th>\n",
       "      <td>1.830189</td>\n",
       "      <td>2.462963</td>\n",
       "      <td>1.607843</td>\n",
       "    </tr>\n",
       "  </tbody>\n",
       "</table>\n",
       "</div>"
      ],
      "text/plain": [
       "         Val mean    Aro mean  Trust Mean\n",
       "count  225.000000  225.000000  225.000000\n",
       "mean     0.185758    1.343847    0.666119\n",
       "std      0.606580    0.290118    0.259644\n",
       "min     -1.462963    0.788462    0.181022\n",
       "25%     -0.115385    1.186884    0.499883\n",
       "50%      0.215686    1.303420    0.632922\n",
       "75%      0.551020    1.476968    0.771523\n",
       "max      1.830189    2.462963    1.607843"
      ]
     },
     "execution_count": 68,
     "metadata": {},
     "output_type": "execute_result"
    }
   ],
   "source": [
    "matched_data.describe()"
   ]
  },
  {
   "cell_type": "code",
   "execution_count": 71,
   "metadata": {},
   "outputs": [],
   "source": [
    "import researchpy as rp\n",
    "import scipy.stats as stats"
   ]
  },
  {
   "cell_type": "markdown",
   "metadata": {},
   "source": [
    "## Tabela krzyżowa"
   ]
  },
  {
   "cell_type": "code",
   "execution_count": null,
   "metadata": {},
   "outputs": [],
   "source": []
  },
  {
   "cell_type": "code",
   "execution_count": null,
   "metadata": {},
   "outputs": [],
   "source": []
  },
  {
   "cell_type": "code",
   "execution_count": null,
   "metadata": {},
   "outputs": [],
   "source": []
  },
  {
   "cell_type": "code",
   "execution_count": null,
   "metadata": {},
   "outputs": [],
   "source": []
  },
  {
   "cell_type": "markdown",
   "metadata": {},
   "source": [
    "## Test T"
   ]
  },
  {
   "cell_type": "code",
   "execution_count": null,
   "metadata": {},
   "outputs": [],
   "source": []
  },
  {
   "cell_type": "code",
   "execution_count": null,
   "metadata": {},
   "outputs": [],
   "source": []
  },
  {
   "cell_type": "code",
   "execution_count": null,
   "metadata": {},
   "outputs": [],
   "source": []
  }
 ],
 "metadata": {
  "kernelspec": {
   "display_name": "Python 3 (ipykernel)",
   "language": "python",
   "name": "python3"
  },
  "language_info": {
   "codemirror_mode": {
    "name": "ipython",
    "version": 3
   },
   "file_extension": ".py",
   "mimetype": "text/x-python",
   "name": "python",
   "nbconvert_exporter": "python",
   "pygments_lexer": "ipython3",
   "version": "3.10.1"
  }
 },
 "nbformat": 4,
 "nbformat_minor": 2
}
