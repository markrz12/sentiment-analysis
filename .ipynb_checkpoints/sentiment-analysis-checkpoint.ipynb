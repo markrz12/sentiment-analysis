{
 "cells": [
  {
   "cell_type": "code",
   "execution_count": 1,
   "metadata": {},
   "outputs": [],
   "source": [
    "import numpy as np\n",
    "import pandas as pd\n",
    "import os\n",
    "import spacy\n",
    "import csv"
   ]
  },
  {
   "cell_type": "code",
   "execution_count": 2,
   "metadata": {},
   "outputs": [
    {
     "data": {
      "text/plain": [
       "['.ipynb_checkpoints',\n",
       " 'nawl-analysis.csv',\n",
       " 'przesłanki.csv',\n",
       " 'sentiment-analysis.ipynb']"
      ]
     },
     "execution_count": 2,
     "metadata": {},
     "output_type": "execute_result"
    }
   ],
   "source": [
    "os.listdir()  "
   ]
  },
  {
   "cell_type": "code",
   "execution_count": 3,
   "metadata": {},
   "outputs": [
    {
     "data": {
      "text/html": [
       "<div>\n",
       "<style scoped>\n",
       "    .dataframe tbody tr th:only-of-type {\n",
       "        vertical-align: middle;\n",
       "    }\n",
       "\n",
       "    .dataframe tbody tr th {\n",
       "        vertical-align: top;\n",
       "    }\n",
       "\n",
       "    .dataframe thead th {\n",
       "        text-align: right;\n",
       "    }\n",
       "</style>\n",
       "<table border=\"1\" class=\"dataframe\">\n",
       "  <thead>\n",
       "    <tr style=\"text-align: right;\">\n",
       "      <th></th>\n",
       "      <th>Typ argumentu (szeregowy lub równoległy)</th>\n",
       "      <th>Konkluzja</th>\n",
       "      <th>Przesłanka 1</th>\n",
       "      <th>Przesłanka 2</th>\n",
       "      <th>Przesłanka 3</th>\n",
       "      <th>Przesłanka 4</th>\n",
       "      <th>Przesłanka 5</th>\n",
       "    </tr>\n",
       "  </thead>\n",
       "  <tbody>\n",
       "    <tr>\n",
       "      <th>0</th>\n",
       "      <td>NaN</td>\n",
       "      <td>Rzuć palenie</td>\n",
       "      <td>Każdy rok palenia skraca życie o prawie trzy m...</td>\n",
       "      <td>NaN</td>\n",
       "      <td>NaN</td>\n",
       "      <td>NaN</td>\n",
       "      <td>NaN</td>\n",
       "    </tr>\n",
       "    <tr>\n",
       "      <th>1</th>\n",
       "      <td>szeregowy</td>\n",
       "      <td>Szczepmy się</td>\n",
       "      <td>Mamy teraz do czynienia z koronawirusem typu d...</td>\n",
       "      <td>[koronawirus typu delta] to wyjątkowo zakaźna ...</td>\n",
       "      <td>Teraz mamy w Polsce już sześć tysięcy zakażeń ...</td>\n",
       "      <td>W województwie lubelskim szpitale są już na gr...</td>\n",
       "      <td>NaN</td>\n",
       "    </tr>\n",
       "    <tr>\n",
       "      <th>2</th>\n",
       "      <td>szeregowy</td>\n",
       "      <td>Unikaj dotykania oczu, nosa i ust</td>\n",
       "      <td>Dłonie dotykają wielu powierzchni, które mogą ...</td>\n",
       "      <td>Jeśli dotkniesz oczu, nosa lub ust zanieczyszc...</td>\n",
       "      <td>NaN</td>\n",
       "      <td>NaN</td>\n",
       "      <td>NaN</td>\n",
       "    </tr>\n",
       "    <tr>\n",
       "      <th>3</th>\n",
       "      <td>równoległy</td>\n",
       "      <td>Bądż aktywny fizycznie i zdrowo się odżywiaj</td>\n",
       "      <td>Regularna aktywność fizyczna jest kluczem do u...</td>\n",
       "      <td>Nawet 3-godzinny spacer raz w tygodniu, zmniej...</td>\n",
       "      <td>Wysiłek fizyczny odgrywa istotną rolę w zapobi...</td>\n",
       "      <td>Brak aktywności fizycznej wiąże się z gorszą j...</td>\n",
       "      <td>Nieodpowiednia dieta oraz brak aktywności fizy...</td>\n",
       "    </tr>\n",
       "    <tr>\n",
       "      <th>4</th>\n",
       "      <td>równoległy</td>\n",
       "      <td>Noś maskę.</td>\n",
       "      <td>Osłanianie twarzy chroni Ciebie i innych.</td>\n",
       "      <td>Maska zatrzymuje rozprzestrzenianie się wirusa</td>\n",
       "      <td>Maska zmniejsza ryzyko infekcji o 75%</td>\n",
       "      <td>NaN</td>\n",
       "      <td>NaN</td>\n",
       "    </tr>\n",
       "  </tbody>\n",
       "</table>\n",
       "</div>"
      ],
      "text/plain": [
       "  Typ argumentu (szeregowy lub równoległy)  \\\n",
       "0                                      NaN   \n",
       "1                                szeregowy   \n",
       "2                               szeregowy    \n",
       "3                               równoległy   \n",
       "4                               równoległy   \n",
       "\n",
       "                                      Konkluzja  \\\n",
       "0                                  Rzuć palenie   \n",
       "1                                  Szczepmy się   \n",
       "2             Unikaj dotykania oczu, nosa i ust   \n",
       "3  Bądż aktywny fizycznie i zdrowo się odżywiaj   \n",
       "4                                    Noś maskę.   \n",
       "\n",
       "                                        Przesłanka 1  \\\n",
       "0  Każdy rok palenia skraca życie o prawie trzy m...   \n",
       "1  Mamy teraz do czynienia z koronawirusem typu d...   \n",
       "2  Dłonie dotykają wielu powierzchni, które mogą ...   \n",
       "3  Regularna aktywność fizyczna jest kluczem do u...   \n",
       "4          Osłanianie twarzy chroni Ciebie i innych.   \n",
       "\n",
       "                                        Przesłanka 2  \\\n",
       "0                                                NaN   \n",
       "1  [koronawirus typu delta] to wyjątkowo zakaźna ...   \n",
       "2  Jeśli dotkniesz oczu, nosa lub ust zanieczyszc...   \n",
       "3  Nawet 3-godzinny spacer raz w tygodniu, zmniej...   \n",
       "4     Maska zatrzymuje rozprzestrzenianie się wirusa   \n",
       "\n",
       "                                        Przesłanka 3  \\\n",
       "0                                                NaN   \n",
       "1  Teraz mamy w Polsce już sześć tysięcy zakażeń ...   \n",
       "2                                                NaN   \n",
       "3  Wysiłek fizyczny odgrywa istotną rolę w zapobi...   \n",
       "4              Maska zmniejsza ryzyko infekcji o 75%   \n",
       "\n",
       "                                        Przesłanka 4  \\\n",
       "0                                                NaN   \n",
       "1  W województwie lubelskim szpitale są już na gr...   \n",
       "2                                                NaN   \n",
       "3  Brak aktywności fizycznej wiąże się z gorszą j...   \n",
       "4                                                NaN   \n",
       "\n",
       "                                        Przesłanka 5  \n",
       "0                                                NaN  \n",
       "1                                                NaN  \n",
       "2                                                NaN  \n",
       "3  Nieodpowiednia dieta oraz brak aktywności fizy...  \n",
       "4                                                NaN  "
      ]
     },
     "execution_count": 3,
     "metadata": {},
     "output_type": "execute_result"
    }
   ],
   "source": [
    "plik = 'przesłanki.csv'\n",
    "data = pd.read_csv(plik, encoding='windows-1250', header=[0])\n",
    "data.head()"
   ]
  },
  {
   "cell_type": "code",
   "execution_count": 4,
   "metadata": {},
   "outputs": [
    {
     "data": {
      "text/plain": [
       "(66, 7)"
      ]
     },
     "execution_count": 4,
     "metadata": {},
     "output_type": "execute_result"
    }
   ],
   "source": [
    "data.shape"
   ]
  },
  {
   "cell_type": "markdown",
   "metadata": {},
   "source": [
    "### Braki danych"
   ]
  },
  {
   "cell_type": "code",
   "execution_count": 5,
   "metadata": {},
   "outputs": [
    {
     "name": "stdout",
     "output_type": "stream",
     "text": [
      "                                          Brakujące dane:\n",
      "Typ argumentu (szeregowy lub równoległy)                1\n",
      "Konkluzja                                               0\n",
      "Przesłanka 1                                            2\n",
      "Przesłanka 2                                            3\n",
      "Przesłanka 3                                           32\n",
      "Przesłanka 4                                           53\n",
      "Przesłanka 5                                           62\n"
     ]
    }
   ],
   "source": [
    "braki_danych = pd.concat([data.isnull().sum()], axis = 1, keys = [\"Brakujące dane:\"])\n",
    "print(braki_danych)"
   ]
  },
  {
   "cell_type": "code",
   "execution_count": 6,
   "metadata": {},
   "outputs": [
    {
     "data": {
      "text/plain": [
       "'Dym tytoniowy ma negatywny wpływ na stan układu oddechowego'"
      ]
     },
     "execution_count": 6,
     "metadata": {},
     "output_type": "execute_result"
    }
   ],
   "source": [
    "data[\"Przesłanka 3\"][5]"
   ]
  },
  {
   "cell_type": "markdown",
   "metadata": {},
   "source": [
    "## Spacy - pobranie pakietów"
   ]
  },
  {
   "cell_type": "code",
   "execution_count": 7,
   "metadata": {},
   "outputs": [],
   "source": [
    "nlp = spacy.load(\"pl_core_news_lg\")"
   ]
  },
  {
   "cell_type": "code",
   "execution_count": 8,
   "metadata": {},
   "outputs": [
    {
     "name": "stdout",
     "output_type": "stream",
     "text": [
      "3.2.1\n"
     ]
    }
   ],
   "source": [
    "print(spacy.__version__)  "
   ]
  },
  {
   "cell_type": "markdown",
   "metadata": {},
   "source": [
    "### Przykład"
   ]
  },
  {
   "cell_type": "code",
   "execution_count": 9,
   "metadata": {},
   "outputs": [],
   "source": [
    "s = str(data[\"Konkluzja\"][5])\n",
    "doc = nlp(s)"
   ]
  },
  {
   "cell_type": "code",
   "execution_count": 10,
   "metadata": {
    "scrolled": true
   },
   "outputs": [
    {
     "name": "stdout",
     "output_type": "stream",
     "text": [
      "Zrezygnuj,zrezygnować\n",
      "z,z\n",
      "używek,używka\n",
      ".,.\n"
     ]
    }
   ],
   "source": [
    "for token in doc:\n",
    "    print(f\"{token},{token.lemma_}\")"
   ]
  },
  {
   "cell_type": "markdown",
   "metadata": {},
   "source": [
    "## Tokenizacja, lematyzacja"
   ]
  },
  {
   "cell_type": "code",
   "execution_count": 11,
   "metadata": {},
   "outputs": [
    {
     "name": "stdout",
     "output_type": "stream",
     "text": [
      "[['rzucić', 'palenie', 'każdy', 'rok', 'palenie', 'skracać', 'żyto', 'o', 'prawie', 'trzy', 'miesiąc', '.'], ['szczepić', 'się', 'mieć', 'teraz', 'do', 'czynienie', 'z', 'koronawirusem', 'typ', 'delta', ',', 'którego', 'nie', 'znać', 'na', 'początek', 'pandemia', '[', 'koronawirus', 'typ', 'delta', ']', 'to', 'wyjątkowo', 'zakaźny', 'odmiana', 'i', 'osoba', ',', 'które', 'nie', 'są', 'zaszczepione', 'narażać', 'się', 'na', 'wyjątkowo', 'ciężki', 'przebieg', 'choroba', 'teraz', 'mieć', 'w', 'Polska', 'już', 'sześć', 'tysiąc', 'zakażenie', 'dziennie', 'w', 'województwo', 'lubelski', 'szpital', 'są', 'już', 'na', 'granica', 'wydolność'], ['unikać', 'dotykania', 'oko', ',', 'nos', 'i', 'usta', 'dłoń', 'dotykać', 'wielu', 'powierzchnia', ',', 'które', 'móc', 'być', 'skażone', 'wirus', '.', 'jeśli', 'dotknąć', 'oko', ',', 'nos', 'lub', 'usta', 'zanieczyszczonymi', 'ręka', ',', 'móc', 'przenieść', 'wirus', 'z', 'powierzchnia', 'na', 'siebie', '.'], ['bądż', 'aktywny', 'fizycznie', 'i', 'zdrowo', 'się', 'odżywiać', 'regularny', 'aktywność', 'fizyczny', 'jest', 'klucz', 'do', 'utrzymanie', 'naszego', 'organizm', 'w', 'zdrowie', '.', 'nawet', '3', '-', 'godzinny', 'spacer', 'raz', 'w', 'tydzień', ',', 'zmniejszać', 'umieralność', 'o', 'ok', '.', '25', '-', '47\\\\%', 'oraz', 'zmniejszać', 'ryzyka', 'choroba', 'niedokrwienny', 'serce', 'o', 'ok', '.', '30', '-', '50\\\\%', '.', 'wysiłek', 'fizyczny', 'odgrywać', 'istotny', 'rola', 'w', 'zapobieganie', 'choroba', 'degeneracyjny', 'mózg', 'Braki', 'aktywność', 'fizyczny', 'wiązać', 'się', 'z', 'zły', 'jakość', 'życie', 'oraz', 'negatywnie', 'wpływać', 'na', 'stan', 'zdrowie', '.'], ['nosić', 'maska', '.', 'osłanianie', 'twarz', 'chronić', 'ty', 'i', 'inny', '.', 'Masek', 'zatrzymywać', 'rozprzestrzenianie', 'się', 'wirus', 'Masek', 'zmniejszać', 'ryzyka', 'infekcja', 'o', '75', '%'], ['zrezygnować', 'z', 'używka', '.', 'światowy', 'organizacja', 'zdrowie', '(', 'who', ')', 'alarmować', ',', 'że', 'osoba', 'palący', 'są', 'bardzo', 'narażone', 'na', 'komplikacja', 'związane', 'zarażenie', 'koronawirusem', 'sars', '-', 'cov', '-', '2', '.', ' ', 'koronawirus', 'atakować', 'droga', 'oddechowy', 'i', 'powodować', 'on', 'uszkodzenie', '.', 'dyma', 'tytoniowy', 'mieć', 'negatywny', 'wpływ', 'na', 'stan', 'układ', 'oddechowy', ' ', 'u', 'palacz', 'móc', 'wystąpić', 'ciężki', 'dolegliwość', 'związane', 'z', 'zarażenie', 'koronawirusem', '.'], ['zbadać', 'pierś', 'powinnaś', 'co', 'dwa', 'rok', 'badać', 'swoje', 'pierś', '.', 'znowu', 'w', 'trasa', 'ruszyć', 'mammobusy', 'i', 'dostęp', 'do', 'badanie', 'jest', 'teraz', 'łatwy', 'zbyt', 'późno', 'wykryty', 'rak', 'pierś', 'zabijać'], ['zostań', 'dawca', 'szpik', 'procedura', 'pobierania', 'szpik', 'nie', 'boleć', 'i', 'nie', 'jest', 'skomplikowany', '.', 'dzięki', 'dawca', 'biorca', 'móc', 'wyzdrowieć', '.', ' ', 'dzięki', 'dawca', 'umierający', 'biorca', 'dostawać', 'szansa', 'na', 'więcej', 'czas', 'spędzonego', 'z', 'rodzina', '.', 'donacja', 'pozytywnie', 'zmieniać', 'pogląd', 'na', 'świat', 'biorca', 'i', 'jest', 'źródło', 'dobry', 'emocja', '.'], ['wykonywać', 'rutynowy', 'badanie', 'czerniak', 'to', 'jeden', 'z', 'rzadko', 'występujących', ',', 'ale', 'przy', 'tym', 'bardzo', 'niebezpieczny', 'nowotwór', 'skóra', '.', 'powodzenie', 'terapia', 'zależeć', 'przed', 'wszystkim', 'od', 'szybki', 'diagnoza', 'i', 'wdrożenie', 'skuteczny', 'leczenie', '.'], ['zwiększyć', 'ilość', 'rucho', 'w', 'redukcja', 'waga', 'ważny', 'jest', 'także', 'rucho', '.', 'według', 'szacunek', 'organizacja', 'world', 'cancer', 'research', 'fund', 'około', '20', '%', 'przypadek', 'nowotwór', 'diagnozowanych', 'w', 'usa', 'mieć', 'związka', 'z', 'niski', 'aktywność', 'fizyczny', '(', 'wysoki', 'masa', 'ciało', ')', 'i', 'inny', 'błąd', 'w', 'stylo', 'życie'], ['rzucić', 'palenie', 'główny', 'przyczyna', 'występowanie', 'różny', 'rodzaj', 'nowotwór', '\\xa0', 'jeden', 'papieros', 'zawierać', '(', '...', ')', 'nawet', '70', 'substancja', 'rakotwórczy'], ['zmienić', 'swoje', 'nawyk', 'na', 'zdrowy', '.', '\\xa0', 'gdyby', 'lud', 'wcześnie', 'decydować', 'się', 'na', 'zmiana', 'swojego', 'zdrowy', 'stylo', 'życie'], ['zaszczep', 'się', 'przeciwko', 'covid', '-', '19', '.', 'przejść', 'już', 'tak', 'wiele', '[', 'podczas', 'pandemia', ']'], ['regularnie', 'badać', 'swoje', 'pierś', '.', 'czas', 'grać', 'tutaj', 'ogromny', 'rola', '.', 'nowotwór', 'wcześnie', 'rozpoznany', 'dawać', 'szansa', 'na', 'całkowity', 'wyleczenie', '.'], ['Myja', 'i', 'dezynfekuj', 'ręka', '.', 'higiena', 'ręka', 'jest', 'jeden', 'z', 'skuteczny', 'działanie', 'ograniczający', 'rozprzestrzenianie', 'się', 'patogen', 'i', 'zapobiegających', 'infekcja', ',', 'w', 'tym', 'zakażenie', 'wirus', 'covid', '-', '19', 'myto', 'i', 'dezynfekcja', 'ręka', 'przyczyniać', 'się', 'do', 'poprawa', 'bezpieczeństwo', 'opieka', 'nad', 'pacjent', '.', 'myto', 'i', 'dezynfekcja', 'ręka', 'zapobiegać', 'zakażenie', 'na', 'różny', 'groźny', 'choroba', 'zakaźny', '.'], ['spoć', 'się', 'pot', 'to', 'zdrowy', 'objaw', ',', 'towarzyszący', 'aktywność', '[', 'pot', ']', 'oznaczać', ',', 'że', 'zrobić', 'coś', 'dobry', 'dla', 'naszego', 'organizm'], ['utrzymywać', 'waga', 'ciało', 'w', 'norma', 'nadwaga', 'prowadzić', 'między', 'inny', 'do', 'zaburzenie', 'gospodarka', 'lipidowy', '-', 'podwyższonego', 'poziom', 'trójgliceryd', 'i', 'obniżenie', 'poziom', 'dobry', 'cholesterol', 'hdl', '[', 'zaburzenie', 'gospodarka', 'lipidowy', ']', 'zwiększać', 'ryzyka', 'choroba', 'układ', 'krążenie', ',', 'w', 'tym', 'udar'], ['nigdy', ',', 'przenigdy', 'nie', 'dawać', 'inny', 'osoba', 'lek', 'przeznaczonych', 'dla', 'my', 'on', '[', 'lek', ']', 'jest', 'bezpieczny', 'dla', 'my', 'każdy', 'pacjent', 'mieć', 'inny', 'historia', 'tylko', 'medyk', 'być', 'w', 'stań', 'ocenić', 'co', 'i', 'w', 'jakich', 'dawka', 'należeć', 'przyjmować'], ['oddychać', 'przez', 'nos', 'wdychane', 'powietrze', ',', 'zostawać', 'w', 'naturalny', 'sposób', 'nawilżone', 'i', 'oczyszczone', 'w', 'nosio', 'w', 'trakt', 'mówienie', 'bardzo', 'szybko', 'pobierać', 'powietrze', 'usta', ',', 'przez', 'co', 'pomijać', 'droga', 'naturalny', 'ochrona', ',', 'wysuszać', 'śluzówka', 'konsekwencja', '[', 'oddychanie', 'przez', 'usta', ']', 'jest', 'wielki', 'podatność', 'na', 'różny', 'rodzaj', 'infekcja', 'górny', 'drogi', 'oddechowy'], ['nie', 'pić', 'słodki', 'napój', 'po', 'wieczorny', 'mycie', 'ząb', 'sok', 'owocowy', 'zawierać', 'cukier', 'prosty', ',', 'które', 'są', 'doskonały', 'pożywka', 'dla', 'bakteria', 'bakteria', ',', 'które', 'rozwijać', 'się', 'na', 'powierzchnia', 'ząb', 'i', 'dziąsło', ',', 'prowadzić', 'do', 'rozwój', 'próchnica'], ['wykonywać', 'regularnie', 'morfologia', 'krew', '.', 'morfologia', 'jest', 'tani', 'i', 'łatwo', 'dostępny', '.', 'badan', 'to', 'dostarczać', 'bardzo', 'wielu', 'cenny', 'informacja', 'o', 'stań', 'organizm', '.', 'morfologia', 'umożliwiać', 'naprowadzenie', 'diagnostyka', 'na', 'właściwy', 'tor', '.', 'dzięki', 'badanie', 'lekarz', 'być', 'w', 'stań', 'ocenić', 'skutek', 'zastosowany', 'leczenie', '.'], ['zaszczep', 'się', 'przeciwko', 'covid', '-', '19', '.', 'szczepić', 'się', 'chronić', 'siebie', 'i', 'swoich', 'bliscy', '.', 'szczepionka', 'są', 'bardzo', 'skuteczny', 'metoda', 'chroniącą', 'przed', 'zakażenie', '.', 'ludzkość', 'z', 'powodzenie', 'korzystać', 'z', 'szczepionka', 'od', 'kilkuset', 'rok', '.'], ['izolacja', 'była', 'trudny', 'emocjonalnie', 'czas', 'dla', 'uczeń', '.', 'u', '75', '%', 'dziecko', 'często', 'niż', 'wcześnie', 'zdarzać', 'się', 'negatywny', 'reakcja', 'emocjonalny', '–', 'przejaw', 'złość', ',', 'obrażanie', 'się', ',', 'nie', 'przestrzeganie', 'polecenie', 'czy', 'zamykanie', 'się', 'w', 'sobie._x000d', '_', 'ponad', 'połowa', 'respondent', 'uznać', ',', 'że', 'w', 'okres', 'pandemia', 'samopoczucie', 'on', 'dziecko', 'pogorszyć', 'się._x000d', '_', 'co', 'czwarty', 'dziecko', '(', '28', '%', ')', 'przyznać', ',', 'że', 'stale', 'lub', 'często', 'jest', 'rozzłoszczone', ',', 'co', 'piąty', 'odczuwać', 'stały', '/', 'częsty', 'przygnębienie', ',', 'osamotnienie', 'czy', 'smutek', '.'], ['na', 'naszą', 'kondycja', 'psychiczny', 'oraz', 'poziom', 'stres', 'w', 'czas', 'pandemia', 'wpłynąć', 'przed', 'wszystkim', 'narzucone', 'my', 'obostrzenie', 'i', 'ograniczenie', '.', 'restrykcja', 'oraz', 'związane', 'z', 'on', 'ograniczenie', 'mieć', 'również', 'ogromny', 'wpływ', 'na', 'nasze', 'plan', 'związane', 'z', 'przyszłość', '–', 'aż', 'połowa', 'z', 'my', 'przyznawać', ',', 'że', 'w', 'czas', 'pandemia', 'musieć', 'zrezygnować', 'z', 'spełniania', 'swoich', 'marzenie', ',', 'realizowania', 'pasja', 'oraz', 'osiągania', 'cel', ',', 'również', 'zawodowy', '.', 'wielki', 'wyzwanie', 'jest', 'jednak', 'poprawa', 'zdrowie', 'fizyczny', '–', 'aż', '60', '%', 'respondent', 'czuć', ',', 'że', 'musić', 'popracować', 'nad', 'swoją', 'kondycja', 'i', 'zdrowie', ',', 'przed', 'wszystkim', ',', 'wracać', 'do', 'aktywność', 'fizyczny', '.'], ['platforma', 'facebook', 'zagrażać', 'zdrowie', 'i', 'dobrobyt', 'naszych', 'obywatel', ',', 'podkopywać', 'demokracja', '.', 'kierownictwo', 'firma', 'nie', 'ujawniać', 'ważny', 'informacja', 'opinia', 'publiczny', ',', 'rządowy', 'usa', ',', 'akcjonariusz', 'i', 'rząd', 'na', 'cały', 'świecie._x000d', '_', 'dokument', ',', 'które', 'ujawnić', ',', 'dowodzić', ',', 'że', 'facebook', 'regularnie', 'zwodzić', 'my', 'w', 'kwestia', 'tego', ',', 'co', 'jasno', 'wynikać', 'z', 'on', 'własny', 'badanie', 'o', 'bezpieczeństwo', 'dziecko', 'i', 'on', 'rola', 'w', 'rozprzestrzenianiu', 'nawistny', 'i', 'polaryzujących', 'informacja', '.', 'zdanie', 'heugen', '\"', 'kierownictwo', 'firma', 'wiedzieć', ',', 'jak', 'zabezpieczyć', 'facebook', 'i', 'instagram', ',', 'ale', 'nie', 'wprowadzać', 'konieczny', 'zmiana', ',', 'ponieważ', 'stawiać', 'swoje', 'ogromny', 'zysk', 'przed', 'dobro', 'człowiek', '\"', '.'], ['w', 'tej', 'sytuacja', 'powinieneś', 'zgłosić', 'się', 'do', 'pedagog', ',', 'psycholog', 'szkolny', ',', 'wychowawca', 'lub', 'nauczyciel', '.', 'skorzystanie', 'przez', 'osoba', 'z', 'pomoc', 'specjalista', '-psychologa', ',', 'psychiatra', '–', 'wymagać', 'zgoda', 'opiekun', 'prawny', '.', 'uważać', ',', 'że', 'stan', 'twojego', 'zdrowie', 'wymagać', 'pomoc', '.', 'rodzica', 'nie', 'zgadzać', 'się', 'na', 'uzyskanie', 'pomoc', 'psychologiczny', 'lub', 'nie', 'móc', 'dojść', 'do', 'porozumienie', 'w', 'tej', 'sprawa', '.'], ['zadbać', 'o', 'zdrowie', 'swoje', 'i', 'bliski', 'i', 'zaszczepić', 'się', '.', 'iv', 'fala', 'koronawirusa', 'przybierać', 'na', 'siła', '.', 'dana', 'wskazywać', 'ponad', '15', 'tys', '.', 'zachorowań', 'dziennie', '.', 'w', 'ostatni', 'czas', 'wzrość', 'także', 'liczba', 'zgon', 'spowodowanych', 'zakażenie', 'covid', '-', '19', '.', 'rosnący', 'liczba', 'zakażenie', 'to', 'zagrożenie', 'dla', 'ty', 'i', 'twoich', 'bliscy', '.'], ['osoba', 'zaszczepione', 'oraz', 'niezaszczepione', 'z', 'powód', 'przeciwwskazanie', 'medyczny', 'powinny', '–', 'w', 'raz', 'potrzeba', '–', 'otrzymać', 'lek', 'za', 'darmo', '.'], ['nie', 'przepracowywać', 'się', '.', ' ', 'dla', 'ludzki', 'ciało', 'stres', 'fizyczny', 'związanym', 'z', 'przepracowaniem', 'jest', 'mały', 'ilość', 'sen', ',', 'sen', 'słaby', 'jakość', ',', 'regularny', 'i', 'doborowy', 'dieta', ',', 'brak', 'czas', 'na', 'odpoczynek', '.', '\\n', 'stres', 'psychiczny', 'i', 'fizyczny', 'zwiększać', 'wydzielanie', 'katecholamina', '(', 'adrenalina', 'i', 'noradrenalina', ')', 'oraz', 'kortyzolu', '.', '\\n', 'wydzielanie', 'katecholamina', 'oraz', 'kortyzolu', 'wiązać', 'się', 'z', 'nadciśnienie', ',', 'miażdżyca', 'i', 'zwielokrotnionym', 'ryzyko', 'choroba', 'układ', 'krążenie', '.', '\\n', 'choroba', 'układ', 'krążenie', ':', 'incydent', 'sercowy', '-', 'naczyniowy', ',', 'w', 'tym', 'udar', ',', 'zawała', 'i', 'sah', '(', 'krwotok', 'podpajęczynówkowy', ')', 'móc', 'prowadzić', 'do', 'kiroshi', '-', 'śmierć', 'z', 'przepracowania', '.', '\\n'], ['zaszczep', 'się', 'przeciwko', 'grypa', '.', 'grypę', 'sezonowy', 'często', 'wywoływać', 'wirus', 'z', 'podtyp', 'h1n1', ',', 'h3n1', 'i', 'czas', 'h2n2', '.', '\\n', '[', 'zakażenie', 'wirus', 'z', 'podtyp', 'h1n1/h3n1/h2n2', 'powodować', ']', 'objaw', ':', 'gorączka', ',', 'dreszcz', ',', 'ból', 'mięsień', ',', 'głowa', ',', 'osłabienie', ',', 'zły', 'samopoczucie', ',', 'ból', 'gardło', ',', 'suchy', 'i', 'męczący', 'kaszel', '.', '\\n', 'powikłanie', 'po', 'zakażenie', 'wirus', 'z', 'podtyp', 'h1n1/h3n1/h2n2', 'obejmować', ':', 'zapalenie', 'płuco', ',', 'angina', ',', 'zaostrzenie', 'choroba', 'przewlekły', ',', 'zapalenie', 'opona', 'mózgowy', '-', 'rdzeniowy', 'i', 'mózg', ',', 'poprzeczny', 'zapalenie', 'rdzeń', 'kręgowy', ',', 'zapalenie', 'mięsień', ',', 'zapalenie', 'mięsień', 'sercowy', ',', 'sepsa', ',', 'niewydolność', 'wielonarządową', '.'], ['zaszczep', 'się', 'przeciwko', 'covid', '-', '19', '.', 'co', '3', '.', 'uczenie', 'cierpieć', 'z', 'powód', 'izolacja', '.', '\\n', 'uczeń', 'móc', 'czekać', 'powrót', 'na', 'nauka', 'zdalny', 'w', 'daleki', 'czas', '.', 'dziecko', 'są', 'szczęśliwy', 'w', 'szkoła', '.'], ['badać', 'się', 'i', 'lecz', '!', 'choroba', 'przewlekły', ',', 'takie', 'jak', 'cukrzyca', ',', 'choroba', 'sercowy', '-', 'naczyniowy', ',', 'nowotwór', 'czy', 'choroba', 'płuco', 'nie', 'być', 'czekać', 'na', 'ustąpienie', 'pandemia', '.', 'wczesny', 'diagnostyk', 'i', 'kontynuacja', 'leczenie', 'są', 'kluczowy', ',', 'by', 'poprawić', 'stan', 'zdrowie', 'pacjent', '.'], ['jeść', 'mniej', 'cukier', 'zbyt', 'duży', 'ilość', 'cukier', 'w', 'dieta', 'móc', 'nie', 'tylko', 'prowadzić', 'do', 'otyłość', ',', 'cukrzyk', 'czy', 'choroba', 'serce', ',', 'ale', 'również', 'przyczyniać', 'się', 'do', 'obniżania', 'poziom', 'energia', 'w', 'ciąg', 'dzień', '.', 'słodki', 'przekąska', 'to', 'tylko', 'chwilowy', 'zastrzyk', 'energia', '.', 'pokarm', 'bogaty', 'w', 'cukier', 'powodować', 'szybki', 'wzrost', 'poziom', 'cukier', 'w', 'krew', ',', 'a', 'następnie', 'również', 'szybki', 'on', 'spadek', '.'], ['wysypiać', 'się', '!', 'sen', 'jest', 'jeden', 'z', 'ważny', 'funkcja', 'warunkujących', 'jakość', 'naszego', 'życie', 'i', 'zdrowie', '.', 'wykazać', ',', 'że', 'zarówno', 'zbyt', 'krótki', 'sen', ',', 'jak', 'i', 'pogorszenie', 'on', 'jakość', 'zaburzać', 'gospodarka', 'węglowodanowy', '.', 'jakościowy', 'sen', 'chronić', 'przed', 'otyłość', 'i', 'cukrzyca', '.'], ['ogranicz', 'cukier', '!', 'słodycz', 'i', 'wszystkie', 'inny', 'źródło', 'cukier', 'to', 'główny', 'wróg', 'twojego', 'zdrowie', 'i', 'sylwetka', '.', 'produkt', 'z', 'cukier', 'są', 'częsty', 'przyczyna', 'zaburzenie', 'metaboliczny', 'i', 'niektórych', 'rodzaj', 'choroba', 'nowotworowy', '.'], ['nie', 'bać', 'się', 'szczepionka', 'naukowiec', 'przekonywać', ',', 'że', 'szczepionka', 'są', 'dużo', 'korzystny', 'dla', 'zdrowie', ',', 'niż', 'dotychczas', 'sądzić', '.', ' ', 'dzięki', 'on', 'układ', 'odpornościowy', 'zwalczać', 'infekcja', 'o', 'wiele', 'sprawnie', 'niż', 'u', 'osoba', ',', 'które', 'nie', 'zostały', 'zaszczepione', '.'], ['Polak', ',', 'myć', 'ręka', '!', 'każde', 'dotknięcie', 'klamka', ',', 'banknot', 'czy', 'poręcze', 'w', 'autobus', 'sprawiać', ',', 'że', 'na', 'nasze', 'ręka', 'dostawać', 'się', 'od', '100', 'do', '10', 'tys', '.', 'komórka', 'drobnoustrój', '.', 'badanie', '\\xa0', 'naukowiec', '\\xa0', 'z', '\\xa0', 'uniwersytet', '\\xa0', 'michigan', '\\xa0', 'udowodnić', ',', '\\xa0', 'że', '\\xa0', 'myto', '\\xa0', 'ręka', '\\xa0', 'woda', '\\xa0', 'z', '\\xa0', 'mydło', '\\xa0', 'przez', '\\xa0', '15', '\\xa0', 'sekunda', '\\xa0', 'redukować', '\\xa0', 'liczba', '\\xa0', 'groźny', '\\xa0', 'bakteria', '\\xa0', 'o', '90', '\\xa0', 'proc', '.', 'światowy', 'organizacja', 'zdrowie', 'szacować', ',', 'że', '69', 'proc', '.', 'zakażenie', 'przewód', 'pokarmowy', 'to', 'efekt', 'niemycia', 'ręka'], ['dbać', 'o', 'mózg', '!', '\\xa0', 'w', 'Polska', 'z', 'choroba', 'mózg', 'zmagać', 'się', '15', 'mln', 'człowiek', ',', 'a', 'liczba', 'zachorowań', 'stale', 'rosnąć', '.', 'przyczyna', 'jest', 'często', 'zaawansowany', 'wieko', 'pacjent', ',', 'tymczasem', 'społeczeństwo', ',', 'nie', 'tylko', 'w', 'naszym', 'kraj', ',', 'coraz', 'szybko', 'się', 'starzeć', '.', 'do', 'zwiększenie', 'zachorowalność', 'na', 'choroba', 'mózg', 'przyczyniać', 'się', 'także', 'zmiana', 'cywilizacyjny', '-', 'zaburzenie', 'psychiczny', 'i', 'neurologiczny', '.'], ['żyć', 'zdrowo', 'i', 'badać', 'się', 'regularnie', 'nadwaga', 'i', 'otyłość', 'mieć', 'wpływ', 'na', 'twoje', 'zdrowie', '.', 'zwiększać', 'm.in', '.', 'ryzyka', 'zachorowania', 'na', 'różny', 'rodzaj', 'nowotwór', '.'], ['zaszczepić', 'się', 'jeśli', 'chcieć', 'iścić', 'do', 'restauracja', ',', 'do', 'kino', 'przed', 'wszystkim', 'jeśli', 'chcieć', 'żyć'], ['szczepić', 'się', 'i', 'nosić', 'maska', '.', 'chory', 'zaszczepieni', ',', 'owszem', ',', 'chorować', ',', 'ale', 'chorować', 'dużo', 'dużo', 'lekko', ',', 'i', 'nie', 'mieć', 'tych', 'ciężki', 'powikłanie', '.', 'na', 'naszym', 'oddział', 'respiratorowym', 'chory', 'zaszczepieni', 'owszem', 'są', ',', 'ale', 'z', 'powód', 'dekompensacja', 'inny', 'choroba', '.', 'na', 'oddział', 'tlenowy', 'ciężko', 'covid', 'i', 'covidowe', 'zapalenie', 'płuco', 'przechodzić', 'chory', 'niezaszczepieni', ':', '9', 'na', '10', 'umierać', ',', 'to', 'są', 'ci', ',', 'którzy', 'są', 'niezaszczepieni', 'właśnie', '.', 'w', 'ten', 'sposób', '[', 'szczepić', 'się', 'i', 'nosić', 'maska', ']', 'chronić', 'i', 'siebie', ',', 'i', 'inny', ',', 'ponieważ', 'nawet', 'jeśli', 'my', 'przechodzić', 'w', 'sposób', 'w', 'miara', 'bezobjawowy', ',', 'to', 'inny', 'osoba', 'stary', 'móc', 'przejść', 'to', 'już', 'w', 'sposób', 'dużo', 'bardzo', 'objawowy', '.'], ['skorzystać', 'z', '3', 'dawka', 'szczepionka', 'nie', 'wszystkie', 'szczepionka', 'zapewniać', 'odporność', 'na', 'cały', 'żyto', 'w', 'przypadek', 'niektórych', 'szczepienie', 'nabyta', 'odporność', 'z', 'czas', 'maleć'], ['zaszczep', 'się', 'tylko', 'szczepienie', 'gwarantować', ',', 'że', 'nie', 'zachorować', 'na', 'dany', 'choroba', 'lub', 'przejść', 'on', 'łagodnie', 'tylko', 'szczepienie', 'gwarantować', 'zniwelowanie', 'ryzyko', 'bezpieczny', 'powikłanie', '.', 'dzięki', 'szczepienie', 'udać', 'się', 'skutecznie', 'wyeliminować', 'lub', 'zmniejszyć', 'ilość', 'zachorowań', 'na', '\\xa0', 'teren', 'Europa', 'na', '\\xa0', 'wiele', 'śmiertelny', 'choroba'], ['nie', 'palić', 'papieros', 'Paleń', 'papieros', 'odpowiadać', 'za', 'niemal', 'jeden', 'czwarty', 'przedwczesny', 'zgon', 'z', 'powód', 'nowotwór', 'oraz', 'choroba', 'układ', 'sercowy', '-', 'naczyniowy', 'papieros', 'powodować', 'około', '40', '%', 'nowotwór', 'u', 'mężczyzna', 'i', '10', '%', 'u', 'kobieta', 'papieros', 'powodować', 'przewlekłą', 'obturacyjną', 'choroba', 'płuco', 'i', 'miażdżycę', 'zarostowy', 'tętnica', 'obwodowy', ',', 'będącą', 'główny', 'przyczyna', 'amputacja', 'noga', 'przez', 'bierny', 'palenie', 'dochodzić', 'w', 'Polska', 'do', '4', '-', '7', 'tysiąc', 'zgon', 'rocznie'], ['nie', 'brać', 'narkotyk', 'narkotyk', '\\xa0', 'wstrzymywać', 'dopływ', 'tlen', 'do', 'mózg', ',', 'przez', 'co', '\\xa0', 'obumierać', 'szary', 'komórka', '.', 'przyjmowanie', 'narkotyk', 'móc', 'spowodować', 'zapalenie', 'żyć', 'oraz', 'zapalenie', 'mięsień', 'sercowy', ',', 'co', 'móc', 'doprowadzić', 'do', 'śmierć', 'z', 'powód', 'brania', 'narkotyk', 'wątroba', 'obumierać', 'i', 'przestawać', 'funkcjonować', 'narkotyk', 'uszkadzać', 'komórka', 'rozrodczy', ',', 'powodować', 'trwały', 'zmiana', 'w', 'chromosom'], ['warto', 'się', 'szczepić', 'szczepienie', 'uczyć', 'organizm', 'człowiek', ',', 'jak', 'zareagować', 'na', 'dany', 'patogen', '.', 'układ', 'odpornościowy', 'zostaje', 'pobudzony', 'do', 'produkcja', 'przeciwciało', 'oraz', 'inny', 'czynnik', 'odpornościowy', 'dzięki', 'szczepienie', 'po', 'zetknięciu', 'się', 'z', 'patogen', 'układ', 'immunologiczny', 'być', 'w', 'stań', 'silnie', 'zareagować', 'i', 'szybko', 'zneutralizować', 'zagrożenie', 'dla', 'organizm'], ['rzucić', 'palenie', '!', 'używanie', 'tytoń', 'jest', 'główny', 'przyczyna', 'zachorowań', 'i', 'zgon', 'z', 'powód', 'choroba', 'nowotworowy', 'wśród', 'palacz', 'z', 'nowotwór', 'w', 'obręb', 'głowa', 'i', 'szyja', 'korygowane', 'ogólny', 'ryzyka', 'śmierć', 'jest', 'o', '2,5', 'raz', 'wysoki', 'niż', 'u', 'palący', 'pacjent', '.', 'w', 'przypadek', 'pacjent', 'onkologiczny', 'palenie', 'tytoń', 'zwiększać', 'ryzyka', 'kolejny', 'nowotwór', 'pierwotny', '.', 'uzależnienie', 'od', 'tytoń', 'u', 'pacjent', 'onkologiczny', 'utrudniać', 'przygotowanie', 'do', 'operacja', 'i', 'komplikować', 'zabieg', 'chirurgiczny', '.'], ['zbadać', 'pierś', 'rak', 'pierś', 'jest', 'często', 'występującym', 'nowotwór', 'u', 'kobieta', 'na', 'świat', '(', '25', '%', ')', 'i', 'częsty', 'przyczyna', 'zgon', '(', '14', '%', ')', ',', 'a', 'chory', 'na', 'rak', 'pierś', 'stanowić', '36', '%', 'kobieta', 'żyjący', 'z', 'nowotwór', '.', 'decydujący', 'znaczenie', 'w', 'kontekst', 'profilaktyka', 'i', 'zapobieganie', 'rozwój', 'zaawansowany', 'nowotwór', 'pierś', 'mieć', 'on', 'diagnostyk', 'i', 'wczesny', 'wykrycie', '(', 'wtórny', 'profilaktyka', ')', 'oparta', 'na', 'regularnie', 'przeprowadzanych', 'badanie', 'mammograficzny', '(', 'skrining', ')', '.'], ['monitorować', 'cholesterol', 'jeden', 'z', 'modyfikowalny', 'czynnik', 'ryzyko', 'choroba', 'wieńcowy', 'jest', 'nadwaga', 'i', 'otyłość', ',', 'zwłaszcza', 'typ', 'brzuszny', '.', 'pacjent', 'po', 'zawała', 'powinni', 'utrzymywać', 'prawidłowy', 'masa', 'ciało', '.'], ['zaszczep', 'się', 'nieszczepienie', 'móc', 'skazać', 'dziecko', 'na', 'nauka', 'zdalny', 'nieszczepienie', 'móc', 'skazać', 'dziecko', 'na', 'problem', 'spowodowane', 'izolacja'], ['warto', 'uprawiać', 'sport', 'w', 'czas', 'uprawianie', 'sport', 'nasze', 'ciało', 'produkować', 'endorfina', 'endorfina', 'działać', 'podobnie', 'do', 'morfina', '-', 'wywoływać', 'dobry', 'samopoczucie', ',', 'zadowolenie', 'z', 'siebie', 'i', 'inny', 'stan', 'euforyczny', '.'], ['nie', 'spożywać', 'słodki', 'napój', 'oraz', 'słodycze', 'cukier', 'oraz', 'napój', 'słodki', 'nie', 'dostarczać', 'zbędny', 'składnik', 'odżywczy', 'on', 'spożywanie', 'sprzyjać', 'powstawanie', 'nadmierny', 'masa', 'ciało', 'ponadto', 'przyczyniać', 'się', 'do', 'rozwój', 'próchnica'], ['nie', 'jeść', 'kogel', '-', 'mogel', 'i', 'jajko', 'na', 'miękko', 'w', 'ciąża', 'kogel', '-', 'mogel', 'lub', 'jajko', 'na', 'miękko', 'móc', 'być', 'zakażone', 'salmonella', 'salmonella', 'w', 'ciąża', 'móc', 'być', 'groźny', '.'], ['należeć', 'ograniczyć', 'sól', 'w', 'dieta', ',', 'a', 'nawet', 'całkowicie', 'on', 'wyeliminować', 'nadmierny', 'spożycie', 'sól', 'móc', 'prowadzić', 'do', 'wielu', 'poważny', 'choroba', ',', 'takich', 'jak', ':', 'otyłość', ',', 'nadciśnienie', 'tętniczy', ',', 'udar', 'mózg', ',', 'zawała', 'serce', 'czy', 'rak', 'żołądek', 'do', 'tego', 'powodować', 'wielki', 'wydalanie', 'wapń', 'z', 'mocz', ',', 'a', 'w', 'konsekwencja', 'powstawanie', 'kamień', 'nerkowy', '.', '\\n'], ['nie', 'pić', 'woda', 'alkaliczny', 'w', 'trakt', 'posiłek', 'w', 'żołądek', ',', 'do', 'którego', 'trafiać', 'pokarm', 'znajdywać', 'się', 'kwaśny', 'środowisko', ',', 'w', 'którym', 'woda', 'zasadowy', 'nie', 'być', 'czuć', 'się', 'dobrze', 'móc', 'to', 'zaowocować', 'problem', 'i', 'ból', 'żołądek'], ['zaszczepić', 'się', 'dawka', 'przypominającą', 'szczepionka', '.', 'przyjęcie', 'dawka', 'przypominającej', 'wzmocnić', 'zdolność', 'organizm', 'do', 'walka', 'z', 'wirus', '.', 'pełny', 'zaszczepienie', 'się', 'znacząco', 'zmniejszać', 'ryzyka', 'ciężki', 'choroba', '.'], ['wykonać', 'ostatni', 'krok', ',', 'by', 'pokonać', 'pandemia', '.', 'zaszczep', 'się', '!', 'po', 'szczepienie', 'twój', 'układ', 'immunologiczny', 'odpowiadać', 'na', 'szczepionka', ',', 'tworzyć', 'przeciwciało', ',', 'które', 'zwalczać', 'dany', 'wirus', 'lub', 'bakteria', '.', 'dzięki', 'szczepienie', 'zyskować', 'ochrona', 'przed', 'ciężki', 'przebieg', 'choroba', 'i', 'powikłanie', ',', 'które', 'trudno', 'przewidzieć', '.', 'dzięki', 'szczepienie', 'ochronny', 'udać', 'się', 'powstrzymać', 'epidemia', 'wielu', 'groźny', 'choroba', '.'], ['szczepić', 'się', 'przeciw', 'covid19', '.', 'by', 'złagodzić', 'przebieg', 'choroba', ',', 'a', 'może', 'nawet', 'uodpornić', 'organizm', 'przed', 'tą', 'groźny', 'choroba', ',', 'można', 'się', 'zaszczepić', '.', 'im', 'więcej', 'osoba', 'być', 'zaszczepionych', ',', 'tym', 'prawdopodobieństwo', 'przeniesienie', 'wirus', 'być', 'mały', '.'], ['nie', 'pić', 'w', 'ciąża', '.', 'rocznie', 'w', 'Polska', 'około', '9', 'tys', '.', 'dziecko', 'rodzić', 'się', 'z', 'spektrum', 'płodowy', 'zaburzenie', 'alkoholowy', '.', '[', 'spektrum', 'płodowy', 'zaburzenie', 'alkoholowy', 'jest', ']', 'skutek', 'działanie', 'alkohol', 'na', 'płód', 'w', 'okres', 'prenatalny', '.'], ['samobadanie', '[', 'jądro', ']', 'wykonywać', 'raz', 'w', 'miesiąc', '.', 'regularny', 'samobadanie', 'jądro', 'pozwalać', 'na', 'zauważenie', 'pierwszy', 'objaw', '.', 'regularny', 'samobadanie', 'jądro', 'pozwalać', 'na', 'zauważenie', 'pierwszy', 'objaw', '.'], ['zadbać', 'o', 'nasze', 'zdrowie', 'i', 'skorzystać', 'z', 'zaproponowanej', 'profilaktyka', '.', 'wiele', 'choroba', ',', 'zwłaszcza', 'w', 'swoim', 'początkowy', 'stadium', 'rozwój', ',', 'nie', 'dawać', 'niepokojący', 'objaw', '.', 'dzięki', 'badanie', 'diagnostyczny', 'można', 'on', 'wykryć', 'na', 'wczesny', 'etap', 'i', 'uniknąć', 'długotrwały', 'leczenie', '.'], ['nie', 'podawać', 'miód', 'dziecko', 'poniżej', 'rok', '.', 'miód', 'nie', 'jest', 'produkt', 'wolny', 'od', 'zanieczyszczenie', 'mikrobiologiczny', '-', 'istnieć', 'ryzyka', 'skażenie', 'laseczka', 'jad', 'kiełbasiany', '.', 'organizm', 'mały', 'dziecko', 'nie', 'być', 'w', 'stań', 'poradzić', 'sobie', 'z', 'choroba', 'wywoływaną', 'przez', 'laseczka', 'jad', 'kiełbasiany', ',', 'zwaną', 'botulizm', '.', 'botulizm', 'jest', 'choroba', 'mogącą', 'prowadzić', 'do', 'śmierć', 'i', 'wymagać', 'natychmiastowy', 'pomoc', 'lekarski', '.'], ['poddać', 'się', 'profilaktyczny', 'badanie', 'dermatoskopowy', '.', 'nowotwór', 'złośliwy', 'skóra', 'należeć', 'do', 'liczny', 'grupa', 'złośliwy', 'choroba', 'onkologiczny', '.', 'na', 'on', 'rozwój', 'silnie', 'wpływać', 'czynnik', 'środowiskowy', ',', 'przed', 'wszystkim', 'wystawienie', 'skóra', 'na', 'promieniowanie', 'słoneczny', '.', 'osoba', ',', 'które', 'mieć', 'dużo', 'pieg', 'i', 'znamię', ',', 'jasny', 'karnacja', ',', 'rudy', 'lub', 'blond', 'włos', ',', 'są', 'narażone', 'na', 'wielki', 'ryzyka', 'zachorowania', 'na', 'czerniak', '.', 'wszelkie', 'zmiana', 'w', 'istniejących', 'znamię', 'oraz', 'pojawienie', 'się', 'nowy', 'znamię', 'należeć', 'zgłosić', 'lekarz', '.'], ['należeć', 'szczepić', 'dziecko', 'szczepienie', 'dziecko', 'pozwalać', 'eliminować', 'zagrożenie', 'wielu', ',', 'wcześnie', 'bezpieczny', '\\xa0', 'choroba', 'dziś', 'móc', 'już', 'chronić', 'przed', 'ospa', 'wietrzny', ',', 'odra', ',', 'świnka', ',', 'różyczka', ',', 'krztusiec', ',', 'błonica', 'czy', 'tężec'], ['powinniśmy', 'zatem', 'zadbać', 'nie', 'tylko', 'o', 'profilaktyka', 'higiena', ',', 'ale', 'przed', 'wszystkim', 'przyjąć', 'szczepionka', 'zarówno', 'przeciw', 'covid', '-', '19', ',', 'jak', 'i', 'inny', 'choroba', 'układ', 'oddechowy', '.', 'tegoroczny', 'okres', 'jesienny', '-', 'zimowy', 'to', 'moment', ',', 'w', 'którym', 'zmierzać', 'się', 'z', 'czwarty', 'fala', 'pandemia', 'covid', '-', '19', '.', 'jest', 'to', 'także', 'czas', 'znaczny', 'zagęszczenie', 'ognisko', 'infekcja', 'układ', 'oddechowy', ',', 'co', 'nieść', 'z', 'sobą', 'możliwość', 'koinfekcji', '.', 'jednoczesny', 'zakażenie', 'więcej', 'niż', 'jeden', 'patogen', 'znacznie', 'zwiększać', 'ryzyka', 'powikłanie', 'oraz', 'zgon', '.', 'skuteczny', 'profilaktyka', 'stanowić', 'szczepionka', '.'], ['pamiętać', 'o', 'terminowy', 'szczepienie', 'dziecko', '.', 'w', 'trakt', 'epidemia', 'zachorowalność', 'jest', 'mały', 'z', 'wzgląd', 'na', 'm.in', '.', 'utrzymywanie', 'dystans', ',', 'częsty', 'dezynfekcja', 'ręka', 'oraz', 'zakrywanie', 'usta', 'i', 'nos', '.', 'po', 'zakończenie', 'pandemia', 'ilość', 'zakażenie', 'tymi', 'choroba', 'prawdopodobnie', 'wzrosnąć', '.']]\n"
     ]
    }
   ],
   "source": [
    "with open('przesłanki.csv') as csv_file:\n",
    "    csv_reader = csv.reader(csv_file, delimiter=',')\n",
    "    next(csv_reader)\n",
    "    my_list = []\n",
    "    for row in csv_reader: \n",
    "        argument = []\n",
    "        for column in range(1, 6):\n",
    "            argument += [(x.lemma_) for x in nlp(row[column])]\n",
    "        my_list.append(argument)\n",
    "\n",
    "print(my_list)"
   ]
  },
  {
   "cell_type": "markdown",
   "metadata": {},
   "source": [
    "## Słowa emotywne"
   ]
  },
  {
   "cell_type": "markdown",
   "metadata": {},
   "source": [
    "### Wczytanie pliku csv nawl"
   ]
  },
  {
   "cell_type": "code",
   "execution_count": 31,
   "metadata": {},
   "outputs": [
    {
     "data": {
      "text/html": [
       "<div>\n",
       "<style scoped>\n",
       "    .dataframe tbody tr th:only-of-type {\n",
       "        vertical-align: middle;\n",
       "    }\n",
       "\n",
       "    .dataframe tbody tr th {\n",
       "        vertical-align: top;\n",
       "    }\n",
       "\n",
       "    .dataframe thead th {\n",
       "        text-align: right;\n",
       "    }\n",
       "</style>\n",
       "<table border=\"1\" class=\"dataframe\">\n",
       "  <thead>\n",
       "    <tr style=\"text-align: right;\">\n",
       "      <th></th>\n",
       "      <th>word</th>\n",
       "      <th>category</th>\n",
       "      <th>mean Happiness</th>\n",
       "      <th>mean Anger</th>\n",
       "      <th>mean Sadness</th>\n",
       "      <th>mean Fear</th>\n",
       "      <th>mean Disgust</th>\n",
       "      <th>distance to H</th>\n",
       "      <th>distance to A</th>\n",
       "      <th>distance to S</th>\n",
       "      <th>distance to F</th>\n",
       "      <th>distance to D</th>\n",
       "      <th>distance to N</th>\n",
       "    </tr>\n",
       "  </thead>\n",
       "  <tbody>\n",
       "    <tr>\n",
       "      <th>0</th>\n",
       "      <td>rozkoszny</td>\n",
       "      <td>H</td>\n",
       "      <td>5.296296</td>\n",
       "      <td>1.407407</td>\n",
       "      <td>1.481481</td>\n",
       "      <td>1.555556</td>\n",
       "      <td>1.370370</td>\n",
       "      <td>2.366185</td>\n",
       "      <td>7.513857</td>\n",
       "      <td>7.449380</td>\n",
       "      <td>7.387380</td>\n",
       "      <td>7.536883</td>\n",
       "      <td>4.835511</td>\n",
       "    </tr>\n",
       "    <tr>\n",
       "      <th>1</th>\n",
       "      <td>świetny</td>\n",
       "      <td>H</td>\n",
       "      <td>5.666666</td>\n",
       "      <td>1.370370</td>\n",
       "      <td>1.370370</td>\n",
       "      <td>1.370370</td>\n",
       "      <td>1.222222</td>\n",
       "      <td>1.974388</td>\n",
       "      <td>7.555593</td>\n",
       "      <td>7.567725</td>\n",
       "      <td>7.552752</td>\n",
       "      <td>7.690782</td>\n",
       "      <td>4.933031</td>\n",
       "    </tr>\n",
       "    <tr>\n",
       "      <th>2</th>\n",
       "      <td>przyjaciel</td>\n",
       "      <td>H</td>\n",
       "      <td>6.037037</td>\n",
       "      <td>1.444444</td>\n",
       "      <td>1.629630</td>\n",
       "      <td>1.555556</td>\n",
       "      <td>1.037037</td>\n",
       "      <td>1.901643</td>\n",
       "      <td>7.838998</td>\n",
       "      <td>7.691452</td>\n",
       "      <td>7.755814</td>\n",
       "      <td>8.135946</td>\n",
       "      <td>5.409170</td>\n",
       "    </tr>\n",
       "    <tr>\n",
       "      <th>3</th>\n",
       "      <td>uśmiech</td>\n",
       "      <td>H</td>\n",
       "      <td>6.333334</td>\n",
       "      <td>1.074074</td>\n",
       "      <td>1.296296</td>\n",
       "      <td>1.259259</td>\n",
       "      <td>1.111111</td>\n",
       "      <td>1.016740</td>\n",
       "      <td>8.100848</td>\n",
       "      <td>7.925011</td>\n",
       "      <td>7.938565</td>\n",
       "      <td>8.076864</td>\n",
       "      <td>5.491653</td>\n",
       "    </tr>\n",
       "    <tr>\n",
       "      <th>4</th>\n",
       "      <td>pochwała</td>\n",
       "      <td>H</td>\n",
       "      <td>5.222222</td>\n",
       "      <td>1.518519</td>\n",
       "      <td>1.296296</td>\n",
       "      <td>1.370370</td>\n",
       "      <td>1.222222</td>\n",
       "      <td>2.182792</td>\n",
       "      <td>7.264471</td>\n",
       "      <td>7.469688</td>\n",
       "      <td>7.397619</td>\n",
       "      <td>7.539364</td>\n",
       "      <td>4.667134</td>\n",
       "    </tr>\n",
       "  </tbody>\n",
       "</table>\n",
       "</div>"
      ],
      "text/plain": [
       "         word category  mean Happiness  mean Anger  mean Sadness  mean Fear  \\\n",
       "0   rozkoszny        H        5.296296    1.407407      1.481481   1.555556   \n",
       "1     świetny        H        5.666666    1.370370      1.370370   1.370370   \n",
       "2  przyjaciel        H        6.037037    1.444444      1.629630   1.555556   \n",
       "3     uśmiech        H        6.333334    1.074074      1.296296   1.259259   \n",
       "4    pochwała        H        5.222222    1.518519      1.296296   1.370370   \n",
       "\n",
       "   mean Disgust  distance to H  distance to A  distance to S  distance to F  \\\n",
       "0      1.370370       2.366185       7.513857       7.449380       7.387380   \n",
       "1      1.222222       1.974388       7.555593       7.567725       7.552752   \n",
       "2      1.037037       1.901643       7.838998       7.691452       7.755814   \n",
       "3      1.111111       1.016740       8.100848       7.925011       7.938565   \n",
       "4      1.222222       2.182792       7.264471       7.469688       7.397619   \n",
       "\n",
       "   distance to D  distance to N  \n",
       "0       7.536883       4.835511  \n",
       "1       7.690782       4.933031  \n",
       "2       8.135946       5.409170  \n",
       "3       8.076864       5.491653  \n",
       "4       7.539364       4.667134  "
      ]
     },
     "execution_count": 31,
     "metadata": {},
     "output_type": "execute_result"
    }
   ],
   "source": [
    "emo_list = 'nawl-analysis.csv'\n",
    "emo_data = pd.read_csv(emo_list, header=[0])\n",
    "emo_data.head()"
   ]
  },
  {
   "cell_type": "code",
   "execution_count": 13,
   "metadata": {},
   "outputs": [
    {
     "data": {
      "text/plain": [
       "(2902, 13)"
      ]
     },
     "execution_count": 13,
     "metadata": {},
     "output_type": "execute_result"
    }
   ],
   "source": [
    "emo_data.shape"
   ]
  },
  {
   "cell_type": "markdown",
   "metadata": {},
   "source": [
    "### Braki danych"
   ]
  },
  {
   "cell_type": "code",
   "execution_count": 14,
   "metadata": {},
   "outputs": [
    {
     "name": "stdout",
     "output_type": "stream",
     "text": [
      "                Brakujące dane:\n",
      "word                          0\n",
      "category                      0\n",
      "mean Happiness                0\n",
      "mean Anger                    0\n",
      "mean Sadness                  0\n",
      "mean Fear                     0\n",
      "mean Disgust                  0\n",
      "distance to H                 0\n",
      "distance to A                 0\n",
      "distance to S                 0\n",
      "distance to F                 0\n",
      "distance to D                 0\n",
      "distance to N                 0\n"
     ]
    }
   ],
   "source": [
    "braki_danych = pd.concat([emo_data.isnull().sum()], axis = 1, keys = [\"Brakujące dane:\"])\n",
    "print(braki_danych)"
   ]
  },
  {
   "cell_type": "markdown",
   "metadata": {},
   "source": [
    "### Funkcja matcher"
   ]
  },
  {
   "cell_type": "code",
   "execution_count": 43,
   "metadata": {},
   "outputs": [
    {
     "data": {
      "text/html": [
       "<div>\n",
       "<style scoped>\n",
       "    .dataframe tbody tr th:only-of-type {\n",
       "        vertical-align: middle;\n",
       "    }\n",
       "\n",
       "    .dataframe tbody tr th {\n",
       "        vertical-align: top;\n",
       "    }\n",
       "\n",
       "    .dataframe thead th {\n",
       "        text-align: right;\n",
       "    }\n",
       "</style>\n",
       "<table border=\"1\" class=\"dataframe\">\n",
       "  <thead>\n",
       "    <tr style=\"text-align: right;\">\n",
       "      <th></th>\n",
       "      <th>word</th>\n",
       "      <th>line_no</th>\n",
       "      <th>word_no</th>\n",
       "      <th>category</th>\n",
       "      <th>distance to H</th>\n",
       "      <th>distance to A</th>\n",
       "      <th>distance to S</th>\n",
       "      <th>distance to F</th>\n",
       "      <th>distance to D</th>\n",
       "      <th>distance to N</th>\n",
       "      <th>mean Happiness</th>\n",
       "      <th>mean Anger</th>\n",
       "      <th>mean Sadness</th>\n",
       "      <th>mean Fear</th>\n",
       "      <th>mean Disgust</th>\n",
       "    </tr>\n",
       "  </thead>\n",
       "  <tbody>\n",
       "    <tr>\n",
       "      <th>0</th>\n",
       "      <td>miesiąc</td>\n",
       "      <td>0</td>\n",
       "      <td>10</td>\n",
       "      <td>N</td>\n",
       "      <td>5.225991</td>\n",
       "      <td>6.215194</td>\n",
       "      <td>6.199241</td>\n",
       "      <td>6.194709</td>\n",
       "      <td>6.605497</td>\n",
       "      <td>2.437150</td>\n",
       "      <td>2.518518</td>\n",
       "      <td>1.666667</td>\n",
       "      <td>1.740741</td>\n",
       "      <td>1.666667</td>\n",
       "      <td>1.259259</td>\n",
       "    </tr>\n",
       "    <tr>\n",
       "      <th>1</th>\n",
       "      <td>szczepić</td>\n",
       "      <td>1</td>\n",
       "      <td>0</td>\n",
       "      <td>U</td>\n",
       "      <td>6.649793</td>\n",
       "      <td>6.738930</td>\n",
       "      <td>6.717422</td>\n",
       "      <td>5.778473</td>\n",
       "      <td>6.531515</td>\n",
       "      <td>3.592245</td>\n",
       "      <td>1.807692</td>\n",
       "      <td>2.038461</td>\n",
       "      <td>2.076923</td>\n",
       "      <td>2.923077</td>\n",
       "      <td>2.269231</td>\n",
       "    </tr>\n",
       "    <tr>\n",
       "      <th>2</th>\n",
       "      <td>znać</td>\n",
       "      <td>1</td>\n",
       "      <td>13</td>\n",
       "      <td>U</td>\n",
       "      <td>2.901079</td>\n",
       "      <td>7.038951</td>\n",
       "      <td>6.974503</td>\n",
       "      <td>7.046381</td>\n",
       "      <td>6.993334</td>\n",
       "      <td>3.780188</td>\n",
       "      <td>4.538462</td>\n",
       "      <td>1.269231</td>\n",
       "      <td>1.346154</td>\n",
       "      <td>1.269231</td>\n",
       "      <td>1.307692</td>\n",
       "    </tr>\n",
       "    <tr>\n",
       "      <th>3</th>\n",
       "      <td>początek</td>\n",
       "      <td>1</td>\n",
       "      <td>15</td>\n",
       "      <td>U</td>\n",
       "      <td>5.008894</td>\n",
       "      <td>6.917808</td>\n",
       "      <td>6.653391</td>\n",
       "      <td>5.856137</td>\n",
       "      <td>7.037029</td>\n",
       "      <td>3.538709</td>\n",
       "      <td>3.230769</td>\n",
       "      <td>1.538462</td>\n",
       "      <td>1.846154</td>\n",
       "      <td>2.653846</td>\n",
       "      <td>1.384615</td>\n",
       "    </tr>\n",
       "    <tr>\n",
       "      <th>4</th>\n",
       "      <td>osoba</td>\n",
       "      <td>1</td>\n",
       "      <td>27</td>\n",
       "      <td>U</td>\n",
       "      <td>4.073946</td>\n",
       "      <td>6.758921</td>\n",
       "      <td>6.898280</td>\n",
       "      <td>6.424064</td>\n",
       "      <td>6.990157</td>\n",
       "      <td>3.831505</td>\n",
       "      <td>4.000000</td>\n",
       "      <td>1.777778</td>\n",
       "      <td>1.629630</td>\n",
       "      <td>2.148148</td>\n",
       "      <td>1.518519</td>\n",
       "    </tr>\n",
       "    <tr>\n",
       "      <th>...</th>\n",
       "      <td>...</td>\n",
       "      <td>...</td>\n",
       "      <td>...</td>\n",
       "      <td>...</td>\n",
       "      <td>...</td>\n",
       "      <td>...</td>\n",
       "      <td>...</td>\n",
       "      <td>...</td>\n",
       "      <td>...</td>\n",
       "      <td>...</td>\n",
       "      <td>...</td>\n",
       "      <td>...</td>\n",
       "      <td>...</td>\n",
       "      <td>...</td>\n",
       "      <td>...</td>\n",
       "    </tr>\n",
       "    <tr>\n",
       "      <th>506</th>\n",
       "      <td>mały</td>\n",
       "      <td>65</td>\n",
       "      <td>11</td>\n",
       "      <td>U</td>\n",
       "      <td>5.035714</td>\n",
       "      <td>6.250182</td>\n",
       "      <td>5.944358</td>\n",
       "      <td>6.309173</td>\n",
       "      <td>6.428664</td>\n",
       "      <td>2.598630</td>\n",
       "      <td>2.538461</td>\n",
       "      <td>1.576923</td>\n",
       "      <td>1.769231</td>\n",
       "      <td>1.500000</td>\n",
       "      <td>1.384615</td>\n",
       "    </tr>\n",
       "    <tr>\n",
       "      <th>507</th>\n",
       "      <td>wzgląd</td>\n",
       "      <td>65</td>\n",
       "      <td>13</td>\n",
       "      <td>N</td>\n",
       "      <td>5.441959</td>\n",
       "      <td>5.953015</td>\n",
       "      <td>6.006329</td>\n",
       "      <td>6.079566</td>\n",
       "      <td>6.099884</td>\n",
       "      <td>1.658953</td>\n",
       "      <td>1.962963</td>\n",
       "      <td>1.518519</td>\n",
       "      <td>1.481481</td>\n",
       "      <td>1.407407</td>\n",
       "      <td>1.370370</td>\n",
       "    </tr>\n",
       "    <tr>\n",
       "      <th>508</th>\n",
       "      <td>ręka</td>\n",
       "      <td>65</td>\n",
       "      <td>22</td>\n",
       "      <td>N</td>\n",
       "      <td>4.221799</td>\n",
       "      <td>6.560292</td>\n",
       "      <td>6.526562</td>\n",
       "      <td>6.422952</td>\n",
       "      <td>6.483831</td>\n",
       "      <td>1.967826</td>\n",
       "      <td>2.884615</td>\n",
       "      <td>1.038462</td>\n",
       "      <td>1.076923</td>\n",
       "      <td>1.192308</td>\n",
       "      <td>1.115385</td>\n",
       "    </tr>\n",
       "    <tr>\n",
       "      <th>509</th>\n",
       "      <td>nos</td>\n",
       "      <td>65</td>\n",
       "      <td>27</td>\n",
       "      <td>N</td>\n",
       "      <td>5.199398</td>\n",
       "      <td>6.066920</td>\n",
       "      <td>6.157052</td>\n",
       "      <td>6.323314</td>\n",
       "      <td>6.193632</td>\n",
       "      <td>2.211236</td>\n",
       "      <td>2.296296</td>\n",
       "      <td>1.666667</td>\n",
       "      <td>1.555556</td>\n",
       "      <td>1.407407</td>\n",
       "      <td>1.518519</td>\n",
       "    </tr>\n",
       "    <tr>\n",
       "      <th>510</th>\n",
       "      <td>ilość</td>\n",
       "      <td>65</td>\n",
       "      <td>32</td>\n",
       "      <td>N</td>\n",
       "      <td>5.240964</td>\n",
       "      <td>6.070763</td>\n",
       "      <td>6.139657</td>\n",
       "      <td>6.023162</td>\n",
       "      <td>6.222974</td>\n",
       "      <td>1.612749</td>\n",
       "      <td>2.038461</td>\n",
       "      <td>1.384615</td>\n",
       "      <td>1.307692</td>\n",
       "      <td>1.423077</td>\n",
       "      <td>1.230769</td>\n",
       "    </tr>\n",
       "  </tbody>\n",
       "</table>\n",
       "<p>511 rows × 15 columns</p>\n",
       "</div>"
      ],
      "text/plain": [
       "         word  line_no  word_no category  distance to H  distance to A  \\\n",
       "0     miesiąc        0       10        N       5.225991       6.215194   \n",
       "1    szczepić        1        0        U       6.649793       6.738930   \n",
       "2        znać        1       13        U       2.901079       7.038951   \n",
       "3    początek        1       15        U       5.008894       6.917808   \n",
       "4       osoba        1       27        U       4.073946       6.758921   \n",
       "..        ...      ...      ...      ...            ...            ...   \n",
       "506      mały       65       11        U       5.035714       6.250182   \n",
       "507    wzgląd       65       13        N       5.441959       5.953015   \n",
       "508      ręka       65       22        N       4.221799       6.560292   \n",
       "509       nos       65       27        N       5.199398       6.066920   \n",
       "510     ilość       65       32        N       5.240964       6.070763   \n",
       "\n",
       "     distance to S  distance to F  distance to D  distance to N  \\\n",
       "0         6.199241       6.194709       6.605497       2.437150   \n",
       "1         6.717422       5.778473       6.531515       3.592245   \n",
       "2         6.974503       7.046381       6.993334       3.780188   \n",
       "3         6.653391       5.856137       7.037029       3.538709   \n",
       "4         6.898280       6.424064       6.990157       3.831505   \n",
       "..             ...            ...            ...            ...   \n",
       "506       5.944358       6.309173       6.428664       2.598630   \n",
       "507       6.006329       6.079566       6.099884       1.658953   \n",
       "508       6.526562       6.422952       6.483831       1.967826   \n",
       "509       6.157052       6.323314       6.193632       2.211236   \n",
       "510       6.139657       6.023162       6.222974       1.612749   \n",
       "\n",
       "     mean Happiness  mean Anger  mean Sadness  mean Fear  mean Disgust  \n",
       "0          2.518518    1.666667      1.740741   1.666667      1.259259  \n",
       "1          1.807692    2.038461      2.076923   2.923077      2.269231  \n",
       "2          4.538462    1.269231      1.346154   1.269231      1.307692  \n",
       "3          3.230769    1.538462      1.846154   2.653846      1.384615  \n",
       "4          4.000000    1.777778      1.629630   2.148148      1.518519  \n",
       "..              ...         ...           ...        ...           ...  \n",
       "506        2.538461    1.576923      1.769231   1.500000      1.384615  \n",
       "507        1.962963    1.518519      1.481481   1.407407      1.370370  \n",
       "508        2.884615    1.038462      1.076923   1.192308      1.115385  \n",
       "509        2.296296    1.666667      1.555556   1.407407      1.518519  \n",
       "510        2.038461    1.384615      1.307692   1.423077      1.230769  \n",
       "\n",
       "[511 rows x 15 columns]"
      ]
     },
     "execution_count": 43,
     "metadata": {},
     "output_type": "execute_result"
    }
   ],
   "source": [
    "def my_matcher(my_list_p, emo_list_data_frame):\n",
    "    data = []\n",
    "    line_no = 0\n",
    "    for line in my_list_p:\n",
    "        word_no = 0\n",
    "        for word in line:\n",
    "            emo_word_data_frame = emo_list_data_frame.loc[emo_list_data_frame[\"word\"] == word]\n",
    "            if not emo_word_data_frame.empty:\n",
    "                category = emo_word_data_frame[\"category\"].iloc[0]\n",
    "                data.append([word\n",
    "                             , line_no\n",
    "                             , word_no\n",
    "                             , emo_word_data_frame[\"category\"].iloc[0]\n",
    "                             , emo_word_data_frame[\"distance to H\"].iloc[0]\n",
    "                             , emo_word_data_frame[\"distance to A\"].iloc[0]\n",
    "                             , emo_word_data_frame[\"distance to S\"].iloc[0]\n",
    "                             , emo_word_data_frame[\"distance to F\"].iloc[0]\n",
    "                             , emo_word_data_frame[\"distance to D\"].iloc[0]\n",
    "                             , emo_word_data_frame[\"distance to N\"].iloc[0]\n",
    "                             , emo_word_data_frame[\"mean Happiness\"].iloc[0]\n",
    "                             , emo_word_data_frame[\"mean Anger\"].iloc[0]\n",
    "                             , emo_word_data_frame[\"mean Sadness\"].iloc[0]\n",
    "                             , emo_word_data_frame[\"mean Fear\"].iloc[0]\n",
    "                             , emo_word_data_frame[\"mean Disgust\"].iloc[0]\n",
    "                            ])\n",
    "            word_no = word_no + 1\n",
    "        line_no = line_no + 1\n",
    "\n",
    "    return pd.DataFrame(data, columns = [\n",
    "        \"word\"\n",
    "        , \"line_no\"\n",
    "        , \"word_no\"\n",
    "        , \"category\"\n",
    "        , \"distance to H\"\n",
    "        , \"distance to A\"\n",
    "        , \"distance to S\"\n",
    "        , \"distance to F\"\n",
    "        , \"distance to D\"\n",
    "        , \"distance to N\"\n",
    "        , \"mean Happiness\"\n",
    "        , \"mean Anger\"\n",
    "        , \"mean Sadness\"\n",
    "        , \"mean Fear\"\n",
    "        , \"mean Disgust\"\n",
    "    ])\n",
    "my_matcher(my_list, emo_data)"
   ]
  },
  {
   "cell_type": "markdown",
   "metadata": {},
   "source": [
    "### Ilość słów z każdej kategorii"
   ]
  },
  {
   "cell_type": "code",
   "execution_count": 41,
   "metadata": {},
   "outputs": [
    {
     "data": {
      "text/plain": [
       "U    428\n",
       "N     35\n",
       "H     20\n",
       "F     15\n",
       "D      8\n",
       "A      3\n",
       "S      2\n",
       "Name: category, dtype: int64"
      ]
     },
     "execution_count": 41,
     "metadata": {},
     "output_type": "execute_result"
    }
   ],
   "source": [
    "matched_data.category.value_counts()"
   ]
  },
  {
   "cell_type": "code",
   "execution_count": 2,
   "metadata": {},
   "outputs": [
    {
     "ename": "ModuleNotFoundError",
     "evalue": "No module named 'matplotlib'",
     "output_type": "error",
     "traceback": [
      "\u001b[1;31m---------------------------------------------------------------------------\u001b[0m",
      "\u001b[1;31mModuleNotFoundError\u001b[0m                       Traceback (most recent call last)",
      "\u001b[1;32m~\\AppData\\Local\\Temp/ipykernel_12556/2079592702.py\u001b[0m in \u001b[0;36m<module>\u001b[1;34m\u001b[0m\n\u001b[1;32m----> 1\u001b[1;33m \u001b[0mget_ipython\u001b[0m\u001b[1;33m(\u001b[0m\u001b[1;33m)\u001b[0m\u001b[1;33m.\u001b[0m\u001b[0mrun_line_magic\u001b[0m\u001b[1;33m(\u001b[0m\u001b[1;34m'matplotlib'\u001b[0m\u001b[1;33m,\u001b[0m \u001b[1;34m'inline'\u001b[0m\u001b[1;33m)\u001b[0m\u001b[1;33m\u001b[0m\u001b[1;33m\u001b[0m\u001b[0m\n\u001b[0m\u001b[0;32m      2\u001b[0m \u001b[1;32mimport\u001b[0m \u001b[0mmatplotlib\u001b[0m\u001b[1;33m.\u001b[0m\u001b[0mpyplot\u001b[0m \u001b[1;32mas\u001b[0m \u001b[0mplt\u001b[0m\u001b[1;33m\u001b[0m\u001b[1;33m\u001b[0m\u001b[0m\n\u001b[0;32m      3\u001b[0m \u001b[0mplt\u001b[0m\u001b[1;33m.\u001b[0m\u001b[0mstyle\u001b[0m\u001b[1;33m.\u001b[0m\u001b[0muse\u001b[0m\u001b[1;33m(\u001b[0m\u001b[1;34m'seaborn-whitegrid'\u001b[0m\u001b[1;33m)\u001b[0m\u001b[1;33m\u001b[0m\u001b[1;33m\u001b[0m\u001b[0m\n",
      "\u001b[1;32m~\\AppData\\Local\\Programs\\Python\\Python310\\lib\\site-packages\\IPython\\core\\interactiveshell.py\u001b[0m in \u001b[0;36mrun_line_magic\u001b[1;34m(self, magic_name, line, _stack_depth)\u001b[0m\n\u001b[0;32m   2362\u001b[0m                 \u001b[0mkwargs\u001b[0m\u001b[1;33m[\u001b[0m\u001b[1;34m'local_ns'\u001b[0m\u001b[1;33m]\u001b[0m \u001b[1;33m=\u001b[0m \u001b[0mself\u001b[0m\u001b[1;33m.\u001b[0m\u001b[0mget_local_scope\u001b[0m\u001b[1;33m(\u001b[0m\u001b[0mstack_depth\u001b[0m\u001b[1;33m)\u001b[0m\u001b[1;33m\u001b[0m\u001b[1;33m\u001b[0m\u001b[0m\n\u001b[0;32m   2363\u001b[0m             \u001b[1;32mwith\u001b[0m \u001b[0mself\u001b[0m\u001b[1;33m.\u001b[0m\u001b[0mbuiltin_trap\u001b[0m\u001b[1;33m:\u001b[0m\u001b[1;33m\u001b[0m\u001b[1;33m\u001b[0m\u001b[0m\n\u001b[1;32m-> 2364\u001b[1;33m                 \u001b[0mresult\u001b[0m \u001b[1;33m=\u001b[0m \u001b[0mfn\u001b[0m\u001b[1;33m(\u001b[0m\u001b[1;33m*\u001b[0m\u001b[0margs\u001b[0m\u001b[1;33m,\u001b[0m \u001b[1;33m**\u001b[0m\u001b[0mkwargs\u001b[0m\u001b[1;33m)\u001b[0m\u001b[1;33m\u001b[0m\u001b[1;33m\u001b[0m\u001b[0m\n\u001b[0m\u001b[0;32m   2365\u001b[0m             \u001b[1;32mreturn\u001b[0m \u001b[0mresult\u001b[0m\u001b[1;33m\u001b[0m\u001b[1;33m\u001b[0m\u001b[0m\n\u001b[0;32m   2366\u001b[0m \u001b[1;33m\u001b[0m\u001b[0m\n",
      "\u001b[1;32m~\\AppData\\Local\\Programs\\Python\\Python310\\lib\\site-packages\\decorator.py\u001b[0m in \u001b[0;36mfun\u001b[1;34m(*args, **kw)\u001b[0m\n\u001b[0;32m    230\u001b[0m             \u001b[1;32mif\u001b[0m \u001b[1;32mnot\u001b[0m \u001b[0mkwsyntax\u001b[0m\u001b[1;33m:\u001b[0m\u001b[1;33m\u001b[0m\u001b[1;33m\u001b[0m\u001b[0m\n\u001b[0;32m    231\u001b[0m                 \u001b[0margs\u001b[0m\u001b[1;33m,\u001b[0m \u001b[0mkw\u001b[0m \u001b[1;33m=\u001b[0m \u001b[0mfix\u001b[0m\u001b[1;33m(\u001b[0m\u001b[0margs\u001b[0m\u001b[1;33m,\u001b[0m \u001b[0mkw\u001b[0m\u001b[1;33m,\u001b[0m \u001b[0msig\u001b[0m\u001b[1;33m)\u001b[0m\u001b[1;33m\u001b[0m\u001b[1;33m\u001b[0m\u001b[0m\n\u001b[1;32m--> 232\u001b[1;33m             \u001b[1;32mreturn\u001b[0m \u001b[0mcaller\u001b[0m\u001b[1;33m(\u001b[0m\u001b[0mfunc\u001b[0m\u001b[1;33m,\u001b[0m \u001b[1;33m*\u001b[0m\u001b[1;33m(\u001b[0m\u001b[0mextras\u001b[0m \u001b[1;33m+\u001b[0m \u001b[0margs\u001b[0m\u001b[1;33m)\u001b[0m\u001b[1;33m,\u001b[0m \u001b[1;33m**\u001b[0m\u001b[0mkw\u001b[0m\u001b[1;33m)\u001b[0m\u001b[1;33m\u001b[0m\u001b[1;33m\u001b[0m\u001b[0m\n\u001b[0m\u001b[0;32m    233\u001b[0m     \u001b[0mfun\u001b[0m\u001b[1;33m.\u001b[0m\u001b[0m__name__\u001b[0m \u001b[1;33m=\u001b[0m \u001b[0mfunc\u001b[0m\u001b[1;33m.\u001b[0m\u001b[0m__name__\u001b[0m\u001b[1;33m\u001b[0m\u001b[1;33m\u001b[0m\u001b[0m\n\u001b[0;32m    234\u001b[0m     \u001b[0mfun\u001b[0m\u001b[1;33m.\u001b[0m\u001b[0m__doc__\u001b[0m \u001b[1;33m=\u001b[0m \u001b[0mfunc\u001b[0m\u001b[1;33m.\u001b[0m\u001b[0m__doc__\u001b[0m\u001b[1;33m\u001b[0m\u001b[1;33m\u001b[0m\u001b[0m\n",
      "\u001b[1;32m~\\AppData\\Local\\Programs\\Python\\Python310\\lib\\site-packages\\IPython\\core\\magic.py\u001b[0m in \u001b[0;36m<lambda>\u001b[1;34m(f, *a, **k)\u001b[0m\n\u001b[0;32m    185\u001b[0m     \u001b[1;31m# but it's overkill for just that one bit of state.\u001b[0m\u001b[1;33m\u001b[0m\u001b[1;33m\u001b[0m\u001b[0m\n\u001b[0;32m    186\u001b[0m     \u001b[1;32mdef\u001b[0m \u001b[0mmagic_deco\u001b[0m\u001b[1;33m(\u001b[0m\u001b[0marg\u001b[0m\u001b[1;33m)\u001b[0m\u001b[1;33m:\u001b[0m\u001b[1;33m\u001b[0m\u001b[1;33m\u001b[0m\u001b[0m\n\u001b[1;32m--> 187\u001b[1;33m         \u001b[0mcall\u001b[0m \u001b[1;33m=\u001b[0m \u001b[1;32mlambda\u001b[0m \u001b[0mf\u001b[0m\u001b[1;33m,\u001b[0m \u001b[1;33m*\u001b[0m\u001b[0ma\u001b[0m\u001b[1;33m,\u001b[0m \u001b[1;33m**\u001b[0m\u001b[0mk\u001b[0m\u001b[1;33m:\u001b[0m \u001b[0mf\u001b[0m\u001b[1;33m(\u001b[0m\u001b[1;33m*\u001b[0m\u001b[0ma\u001b[0m\u001b[1;33m,\u001b[0m \u001b[1;33m**\u001b[0m\u001b[0mk\u001b[0m\u001b[1;33m)\u001b[0m\u001b[1;33m\u001b[0m\u001b[1;33m\u001b[0m\u001b[0m\n\u001b[0m\u001b[0;32m    188\u001b[0m \u001b[1;33m\u001b[0m\u001b[0m\n\u001b[0;32m    189\u001b[0m         \u001b[1;32mif\u001b[0m \u001b[0mcallable\u001b[0m\u001b[1;33m(\u001b[0m\u001b[0marg\u001b[0m\u001b[1;33m)\u001b[0m\u001b[1;33m:\u001b[0m\u001b[1;33m\u001b[0m\u001b[1;33m\u001b[0m\u001b[0m\n",
      "\u001b[1;32m~\\AppData\\Local\\Programs\\Python\\Python310\\lib\\site-packages\\IPython\\core\\magics\\pylab.py\u001b[0m in \u001b[0;36mmatplotlib\u001b[1;34m(self, line)\u001b[0m\n\u001b[0;32m     97\u001b[0m             \u001b[0mprint\u001b[0m\u001b[1;33m(\u001b[0m\u001b[1;34m\"Available matplotlib backends: %s\"\u001b[0m \u001b[1;33m%\u001b[0m \u001b[0mbackends_list\u001b[0m\u001b[1;33m)\u001b[0m\u001b[1;33m\u001b[0m\u001b[1;33m\u001b[0m\u001b[0m\n\u001b[0;32m     98\u001b[0m         \u001b[1;32melse\u001b[0m\u001b[1;33m:\u001b[0m\u001b[1;33m\u001b[0m\u001b[1;33m\u001b[0m\u001b[0m\n\u001b[1;32m---> 99\u001b[1;33m             \u001b[0mgui\u001b[0m\u001b[1;33m,\u001b[0m \u001b[0mbackend\u001b[0m \u001b[1;33m=\u001b[0m \u001b[0mself\u001b[0m\u001b[1;33m.\u001b[0m\u001b[0mshell\u001b[0m\u001b[1;33m.\u001b[0m\u001b[0menable_matplotlib\u001b[0m\u001b[1;33m(\u001b[0m\u001b[0margs\u001b[0m\u001b[1;33m.\u001b[0m\u001b[0mgui\u001b[0m\u001b[1;33m.\u001b[0m\u001b[0mlower\u001b[0m\u001b[1;33m(\u001b[0m\u001b[1;33m)\u001b[0m \u001b[1;32mif\u001b[0m \u001b[0misinstance\u001b[0m\u001b[1;33m(\u001b[0m\u001b[0margs\u001b[0m\u001b[1;33m.\u001b[0m\u001b[0mgui\u001b[0m\u001b[1;33m,\u001b[0m \u001b[0mstr\u001b[0m\u001b[1;33m)\u001b[0m \u001b[1;32melse\u001b[0m \u001b[0margs\u001b[0m\u001b[1;33m.\u001b[0m\u001b[0mgui\u001b[0m\u001b[1;33m)\u001b[0m\u001b[1;33m\u001b[0m\u001b[1;33m\u001b[0m\u001b[0m\n\u001b[0m\u001b[0;32m    100\u001b[0m             \u001b[0mself\u001b[0m\u001b[1;33m.\u001b[0m\u001b[0m_show_matplotlib_backend\u001b[0m\u001b[1;33m(\u001b[0m\u001b[0margs\u001b[0m\u001b[1;33m.\u001b[0m\u001b[0mgui\u001b[0m\u001b[1;33m,\u001b[0m \u001b[0mbackend\u001b[0m\u001b[1;33m)\u001b[0m\u001b[1;33m\u001b[0m\u001b[1;33m\u001b[0m\u001b[0m\n\u001b[0;32m    101\u001b[0m \u001b[1;33m\u001b[0m\u001b[0m\n",
      "\u001b[1;32m~\\AppData\\Local\\Programs\\Python\\Python310\\lib\\site-packages\\IPython\\core\\interactiveshell.py\u001b[0m in \u001b[0;36menable_matplotlib\u001b[1;34m(self, gui)\u001b[0m\n\u001b[0;32m   3531\u001b[0m         \"\"\"\n\u001b[0;32m   3532\u001b[0m         \u001b[1;32mfrom\u001b[0m \u001b[0mIPython\u001b[0m\u001b[1;33m.\u001b[0m\u001b[0mcore\u001b[0m \u001b[1;32mimport\u001b[0m \u001b[0mpylabtools\u001b[0m \u001b[1;32mas\u001b[0m \u001b[0mpt\u001b[0m\u001b[1;33m\u001b[0m\u001b[1;33m\u001b[0m\u001b[0m\n\u001b[1;32m-> 3533\u001b[1;33m         \u001b[1;32mfrom\u001b[0m \u001b[0mmatplotlib_inline\u001b[0m\u001b[1;33m.\u001b[0m\u001b[0mbackend_inline\u001b[0m \u001b[1;32mimport\u001b[0m \u001b[0mconfigure_inline_support\u001b[0m\u001b[1;33m\u001b[0m\u001b[1;33m\u001b[0m\u001b[0m\n\u001b[0m\u001b[0;32m   3534\u001b[0m         \u001b[0mgui\u001b[0m\u001b[1;33m,\u001b[0m \u001b[0mbackend\u001b[0m \u001b[1;33m=\u001b[0m \u001b[0mpt\u001b[0m\u001b[1;33m.\u001b[0m\u001b[0mfind_gui_and_backend\u001b[0m\u001b[1;33m(\u001b[0m\u001b[0mgui\u001b[0m\u001b[1;33m,\u001b[0m \u001b[0mself\u001b[0m\u001b[1;33m.\u001b[0m\u001b[0mpylab_gui_select\u001b[0m\u001b[1;33m)\u001b[0m\u001b[1;33m\u001b[0m\u001b[1;33m\u001b[0m\u001b[0m\n\u001b[0;32m   3535\u001b[0m \u001b[1;33m\u001b[0m\u001b[0m\n",
      "\u001b[1;32m~\\AppData\\Local\\Programs\\Python\\Python310\\lib\\site-packages\\matplotlib_inline\\backend_inline.py\u001b[0m in \u001b[0;36m<module>\u001b[1;34m\u001b[0m\n\u001b[0;32m      4\u001b[0m \u001b[1;31m# Distributed under the terms of the BSD 3-Clause License.\u001b[0m\u001b[1;33m\u001b[0m\u001b[1;33m\u001b[0m\u001b[0m\n\u001b[0;32m      5\u001b[0m \u001b[1;33m\u001b[0m\u001b[0m\n\u001b[1;32m----> 6\u001b[1;33m \u001b[1;32mimport\u001b[0m \u001b[0mmatplotlib\u001b[0m\u001b[1;33m\u001b[0m\u001b[1;33m\u001b[0m\u001b[0m\n\u001b[0m\u001b[0;32m      7\u001b[0m from matplotlib.backends.backend_agg import (  # noqa\n\u001b[0;32m      8\u001b[0m     \u001b[0mnew_figure_manager\u001b[0m\u001b[1;33m,\u001b[0m\u001b[1;33m\u001b[0m\u001b[1;33m\u001b[0m\u001b[0m\n",
      "\u001b[1;31mModuleNotFoundError\u001b[0m: No module named 'matplotlib'"
     ]
    }
   ],
   "source": [
    "%matplotlib inline\n",
    "import matplotlib.pyplot as plt\n",
    "plt.style.use('seaborn-whitegrid')"
   ]
  },
  {
   "cell_type": "code",
   "execution_count": null,
   "metadata": {},
   "outputs": [],
   "source": []
  },
  {
   "cell_type": "code",
   "execution_count": null,
   "metadata": {},
   "outputs": [],
   "source": []
  },
  {
   "cell_type": "code",
   "execution_count": null,
   "metadata": {},
   "outputs": [],
   "source": []
  },
  {
   "cell_type": "code",
   "execution_count": null,
   "metadata": {},
   "outputs": [],
   "source": []
  },
  {
   "cell_type": "code",
   "execution_count": null,
   "metadata": {},
   "outputs": [],
   "source": []
  },
  {
   "cell_type": "code",
   "execution_count": null,
   "metadata": {},
   "outputs": [],
   "source": []
  },
  {
   "cell_type": "code",
   "execution_count": null,
   "metadata": {},
   "outputs": [],
   "source": []
  }
 ],
 "metadata": {
  "kernelspec": {
   "display_name": "Python 3 (ipykernel)",
   "language": "python",
   "name": "python3"
  },
  "language_info": {
   "codemirror_mode": {
    "name": "ipython",
    "version": 3
   },
   "file_extension": ".py",
   "mimetype": "text/x-python",
   "name": "python",
   "nbconvert_exporter": "python",
   "pygments_lexer": "ipython3",
   "version": "3.10.1"
  }
 },
 "nbformat": 4,
 "nbformat_minor": 2
}
